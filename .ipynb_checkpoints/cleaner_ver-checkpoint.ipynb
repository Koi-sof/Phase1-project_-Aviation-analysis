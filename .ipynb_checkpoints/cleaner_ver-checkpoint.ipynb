{
 "cells": [
  {
   "cell_type": "markdown",
   "id": "AQSNGES6NTAu",
   "metadata": {
    "id": "AQSNGES6NTAu"
   },
   "source": [
    "# **RISKS OF PURCHASING AND OPERATING AIRPLANES FOR COMMERCIAL AND PRIVATE ENTERPRISES**\n",
    "\n",
    "This analysis showcases the risks that can be incurred when operating aircrafts."
   ]
  },
  {
   "cell_type": "markdown",
   "id": "Sul1PTzhOh15",
   "metadata": {
    "id": "Sul1PTzhOh15"
   },
   "source": [
    "## **IMPORTS AND PREVIEW**\n"
   ]
  },
  {
   "cell_type": "code",
   "execution_count": 1,
   "id": "c19054f9-bb99-4e1d-84ae-ee26d29dab0f",
   "metadata": {
    "id": "c19054f9-bb99-4e1d-84ae-ee26d29dab0f"
   },
   "outputs": [],
   "source": [
    "import pandas as pd\n",
    "import numpy as np\n",
    "import seaborn as sns\n",
    "import matplotlib.pyplot as plt"
   ]
  },
  {
   "cell_type": "code",
   "execution_count": 2,
   "id": "8f33cb3a-c86b-4a62-a8e2-741d6a15495d",
   "metadata": {
    "colab": {
     "base_uri": "https://localhost:8080/"
    },
    "id": "8f33cb3a-c86b-4a62-a8e2-741d6a15495d",
    "outputId": "1515ef0b-9483-4e25-ce36-0b0e3f4b90bc"
   },
   "outputs": [
    {
     "name": "stderr",
     "output_type": "stream",
     "text": [
      "/tmp/ipykernel_47295/1486930290.py:1: DtypeWarning: Columns (6,7,17,23,28,31) have mixed types. Specify dtype option on import or set low_memory=False.\n",
      "  df = pd.read_csv('AviationData.csv')\n"
     ]
    }
   ],
   "source": [
    "df = pd.read_csv('AviationData.csv')"
   ]
  },
  {
   "cell_type": "markdown",
   "id": "HCJZREGxO0s8",
   "metadata": {
    "id": "HCJZREGxO0s8"
   },
   "source": [
    "### Familiarizing with the data"
   ]
  },
  {
   "cell_type": "code",
   "execution_count": 3,
   "id": "6422ef95-cd76-41ec-b3c0-4395b424442a",
   "metadata": {
    "colab": {
     "base_uri": "https://localhost:8080/"
    },
    "id": "6422ef95-cd76-41ec-b3c0-4395b424442a",
    "outputId": "01f2db06-6c49-46c6-8a7d-14f33097f1d8"
   },
   "outputs": [
    {
     "name": "stdout",
     "output_type": "stream",
     "text": [
      "<class 'pandas.core.frame.DataFrame'>\n",
      "RangeIndex: 88889 entries, 0 to 88888\n",
      "Data columns (total 32 columns):\n",
      " #   Column                  Non-Null Count  Dtype  \n",
      "---  ------                  --------------  -----  \n",
      " 0   Event.Id                88889 non-null  object \n",
      " 1   Investigation.Type      88889 non-null  object \n",
      " 2   Accident.Number         88889 non-null  object \n",
      " 3   Event.Date              88889 non-null  object \n",
      " 4   Location                88837 non-null  object \n",
      " 5   Country                 88663 non-null  object \n",
      " 6   Latitude                34382 non-null  object \n",
      " 7   Longitude               34373 non-null  object \n",
      " 8   Airport.Code            50132 non-null  object \n",
      " 9   Airport.Name            52703 non-null  object \n",
      " 10  Injury.Severity         87889 non-null  object \n",
      " 11  Aircraft.damage         85695 non-null  object \n",
      " 12  Aircraft.Category       32289 non-null  object \n",
      " 13  Registration.Number     87505 non-null  object \n",
      " 14  Make                    88826 non-null  object \n",
      " 15  Model                   88797 non-null  object \n",
      " 16  Amateur.Built           88787 non-null  object \n",
      " 17  Number.of.Engines       82806 non-null  object \n",
      " 18  Engine.Type             81792 non-null  object \n",
      " 19  FAR.Description         32026 non-null  object \n",
      " 20  Schedule                12582 non-null  object \n",
      " 21  Purpose.of.flight       82694 non-null  object \n",
      " 22  Air.carrier             16651 non-null  object \n",
      " 23  Total.Fatal.Injuries    77486 non-null  object \n",
      " 24  Total.Serious.Injuries  76380 non-null  float64\n",
      " 25  Total.Minor.Injuries    76956 non-null  float64\n",
      " 26  Total.Uninjured         82976 non-null  float64\n",
      " 27  Weather.Condition       84397 non-null  object \n",
      " 28  Broad.phase.of.flight   61726 non-null  object \n",
      " 29  Report.Status           82502 non-null  object \n",
      " 30  Publication.Date        75118 non-null  object \n",
      " 31  Unnamed: 31             26 non-null     object \n",
      "dtypes: float64(3), object(29)\n",
      "memory usage: 21.7+ MB\n"
     ]
    }
   ],
   "source": [
    "# checking which columns have been mentioned in the error above.\n",
    "df.info()"
   ]
  },
  {
   "cell_type": "raw",
   "id": "ad4c2896-3b08-4a60-8584-dab4d410d418",
   "metadata": {
    "id": "ad4c2896-3b08-4a60-8584-dab4d410d418"
   },
   "source": [
    "Out of the mentioned columns, I need column Number.of.Engines and Total.Fatal.Injuries. I will change the data type when i get to the individual columns when cleaning."
   ]
  },
  {
   "cell_type": "code",
   "execution_count": 4,
   "id": "0ef26bf6-5bc3-4ebd-bcaf-eff29e87654b",
   "metadata": {
    "colab": {
     "base_uri": "https://localhost:8080/",
     "height": 0
    },
    "id": "0ef26bf6-5bc3-4ebd-bcaf-eff29e87654b",
    "outputId": "13ff3bf0-c91f-46f9-bcb9-06fdc2b070c0"
   },
   "outputs": [
    {
     "data": {
      "text/html": [
       "<div>\n",
       "<style scoped>\n",
       "    .dataframe tbody tr th:only-of-type {\n",
       "        vertical-align: middle;\n",
       "    }\n",
       "\n",
       "    .dataframe tbody tr th {\n",
       "        vertical-align: top;\n",
       "    }\n",
       "\n",
       "    .dataframe thead th {\n",
       "        text-align: right;\n",
       "    }\n",
       "</style>\n",
       "<table border=\"1\" class=\"dataframe\">\n",
       "  <thead>\n",
       "    <tr style=\"text-align: right;\">\n",
       "      <th></th>\n",
       "      <th>Event.Id</th>\n",
       "      <th>Investigation.Type</th>\n",
       "      <th>Accident.Number</th>\n",
       "      <th>Event.Date</th>\n",
       "      <th>Location</th>\n",
       "      <th>Country</th>\n",
       "      <th>Latitude</th>\n",
       "      <th>Longitude</th>\n",
       "      <th>Airport.Code</th>\n",
       "      <th>Airport.Name</th>\n",
       "      <th>...</th>\n",
       "      <th>Air.carrier</th>\n",
       "      <th>Total.Fatal.Injuries</th>\n",
       "      <th>Total.Serious.Injuries</th>\n",
       "      <th>Total.Minor.Injuries</th>\n",
       "      <th>Total.Uninjured</th>\n",
       "      <th>Weather.Condition</th>\n",
       "      <th>Broad.phase.of.flight</th>\n",
       "      <th>Report.Status</th>\n",
       "      <th>Publication.Date</th>\n",
       "      <th>Unnamed: 31</th>\n",
       "    </tr>\n",
       "  </thead>\n",
       "  <tbody>\n",
       "    <tr>\n",
       "      <th>0</th>\n",
       "      <td>20001218X45444</td>\n",
       "      <td>Accident</td>\n",
       "      <td>SEA87LA080</td>\n",
       "      <td>1948-10-24</td>\n",
       "      <td>MOOSE CREEK, ID</td>\n",
       "      <td>United States</td>\n",
       "      <td>NaN</td>\n",
       "      <td>NaN</td>\n",
       "      <td>NaN</td>\n",
       "      <td>NaN</td>\n",
       "      <td>...</td>\n",
       "      <td>NaN</td>\n",
       "      <td>2</td>\n",
       "      <td>0.0</td>\n",
       "      <td>0.0</td>\n",
       "      <td>0.0</td>\n",
       "      <td>UNK</td>\n",
       "      <td>Cruise</td>\n",
       "      <td>Probable Cause</td>\n",
       "      <td>NaN</td>\n",
       "      <td>NaN</td>\n",
       "    </tr>\n",
       "    <tr>\n",
       "      <th>1</th>\n",
       "      <td>20001218X45447</td>\n",
       "      <td>Accident</td>\n",
       "      <td>LAX94LA336</td>\n",
       "      <td>1962-07-19</td>\n",
       "      <td>BRIDGEPORT, CA</td>\n",
       "      <td>United States</td>\n",
       "      <td>NaN</td>\n",
       "      <td>NaN</td>\n",
       "      <td>NaN</td>\n",
       "      <td>NaN</td>\n",
       "      <td>...</td>\n",
       "      <td>NaN</td>\n",
       "      <td>4</td>\n",
       "      <td>0.0</td>\n",
       "      <td>0.0</td>\n",
       "      <td>0.0</td>\n",
       "      <td>UNK</td>\n",
       "      <td>Unknown</td>\n",
       "      <td>Probable Cause</td>\n",
       "      <td>19-09-1996</td>\n",
       "      <td>NaN</td>\n",
       "    </tr>\n",
       "    <tr>\n",
       "      <th>2</th>\n",
       "      <td>20061025X01555</td>\n",
       "      <td>Accident</td>\n",
       "      <td>NYC07LA005</td>\n",
       "      <td>1974-08-30</td>\n",
       "      <td>Saltville, VA</td>\n",
       "      <td>United States</td>\n",
       "      <td>36.922223</td>\n",
       "      <td>-81.878056</td>\n",
       "      <td>NaN</td>\n",
       "      <td>NaN</td>\n",
       "      <td>...</td>\n",
       "      <td>NaN</td>\n",
       "      <td>3</td>\n",
       "      <td>NaN</td>\n",
       "      <td>NaN</td>\n",
       "      <td>NaN</td>\n",
       "      <td>IMC</td>\n",
       "      <td>Cruise</td>\n",
       "      <td>Probable Cause</td>\n",
       "      <td>26-02-2007</td>\n",
       "      <td>NaN</td>\n",
       "    </tr>\n",
       "    <tr>\n",
       "      <th>3</th>\n",
       "      <td>20001218X45448</td>\n",
       "      <td>Accident</td>\n",
       "      <td>LAX96LA321</td>\n",
       "      <td>1977-06-19</td>\n",
       "      <td>EUREKA, CA</td>\n",
       "      <td>United States</td>\n",
       "      <td>NaN</td>\n",
       "      <td>NaN</td>\n",
       "      <td>NaN</td>\n",
       "      <td>NaN</td>\n",
       "      <td>...</td>\n",
       "      <td>NaN</td>\n",
       "      <td>2</td>\n",
       "      <td>0.0</td>\n",
       "      <td>0.0</td>\n",
       "      <td>0.0</td>\n",
       "      <td>IMC</td>\n",
       "      <td>Cruise</td>\n",
       "      <td>Probable Cause</td>\n",
       "      <td>12-09-2000</td>\n",
       "      <td>NaN</td>\n",
       "    </tr>\n",
       "    <tr>\n",
       "      <th>4</th>\n",
       "      <td>20041105X01764</td>\n",
       "      <td>Accident</td>\n",
       "      <td>CHI79FA064</td>\n",
       "      <td>1979-08-02</td>\n",
       "      <td>Canton, OH</td>\n",
       "      <td>United States</td>\n",
       "      <td>NaN</td>\n",
       "      <td>NaN</td>\n",
       "      <td>NaN</td>\n",
       "      <td>NaN</td>\n",
       "      <td>...</td>\n",
       "      <td>NaN</td>\n",
       "      <td>1</td>\n",
       "      <td>2.0</td>\n",
       "      <td>NaN</td>\n",
       "      <td>0.0</td>\n",
       "      <td>VMC</td>\n",
       "      <td>Approach</td>\n",
       "      <td>Probable Cause</td>\n",
       "      <td>16-04-1980</td>\n",
       "      <td>NaN</td>\n",
       "    </tr>\n",
       "  </tbody>\n",
       "</table>\n",
       "<p>5 rows × 32 columns</p>\n",
       "</div>"
      ],
      "text/plain": [
       "         Event.Id Investigation.Type Accident.Number  Event.Date  \\\n",
       "0  20001218X45444           Accident      SEA87LA080  1948-10-24   \n",
       "1  20001218X45447           Accident      LAX94LA336  1962-07-19   \n",
       "2  20061025X01555           Accident      NYC07LA005  1974-08-30   \n",
       "3  20001218X45448           Accident      LAX96LA321  1977-06-19   \n",
       "4  20041105X01764           Accident      CHI79FA064  1979-08-02   \n",
       "\n",
       "          Location        Country   Latitude  Longitude Airport.Code  \\\n",
       "0  MOOSE CREEK, ID  United States        NaN        NaN          NaN   \n",
       "1   BRIDGEPORT, CA  United States        NaN        NaN          NaN   \n",
       "2    Saltville, VA  United States  36.922223 -81.878056          NaN   \n",
       "3       EUREKA, CA  United States        NaN        NaN          NaN   \n",
       "4       Canton, OH  United States        NaN        NaN          NaN   \n",
       "\n",
       "  Airport.Name  ... Air.carrier Total.Fatal.Injuries Total.Serious.Injuries  \\\n",
       "0          NaN  ...         NaN                    2                    0.0   \n",
       "1          NaN  ...         NaN                    4                    0.0   \n",
       "2          NaN  ...         NaN                    3                    NaN   \n",
       "3          NaN  ...         NaN                    2                    0.0   \n",
       "4          NaN  ...         NaN                    1                    2.0   \n",
       "\n",
       "  Total.Minor.Injuries Total.Uninjured Weather.Condition  \\\n",
       "0                  0.0             0.0               UNK   \n",
       "1                  0.0             0.0               UNK   \n",
       "2                  NaN             NaN               IMC   \n",
       "3                  0.0             0.0               IMC   \n",
       "4                  NaN             0.0               VMC   \n",
       "\n",
       "  Broad.phase.of.flight   Report.Status Publication.Date Unnamed: 31  \n",
       "0                Cruise  Probable Cause              NaN         NaN  \n",
       "1               Unknown  Probable Cause       19-09-1996         NaN  \n",
       "2                Cruise  Probable Cause       26-02-2007         NaN  \n",
       "3                Cruise  Probable Cause       12-09-2000         NaN  \n",
       "4              Approach  Probable Cause       16-04-1980         NaN  \n",
       "\n",
       "[5 rows x 32 columns]"
      ]
     },
     "execution_count": 4,
     "metadata": {},
     "output_type": "execute_result"
    }
   ],
   "source": [
    "df.head()"
   ]
  },
  {
   "cell_type": "code",
   "execution_count": 5,
   "id": "bf1ef53e-e974-47f8-bede-efd672322267",
   "metadata": {
    "colab": {
     "base_uri": "https://localhost:8080/",
     "height": 0
    },
    "id": "bf1ef53e-e974-47f8-bede-efd672322267",
    "outputId": "c670210c-e741-4ab5-e67b-93d2d5a7bf84"
   },
   "outputs": [
    {
     "data": {
      "text/html": [
       "<div>\n",
       "<style scoped>\n",
       "    .dataframe tbody tr th:only-of-type {\n",
       "        vertical-align: middle;\n",
       "    }\n",
       "\n",
       "    .dataframe tbody tr th {\n",
       "        vertical-align: top;\n",
       "    }\n",
       "\n",
       "    .dataframe thead th {\n",
       "        text-align: right;\n",
       "    }\n",
       "</style>\n",
       "<table border=\"1\" class=\"dataframe\">\n",
       "  <thead>\n",
       "    <tr style=\"text-align: right;\">\n",
       "      <th></th>\n",
       "      <th>Total.Serious.Injuries</th>\n",
       "      <th>Total.Minor.Injuries</th>\n",
       "      <th>Total.Uninjured</th>\n",
       "    </tr>\n",
       "  </thead>\n",
       "  <tbody>\n",
       "    <tr>\n",
       "      <th>count</th>\n",
       "      <td>76380.000000</td>\n",
       "      <td>76956.000000</td>\n",
       "      <td>82976.000000</td>\n",
       "    </tr>\n",
       "    <tr>\n",
       "      <th>mean</th>\n",
       "      <td>0.279864</td>\n",
       "      <td>0.357100</td>\n",
       "      <td>5.325444</td>\n",
       "    </tr>\n",
       "    <tr>\n",
       "      <th>std</th>\n",
       "      <td>1.544072</td>\n",
       "      <td>2.235634</td>\n",
       "      <td>27.913804</td>\n",
       "    </tr>\n",
       "    <tr>\n",
       "      <th>min</th>\n",
       "      <td>0.000000</td>\n",
       "      <td>0.000000</td>\n",
       "      <td>0.000000</td>\n",
       "    </tr>\n",
       "    <tr>\n",
       "      <th>25%</th>\n",
       "      <td>0.000000</td>\n",
       "      <td>0.000000</td>\n",
       "      <td>0.000000</td>\n",
       "    </tr>\n",
       "    <tr>\n",
       "      <th>50%</th>\n",
       "      <td>0.000000</td>\n",
       "      <td>0.000000</td>\n",
       "      <td>1.000000</td>\n",
       "    </tr>\n",
       "    <tr>\n",
       "      <th>75%</th>\n",
       "      <td>0.000000</td>\n",
       "      <td>0.000000</td>\n",
       "      <td>2.000000</td>\n",
       "    </tr>\n",
       "    <tr>\n",
       "      <th>max</th>\n",
       "      <td>161.000000</td>\n",
       "      <td>380.000000</td>\n",
       "      <td>699.000000</td>\n",
       "    </tr>\n",
       "  </tbody>\n",
       "</table>\n",
       "</div>"
      ],
      "text/plain": [
       "       Total.Serious.Injuries  Total.Minor.Injuries  Total.Uninjured\n",
       "count            76380.000000          76956.000000     82976.000000\n",
       "mean                 0.279864              0.357100         5.325444\n",
       "std                  1.544072              2.235634        27.913804\n",
       "min                  0.000000              0.000000         0.000000\n",
       "25%                  0.000000              0.000000         0.000000\n",
       "50%                  0.000000              0.000000         1.000000\n",
       "75%                  0.000000              0.000000         2.000000\n",
       "max                161.000000            380.000000       699.000000"
      ]
     },
     "execution_count": 5,
     "metadata": {},
     "output_type": "execute_result"
    }
   ],
   "source": [
    "df.describe()"
   ]
  },
  {
   "cell_type": "code",
   "execution_count": 6,
   "id": "01b59e0f-b0ab-4336-8946-53ef76eaf252",
   "metadata": {
    "colab": {
     "base_uri": "https://localhost:8080/",
     "height": 0
    },
    "id": "01b59e0f-b0ab-4336-8946-53ef76eaf252",
    "outputId": "d6468ec2-09c2-4a93-97f4-c896c36b6833"
   },
   "outputs": [
    {
     "data": {
      "text/plain": [
       "Event.Id                      0\n",
       "Investigation.Type            0\n",
       "Accident.Number               0\n",
       "Event.Date                    0\n",
       "Location                     52\n",
       "Country                     226\n",
       "Latitude                  54507\n",
       "Longitude                 54516\n",
       "Airport.Code              38757\n",
       "Airport.Name              36186\n",
       "Injury.Severity            1000\n",
       "Aircraft.damage            3194\n",
       "Aircraft.Category         56600\n",
       "Registration.Number        1384\n",
       "Make                         63\n",
       "Model                        92\n",
       "Amateur.Built               102\n",
       "Number.of.Engines          6083\n",
       "Engine.Type                7097\n",
       "FAR.Description           56863\n",
       "Schedule                  76307\n",
       "Purpose.of.flight          6195\n",
       "Air.carrier               72238\n",
       "Total.Fatal.Injuries      11403\n",
       "Total.Serious.Injuries    12509\n",
       "Total.Minor.Injuries      11933\n",
       "Total.Uninjured            5913\n",
       "Weather.Condition          4492\n",
       "Broad.phase.of.flight     27163\n",
       "Report.Status              6387\n",
       "Publication.Date          13771\n",
       "Unnamed: 31               88863\n",
       "dtype: int64"
      ]
     },
     "execution_count": 6,
     "metadata": {},
     "output_type": "execute_result"
    }
   ],
   "source": [
    "# checking for missing values\n",
    "df.isnull().sum()"
   ]
  },
  {
   "cell_type": "markdown",
   "id": "7jwTsv7hPB8n",
   "metadata": {
    "id": "7jwTsv7hPB8n"
   },
   "source": [
    "## **DATA** **CLEANING**"
   ]
  },
  {
   "cell_type": "markdown",
   "id": "5c4cd9b1-d92e-40d1-95a7-35f86005b855",
   "metadata": {
    "id": "5c4cd9b1-d92e-40d1-95a7-35f86005b855"
   },
   "source": [
    "### Dropping Columns"
   ]
  },
  {
   "cell_type": "code",
   "execution_count": 7,
   "id": "d22895b0-c70b-4cbc-9ce5-114af6761061",
   "metadata": {
    "id": "d22895b0-c70b-4cbc-9ce5-114af6761061"
   },
   "outputs": [],
   "source": [
    "# dropping columns with more than 30,000 missing values which adds up to about 33% of the total\n",
    "#number of entries\n",
    "df.drop(['Latitude', 'Longitude', 'Airport.Code', 'Airport.Name', 'Aircraft.Category', 'FAR.Description', 'Schedule', 'Air.carrier', 'Broad.phase.of.flight', 'Unnamed: 31'], axis = 1, inplace = True)"
   ]
  },
  {
   "cell_type": "code",
   "execution_count": 8,
   "id": "b3d9808b-6af0-48c8-861e-229bd7490892",
   "metadata": {
    "id": "b3d9808b-6af0-48c8-861e-229bd7490892"
   },
   "outputs": [],
   "source": [
    "# Dropping columns that will not be necessary in my analysis.\n",
    "df.drop(['Accident.Number', 'Registration.Number', 'Report.Status', 'Publication.Date'], axis = 1, inplace = True)"
   ]
  },
  {
   "cell_type": "code",
   "execution_count": 9,
   "id": "84648dd8-7727-4870-9100-98385a31b009",
   "metadata": {
    "colab": {
     "base_uri": "https://localhost:8080/"
    },
    "id": "84648dd8-7727-4870-9100-98385a31b009",
    "outputId": "a95eead0-b14b-487f-bf35-01d4064e9961"
   },
   "outputs": [
    {
     "data": {
      "text/plain": [
       "Index(['Event.Id', 'Investigation.Type', 'Event.Date', 'Location', 'Country',\n",
       "       'Injury.Severity', 'Aircraft.damage', 'Make', 'Model', 'Amateur.Built',\n",
       "       'Number.of.Engines', 'Engine.Type', 'Purpose.of.flight',\n",
       "       'Total.Fatal.Injuries', 'Total.Serious.Injuries',\n",
       "       'Total.Minor.Injuries', 'Total.Uninjured', 'Weather.Condition'],\n",
       "      dtype='object')"
      ]
     },
     "execution_count": 9,
     "metadata": {},
     "output_type": "execute_result"
    }
   ],
   "source": [
    "df.columns"
   ]
  },
  {
   "cell_type": "code",
   "execution_count": 10,
   "id": "f9b1afbe-ea42-4c7f-9fda-28ce60e78b3b",
   "metadata": {
    "colab": {
     "base_uri": "https://localhost:8080/"
    },
    "id": "f9b1afbe-ea42-4c7f-9fda-28ce60e78b3b",
    "outputId": "ea9637cf-c097-457f-dcd6-7dfac71f2476"
   },
   "outputs": [
    {
     "name": "stdout",
     "output_type": "stream",
     "text": [
      "<class 'pandas.core.frame.DataFrame'>\n",
      "RangeIndex: 88889 entries, 0 to 88888\n",
      "Data columns (total 18 columns):\n",
      " #   Column                  Non-Null Count  Dtype  \n",
      "---  ------                  --------------  -----  \n",
      " 0   Event.Id                88889 non-null  object \n",
      " 1   Investigation.Type      88889 non-null  object \n",
      " 2   Event.Date              88889 non-null  object \n",
      " 3   Location                88837 non-null  object \n",
      " 4   Country                 88663 non-null  object \n",
      " 5   Injury.Severity         87889 non-null  object \n",
      " 6   Aircraft.damage         85695 non-null  object \n",
      " 7   Make                    88826 non-null  object \n",
      " 8   Model                   88797 non-null  object \n",
      " 9   Amateur.Built           88787 non-null  object \n",
      " 10  Number.of.Engines       82806 non-null  object \n",
      " 11  Engine.Type             81792 non-null  object \n",
      " 12  Purpose.of.flight       82694 non-null  object \n",
      " 13  Total.Fatal.Injuries    77486 non-null  object \n",
      " 14  Total.Serious.Injuries  76380 non-null  float64\n",
      " 15  Total.Minor.Injuries    76956 non-null  float64\n",
      " 16  Total.Uninjured         82976 non-null  float64\n",
      " 17  Weather.Condition       84397 non-null  object \n",
      "dtypes: float64(3), object(15)\n",
      "memory usage: 12.2+ MB\n"
     ]
    }
   ],
   "source": [
    "df.info()"
   ]
  },
  {
   "cell_type": "code",
   "execution_count": 11,
   "id": "onW8AgZ1XzNa",
   "metadata": {
    "colab": {
     "base_uri": "https://localhost:8080/",
     "height": 147
    },
    "id": "onW8AgZ1XzNa",
    "outputId": "0e065255-ed69-46b1-e7eb-9b54a473152b"
   },
   "outputs": [
    {
     "data": {
      "text/plain": [
       "False    88851\n",
       "True        38\n",
       "Name: count, dtype: int64"
      ]
     },
     "execution_count": 11,
     "metadata": {},
     "output_type": "execute_result"
    }
   ],
   "source": [
    "df.duplicated().value_counts()"
   ]
  },
  {
   "cell_type": "code",
   "execution_count": 12,
   "id": "79974ea4-cdfc-4cec-a81b-6557dc6791f5",
   "metadata": {
    "colab": {
     "base_uri": "https://localhost:8080/",
     "height": 583
    },
    "id": "79974ea4-cdfc-4cec-a81b-6557dc6791f5",
    "outputId": "e024b98a-6f87-4873-e7d4-61a19f28f1dd"
   },
   "outputs": [
    {
     "data": {
      "text/html": [
       "<div>\n",
       "<style scoped>\n",
       "    .dataframe tbody tr th:only-of-type {\n",
       "        vertical-align: middle;\n",
       "    }\n",
       "\n",
       "    .dataframe tbody tr th {\n",
       "        vertical-align: top;\n",
       "    }\n",
       "\n",
       "    .dataframe thead th {\n",
       "        text-align: right;\n",
       "    }\n",
       "</style>\n",
       "<table border=\"1\" class=\"dataframe\">\n",
       "  <thead>\n",
       "    <tr style=\"text-align: right;\">\n",
       "      <th></th>\n",
       "      <th>Event.Id</th>\n",
       "      <th>Investigation.Type</th>\n",
       "      <th>Event.Date</th>\n",
       "      <th>Location</th>\n",
       "      <th>Country</th>\n",
       "      <th>Injury.Severity</th>\n",
       "      <th>Aircraft.damage</th>\n",
       "      <th>Make</th>\n",
       "      <th>Model</th>\n",
       "      <th>Amateur.Built</th>\n",
       "      <th>Number.of.Engines</th>\n",
       "      <th>Engine.Type</th>\n",
       "      <th>Purpose.of.flight</th>\n",
       "      <th>Total.Fatal.Injuries</th>\n",
       "      <th>Total.Serious.Injuries</th>\n",
       "      <th>Total.Minor.Injuries</th>\n",
       "      <th>Total.Uninjured</th>\n",
       "      <th>Weather.Condition</th>\n",
       "    </tr>\n",
       "  </thead>\n",
       "  <tbody>\n",
       "    <tr>\n",
       "      <th>34512</th>\n",
       "      <td>20001206X00768</td>\n",
       "      <td>Accident</td>\n",
       "      <td>1994-02-12</td>\n",
       "      <td>GRAND CANYON, AZ</td>\n",
       "      <td>United States</td>\n",
       "      <td>Non-Fatal</td>\n",
       "      <td>Substantial</td>\n",
       "      <td>Cessna</td>\n",
       "      <td>402C</td>\n",
       "      <td>No</td>\n",
       "      <td>2</td>\n",
       "      <td>Reciprocating</td>\n",
       "      <td>Positioning</td>\n",
       "      <td>0.0</td>\n",
       "      <td>0.0</td>\n",
       "      <td>0.0</td>\n",
       "      <td>3.0</td>\n",
       "      <td>VMC</td>\n",
       "    </tr>\n",
       "    <tr>\n",
       "      <th>34513</th>\n",
       "      <td>20001206X00768</td>\n",
       "      <td>Accident</td>\n",
       "      <td>1994-02-12</td>\n",
       "      <td>GRAND CANYON, AZ</td>\n",
       "      <td>United States</td>\n",
       "      <td>Non-Fatal</td>\n",
       "      <td>Substantial</td>\n",
       "      <td>Cessna</td>\n",
       "      <td>402C</td>\n",
       "      <td>No</td>\n",
       "      <td>2</td>\n",
       "      <td>Reciprocating</td>\n",
       "      <td>Positioning</td>\n",
       "      <td>0.0</td>\n",
       "      <td>0.0</td>\n",
       "      <td>0.0</td>\n",
       "      <td>3.0</td>\n",
       "      <td>VMC</td>\n",
       "    </tr>\n",
       "    <tr>\n",
       "      <th>34847</th>\n",
       "      <td>20001206X01157</td>\n",
       "      <td>Accident</td>\n",
       "      <td>1994-04-10</td>\n",
       "      <td>OKEECHOBEE, FL</td>\n",
       "      <td>United States</td>\n",
       "      <td>Non-Fatal</td>\n",
       "      <td>Substantial</td>\n",
       "      <td>Globe</td>\n",
       "      <td>9C-1B</td>\n",
       "      <td>No</td>\n",
       "      <td>1</td>\n",
       "      <td>Reciprocating</td>\n",
       "      <td>Unknown</td>\n",
       "      <td>0.0</td>\n",
       "      <td>0.0</td>\n",
       "      <td>0.0</td>\n",
       "      <td>2.0</td>\n",
       "      <td>VMC</td>\n",
       "    </tr>\n",
       "    <tr>\n",
       "      <th>34846</th>\n",
       "      <td>20001206X01157</td>\n",
       "      <td>Accident</td>\n",
       "      <td>1994-04-10</td>\n",
       "      <td>OKEECHOBEE, FL</td>\n",
       "      <td>United States</td>\n",
       "      <td>Non-Fatal</td>\n",
       "      <td>Substantial</td>\n",
       "      <td>Globe</td>\n",
       "      <td>9C-1B</td>\n",
       "      <td>No</td>\n",
       "      <td>1</td>\n",
       "      <td>Reciprocating</td>\n",
       "      <td>Unknown</td>\n",
       "      <td>0.0</td>\n",
       "      <td>0.0</td>\n",
       "      <td>0.0</td>\n",
       "      <td>2.0</td>\n",
       "      <td>VMC</td>\n",
       "    </tr>\n",
       "    <tr>\n",
       "      <th>35076</th>\n",
       "      <td>20001206X01324</td>\n",
       "      <td>Accident</td>\n",
       "      <td>1994-05-19</td>\n",
       "      <td>STOCKTON, CA</td>\n",
       "      <td>United States</td>\n",
       "      <td>Non-Fatal</td>\n",
       "      <td>Substantial</td>\n",
       "      <td>Robinson</td>\n",
       "      <td>R22-B</td>\n",
       "      <td>No</td>\n",
       "      <td>1</td>\n",
       "      <td>Reciprocating</td>\n",
       "      <td>Other Work Use</td>\n",
       "      <td>0.0</td>\n",
       "      <td>0.0</td>\n",
       "      <td>1.0</td>\n",
       "      <td>1.0</td>\n",
       "      <td>VMC</td>\n",
       "    </tr>\n",
       "    <tr>\n",
       "      <th>...</th>\n",
       "      <td>...</td>\n",
       "      <td>...</td>\n",
       "      <td>...</td>\n",
       "      <td>...</td>\n",
       "      <td>...</td>\n",
       "      <td>...</td>\n",
       "      <td>...</td>\n",
       "      <td>...</td>\n",
       "      <td>...</td>\n",
       "      <td>...</td>\n",
       "      <td>...</td>\n",
       "      <td>...</td>\n",
       "      <td>...</td>\n",
       "      <td>...</td>\n",
       "      <td>...</td>\n",
       "      <td>...</td>\n",
       "      <td>...</td>\n",
       "      <td>...</td>\n",
       "    </tr>\n",
       "    <tr>\n",
       "      <th>63296</th>\n",
       "      <td>20070917X01400</td>\n",
       "      <td>Accident</td>\n",
       "      <td>2007-09-02</td>\n",
       "      <td>FARMINGDALE, NY</td>\n",
       "      <td>United States</td>\n",
       "      <td>Non-Fatal</td>\n",
       "      <td>Substantial</td>\n",
       "      <td>North American</td>\n",
       "      <td>SNJ-2</td>\n",
       "      <td>No</td>\n",
       "      <td>1</td>\n",
       "      <td>Reciprocating</td>\n",
       "      <td>Other Work Use</td>\n",
       "      <td>NaN</td>\n",
       "      <td>NaN</td>\n",
       "      <td>NaN</td>\n",
       "      <td>2.0</td>\n",
       "      <td>VMC</td>\n",
       "    </tr>\n",
       "    <tr>\n",
       "      <th>88386</th>\n",
       "      <td>20220822105776</td>\n",
       "      <td>Accident</td>\n",
       "      <td>2022-08-20</td>\n",
       "      <td>Bealeton, VA</td>\n",
       "      <td>United States</td>\n",
       "      <td>Minor</td>\n",
       "      <td>Substantial</td>\n",
       "      <td>BOEING</td>\n",
       "      <td>A75N1</td>\n",
       "      <td>No</td>\n",
       "      <td>1.0</td>\n",
       "      <td>NaN</td>\n",
       "      <td>Business</td>\n",
       "      <td>0</td>\n",
       "      <td>2.0</td>\n",
       "      <td>0.0</td>\n",
       "      <td>2.0</td>\n",
       "      <td>VMC</td>\n",
       "    </tr>\n",
       "    <tr>\n",
       "      <th>88387</th>\n",
       "      <td>20220822105776</td>\n",
       "      <td>Accident</td>\n",
       "      <td>2022-08-20</td>\n",
       "      <td>Bealeton, VA</td>\n",
       "      <td>United States</td>\n",
       "      <td>Minor</td>\n",
       "      <td>Substantial</td>\n",
       "      <td>BOEING</td>\n",
       "      <td>A75N1</td>\n",
       "      <td>No</td>\n",
       "      <td>1.0</td>\n",
       "      <td>NaN</td>\n",
       "      <td>Business</td>\n",
       "      <td>0</td>\n",
       "      <td>2.0</td>\n",
       "      <td>0.0</td>\n",
       "      <td>2.0</td>\n",
       "      <td>VMC</td>\n",
       "    </tr>\n",
       "    <tr>\n",
       "      <th>88527</th>\n",
       "      <td>20220921105978</td>\n",
       "      <td>Incident</td>\n",
       "      <td>2022-09-14</td>\n",
       "      <td>Mumbai,</td>\n",
       "      <td>India</td>\n",
       "      <td>NaN</td>\n",
       "      <td>NaN</td>\n",
       "      <td>BOEING</td>\n",
       "      <td>787</td>\n",
       "      <td>No</td>\n",
       "      <td>NaN</td>\n",
       "      <td>NaN</td>\n",
       "      <td>NaN</td>\n",
       "      <td>0</td>\n",
       "      <td>0.0</td>\n",
       "      <td>0.0</td>\n",
       "      <td>0.0</td>\n",
       "      <td>NaN</td>\n",
       "    </tr>\n",
       "    <tr>\n",
       "      <th>88528</th>\n",
       "      <td>20220921105978</td>\n",
       "      <td>Incident</td>\n",
       "      <td>2022-09-14</td>\n",
       "      <td>Mumbai,</td>\n",
       "      <td>India</td>\n",
       "      <td>NaN</td>\n",
       "      <td>NaN</td>\n",
       "      <td>BOEING</td>\n",
       "      <td>787</td>\n",
       "      <td>No</td>\n",
       "      <td>NaN</td>\n",
       "      <td>NaN</td>\n",
       "      <td>NaN</td>\n",
       "      <td>0</td>\n",
       "      <td>0.0</td>\n",
       "      <td>0.0</td>\n",
       "      <td>0.0</td>\n",
       "      <td>NaN</td>\n",
       "    </tr>\n",
       "  </tbody>\n",
       "</table>\n",
       "<p>76 rows × 18 columns</p>\n",
       "</div>"
      ],
      "text/plain": [
       "             Event.Id Investigation.Type  Event.Date          Location  \\\n",
       "34512  20001206X00768           Accident  1994-02-12  GRAND CANYON, AZ   \n",
       "34513  20001206X00768           Accident  1994-02-12  GRAND CANYON, AZ   \n",
       "34847  20001206X01157           Accident  1994-04-10    OKEECHOBEE, FL   \n",
       "34846  20001206X01157           Accident  1994-04-10    OKEECHOBEE, FL   \n",
       "35076  20001206X01324           Accident  1994-05-19      STOCKTON, CA   \n",
       "...               ...                ...         ...               ...   \n",
       "63296  20070917X01400           Accident  2007-09-02   FARMINGDALE, NY   \n",
       "88386  20220822105776           Accident  2022-08-20      Bealeton, VA   \n",
       "88387  20220822105776           Accident  2022-08-20      Bealeton, VA   \n",
       "88527  20220921105978           Incident  2022-09-14          Mumbai,    \n",
       "88528  20220921105978           Incident  2022-09-14          Mumbai,    \n",
       "\n",
       "             Country Injury.Severity Aircraft.damage            Make  Model  \\\n",
       "34512  United States       Non-Fatal     Substantial          Cessna   402C   \n",
       "34513  United States       Non-Fatal     Substantial          Cessna   402C   \n",
       "34847  United States       Non-Fatal     Substantial           Globe  9C-1B   \n",
       "34846  United States       Non-Fatal     Substantial           Globe  9C-1B   \n",
       "35076  United States       Non-Fatal     Substantial        Robinson  R22-B   \n",
       "...              ...             ...             ...             ...    ...   \n",
       "63296  United States       Non-Fatal     Substantial  North American  SNJ-2   \n",
       "88386  United States           Minor     Substantial          BOEING  A75N1   \n",
       "88387  United States           Minor     Substantial          BOEING  A75N1   \n",
       "88527          India             NaN             NaN          BOEING    787   \n",
       "88528          India             NaN             NaN          BOEING    787   \n",
       "\n",
       "      Amateur.Built Number.of.Engines    Engine.Type Purpose.of.flight  \\\n",
       "34512            No                 2  Reciprocating       Positioning   \n",
       "34513            No                 2  Reciprocating       Positioning   \n",
       "34847            No                 1  Reciprocating           Unknown   \n",
       "34846            No                 1  Reciprocating           Unknown   \n",
       "35076            No                 1  Reciprocating    Other Work Use   \n",
       "...             ...               ...            ...               ...   \n",
       "63296            No                 1  Reciprocating    Other Work Use   \n",
       "88386            No               1.0            NaN          Business   \n",
       "88387            No               1.0            NaN          Business   \n",
       "88527            No               NaN            NaN               NaN   \n",
       "88528            No               NaN            NaN               NaN   \n",
       "\n",
       "      Total.Fatal.Injuries  Total.Serious.Injuries  Total.Minor.Injuries  \\\n",
       "34512                  0.0                     0.0                   0.0   \n",
       "34513                  0.0                     0.0                   0.0   \n",
       "34847                  0.0                     0.0                   0.0   \n",
       "34846                  0.0                     0.0                   0.0   \n",
       "35076                  0.0                     0.0                   1.0   \n",
       "...                    ...                     ...                   ...   \n",
       "63296                  NaN                     NaN                   NaN   \n",
       "88386                    0                     2.0                   0.0   \n",
       "88387                    0                     2.0                   0.0   \n",
       "88527                    0                     0.0                   0.0   \n",
       "88528                    0                     0.0                   0.0   \n",
       "\n",
       "       Total.Uninjured Weather.Condition  \n",
       "34512              3.0               VMC  \n",
       "34513              3.0               VMC  \n",
       "34847              2.0               VMC  \n",
       "34846              2.0               VMC  \n",
       "35076              1.0               VMC  \n",
       "...                ...               ...  \n",
       "63296              2.0               VMC  \n",
       "88386              2.0               VMC  \n",
       "88387              2.0               VMC  \n",
       "88527              0.0               NaN  \n",
       "88528              0.0               NaN  \n",
       "\n",
       "[76 rows x 18 columns]"
      ]
     },
     "execution_count": 12,
     "metadata": {},
     "output_type": "execute_result"
    }
   ],
   "source": [
    "df[df.duplicated(keep=False)].sort_values(by='Event.Id')"
   ]
  },
  {
   "cell_type": "code",
   "execution_count": 13,
   "id": "kZPTCPekYOUf",
   "metadata": {
    "colab": {
     "base_uri": "https://localhost:8080/"
    },
    "id": "kZPTCPekYOUf",
    "outputId": "984d082b-cd2d-4160-9511-75c838e32992"
   },
   "outputs": [
    {
     "data": {
      "text/plain": [
       "(88851, 18)"
      ]
     },
     "execution_count": 13,
     "metadata": {},
     "output_type": "execute_result"
    }
   ],
   "source": [
    "df = df.drop_duplicates()\n",
    "df.shape"
   ]
  },
  {
   "cell_type": "markdown",
   "id": "d3bea5c2-320e-4cb0-9e2f-20c66481a5c2",
   "metadata": {
    "id": "d3bea5c2-320e-4cb0-9e2f-20c66481a5c2"
   },
   "source": [
    "###Working on individual columns"
   ]
  },
  {
   "cell_type": "markdown",
   "id": "57a02ffd-ff91-43e8-a2a0-a5bef3e67623",
   "metadata": {
    "id": "57a02ffd-ff91-43e8-a2a0-a5bef3e67623"
   },
   "source": [
    "####Location"
   ]
  },
  {
   "cell_type": "code",
   "execution_count": 14,
   "id": "265dc44d-fdb5-488f-bfe9-7dd8ab902a88",
   "metadata": {
    "colab": {
     "base_uri": "https://localhost:8080/"
    },
    "id": "265dc44d-fdb5-488f-bfe9-7dd8ab902a88",
    "outputId": "0571aa86-cee5-4f8a-b0f9-1ae7a293d8f7"
   },
   "outputs": [
    {
     "data": {
      "text/plain": [
       "52"
      ]
     },
     "execution_count": 14,
     "metadata": {},
     "output_type": "execute_result"
    }
   ],
   "source": [
    "df['Location'].isnull().sum()"
   ]
  },
  {
   "cell_type": "code",
   "execution_count": 15,
   "id": "a04e993d-49d6-4050-b6c5-c7b3e69c7c0e",
   "metadata": {
    "colab": {
     "base_uri": "https://localhost:8080/"
    },
    "id": "a04e993d-49d6-4050-b6c5-c7b3e69c7c0e",
    "outputId": "c83eec0b-c7dc-494f-9974-9c6dae4bba43"
   },
   "outputs": [
    {
     "data": {
      "text/plain": [
       "array(['MOOSE CREEK, ID', 'BRIDGEPORT, CA', 'Saltville, VA', ...,\n",
       "       'San Manual, AZ', 'Auburn Hills, MI', 'Brasnorte, '], dtype=object)"
      ]
     },
     "execution_count": 15,
     "metadata": {},
     "output_type": "execute_result"
    }
   ],
   "source": [
    "df['Location'].unique()"
   ]
  },
  {
   "cell_type": "code",
   "execution_count": 16,
   "id": "fc09e40a-3b71-4577-8817-29b488ddc9df",
   "metadata": {
    "colab": {
     "base_uri": "https://localhost:8080/",
     "height": 739
    },
    "id": "fc09e40a-3b71-4577-8817-29b488ddc9df",
    "outputId": "56044f33-cedb-4f33-81e5-be7de92a691c"
   },
   "outputs": [
    {
     "data": {
      "text/html": [
       "<div>\n",
       "<style scoped>\n",
       "    .dataframe tbody tr th:only-of-type {\n",
       "        vertical-align: middle;\n",
       "    }\n",
       "\n",
       "    .dataframe tbody tr th {\n",
       "        vertical-align: top;\n",
       "    }\n",
       "\n",
       "    .dataframe thead th {\n",
       "        text-align: right;\n",
       "    }\n",
       "</style>\n",
       "<table border=\"1\" class=\"dataframe\">\n",
       "  <thead>\n",
       "    <tr style=\"text-align: right;\">\n",
       "      <th></th>\n",
       "      <th>Event.Id</th>\n",
       "      <th>Investigation.Type</th>\n",
       "      <th>Event.Date</th>\n",
       "      <th>Location</th>\n",
       "      <th>Country</th>\n",
       "      <th>Injury.Severity</th>\n",
       "      <th>Aircraft.damage</th>\n",
       "      <th>Make</th>\n",
       "      <th>Model</th>\n",
       "      <th>Amateur.Built</th>\n",
       "      <th>Number.of.Engines</th>\n",
       "      <th>Engine.Type</th>\n",
       "      <th>Purpose.of.flight</th>\n",
       "      <th>Total.Fatal.Injuries</th>\n",
       "      <th>Total.Serious.Injuries</th>\n",
       "      <th>Total.Minor.Injuries</th>\n",
       "      <th>Total.Uninjured</th>\n",
       "      <th>Weather.Condition</th>\n",
       "    </tr>\n",
       "  </thead>\n",
       "  <tbody>\n",
       "    <tr>\n",
       "      <th>0</th>\n",
       "      <td>20001218X45444</td>\n",
       "      <td>Accident</td>\n",
       "      <td>1948-10-24</td>\n",
       "      <td>MOOSE CREEK, ID</td>\n",
       "      <td>United States</td>\n",
       "      <td>Fatal(2)</td>\n",
       "      <td>Destroyed</td>\n",
       "      <td>Stinson</td>\n",
       "      <td>108-3</td>\n",
       "      <td>No</td>\n",
       "      <td>1</td>\n",
       "      <td>Reciprocating</td>\n",
       "      <td>Personal</td>\n",
       "      <td>2</td>\n",
       "      <td>0.0</td>\n",
       "      <td>0.0</td>\n",
       "      <td>0.0</td>\n",
       "      <td>UNK</td>\n",
       "    </tr>\n",
       "    <tr>\n",
       "      <th>1</th>\n",
       "      <td>20001218X45447</td>\n",
       "      <td>Accident</td>\n",
       "      <td>1962-07-19</td>\n",
       "      <td>BRIDGEPORT, CA</td>\n",
       "      <td>United States</td>\n",
       "      <td>Fatal(4)</td>\n",
       "      <td>Destroyed</td>\n",
       "      <td>Piper</td>\n",
       "      <td>PA24-180</td>\n",
       "      <td>No</td>\n",
       "      <td>1</td>\n",
       "      <td>Reciprocating</td>\n",
       "      <td>Personal</td>\n",
       "      <td>4</td>\n",
       "      <td>0.0</td>\n",
       "      <td>0.0</td>\n",
       "      <td>0.0</td>\n",
       "      <td>UNK</td>\n",
       "    </tr>\n",
       "    <tr>\n",
       "      <th>2</th>\n",
       "      <td>20061025X01555</td>\n",
       "      <td>Accident</td>\n",
       "      <td>1974-08-30</td>\n",
       "      <td>Saltville, VA</td>\n",
       "      <td>United States</td>\n",
       "      <td>Fatal(3)</td>\n",
       "      <td>Destroyed</td>\n",
       "      <td>Cessna</td>\n",
       "      <td>172M</td>\n",
       "      <td>No</td>\n",
       "      <td>1</td>\n",
       "      <td>Reciprocating</td>\n",
       "      <td>Personal</td>\n",
       "      <td>3</td>\n",
       "      <td>NaN</td>\n",
       "      <td>NaN</td>\n",
       "      <td>NaN</td>\n",
       "      <td>IMC</td>\n",
       "    </tr>\n",
       "    <tr>\n",
       "      <th>3</th>\n",
       "      <td>20001218X45448</td>\n",
       "      <td>Accident</td>\n",
       "      <td>1977-06-19</td>\n",
       "      <td>EUREKA, CA</td>\n",
       "      <td>United States</td>\n",
       "      <td>Fatal(2)</td>\n",
       "      <td>Destroyed</td>\n",
       "      <td>Rockwell</td>\n",
       "      <td>112</td>\n",
       "      <td>No</td>\n",
       "      <td>1</td>\n",
       "      <td>Reciprocating</td>\n",
       "      <td>Personal</td>\n",
       "      <td>2</td>\n",
       "      <td>0.0</td>\n",
       "      <td>0.0</td>\n",
       "      <td>0.0</td>\n",
       "      <td>IMC</td>\n",
       "    </tr>\n",
       "    <tr>\n",
       "      <th>4</th>\n",
       "      <td>20041105X01764</td>\n",
       "      <td>Accident</td>\n",
       "      <td>1979-08-02</td>\n",
       "      <td>Canton, OH</td>\n",
       "      <td>United States</td>\n",
       "      <td>Fatal(1)</td>\n",
       "      <td>Destroyed</td>\n",
       "      <td>Cessna</td>\n",
       "      <td>501</td>\n",
       "      <td>No</td>\n",
       "      <td>NaN</td>\n",
       "      <td>NaN</td>\n",
       "      <td>Personal</td>\n",
       "      <td>1</td>\n",
       "      <td>2.0</td>\n",
       "      <td>NaN</td>\n",
       "      <td>0.0</td>\n",
       "      <td>VMC</td>\n",
       "    </tr>\n",
       "    <tr>\n",
       "      <th>...</th>\n",
       "      <td>...</td>\n",
       "      <td>...</td>\n",
       "      <td>...</td>\n",
       "      <td>...</td>\n",
       "      <td>...</td>\n",
       "      <td>...</td>\n",
       "      <td>...</td>\n",
       "      <td>...</td>\n",
       "      <td>...</td>\n",
       "      <td>...</td>\n",
       "      <td>...</td>\n",
       "      <td>...</td>\n",
       "      <td>...</td>\n",
       "      <td>...</td>\n",
       "      <td>...</td>\n",
       "      <td>...</td>\n",
       "      <td>...</td>\n",
       "      <td>...</td>\n",
       "    </tr>\n",
       "    <tr>\n",
       "      <th>88884</th>\n",
       "      <td>20221227106491</td>\n",
       "      <td>Accident</td>\n",
       "      <td>2022-12-26</td>\n",
       "      <td>Annapolis, MD</td>\n",
       "      <td>United States</td>\n",
       "      <td>Minor</td>\n",
       "      <td>NaN</td>\n",
       "      <td>PIPER</td>\n",
       "      <td>PA-28-151</td>\n",
       "      <td>No</td>\n",
       "      <td>NaN</td>\n",
       "      <td>NaN</td>\n",
       "      <td>Personal</td>\n",
       "      <td>0</td>\n",
       "      <td>1.0</td>\n",
       "      <td>0.0</td>\n",
       "      <td>0.0</td>\n",
       "      <td>NaN</td>\n",
       "    </tr>\n",
       "    <tr>\n",
       "      <th>88885</th>\n",
       "      <td>20221227106494</td>\n",
       "      <td>Accident</td>\n",
       "      <td>2022-12-26</td>\n",
       "      <td>Hampton, NH</td>\n",
       "      <td>United States</td>\n",
       "      <td>NaN</td>\n",
       "      <td>NaN</td>\n",
       "      <td>BELLANCA</td>\n",
       "      <td>7ECA</td>\n",
       "      <td>No</td>\n",
       "      <td>NaN</td>\n",
       "      <td>NaN</td>\n",
       "      <td>NaN</td>\n",
       "      <td>0</td>\n",
       "      <td>0.0</td>\n",
       "      <td>0.0</td>\n",
       "      <td>0.0</td>\n",
       "      <td>NaN</td>\n",
       "    </tr>\n",
       "    <tr>\n",
       "      <th>88886</th>\n",
       "      <td>20221227106497</td>\n",
       "      <td>Accident</td>\n",
       "      <td>2022-12-26</td>\n",
       "      <td>Payson, AZ</td>\n",
       "      <td>United States</td>\n",
       "      <td>Non-Fatal</td>\n",
       "      <td>Substantial</td>\n",
       "      <td>AMERICAN CHAMPION AIRCRAFT</td>\n",
       "      <td>8GCBC</td>\n",
       "      <td>No</td>\n",
       "      <td>1.0</td>\n",
       "      <td>NaN</td>\n",
       "      <td>Personal</td>\n",
       "      <td>0</td>\n",
       "      <td>0.0</td>\n",
       "      <td>0.0</td>\n",
       "      <td>1.0</td>\n",
       "      <td>VMC</td>\n",
       "    </tr>\n",
       "    <tr>\n",
       "      <th>88887</th>\n",
       "      <td>20221227106498</td>\n",
       "      <td>Accident</td>\n",
       "      <td>2022-12-26</td>\n",
       "      <td>Morgan, UT</td>\n",
       "      <td>United States</td>\n",
       "      <td>NaN</td>\n",
       "      <td>NaN</td>\n",
       "      <td>CESSNA</td>\n",
       "      <td>210N</td>\n",
       "      <td>No</td>\n",
       "      <td>NaN</td>\n",
       "      <td>NaN</td>\n",
       "      <td>Personal</td>\n",
       "      <td>0</td>\n",
       "      <td>0.0</td>\n",
       "      <td>0.0</td>\n",
       "      <td>0.0</td>\n",
       "      <td>NaN</td>\n",
       "    </tr>\n",
       "    <tr>\n",
       "      <th>88888</th>\n",
       "      <td>20221230106513</td>\n",
       "      <td>Accident</td>\n",
       "      <td>2022-12-29</td>\n",
       "      <td>Athens, GA</td>\n",
       "      <td>United States</td>\n",
       "      <td>Minor</td>\n",
       "      <td>NaN</td>\n",
       "      <td>PIPER</td>\n",
       "      <td>PA-24-260</td>\n",
       "      <td>No</td>\n",
       "      <td>NaN</td>\n",
       "      <td>NaN</td>\n",
       "      <td>Personal</td>\n",
       "      <td>0</td>\n",
       "      <td>1.0</td>\n",
       "      <td>0.0</td>\n",
       "      <td>1.0</td>\n",
       "      <td>NaN</td>\n",
       "    </tr>\n",
       "  </tbody>\n",
       "</table>\n",
       "<p>88851 rows × 18 columns</p>\n",
       "</div>"
      ],
      "text/plain": [
       "             Event.Id Investigation.Type  Event.Date         Location  \\\n",
       "0      20001218X45444           Accident  1948-10-24  MOOSE CREEK, ID   \n",
       "1      20001218X45447           Accident  1962-07-19   BRIDGEPORT, CA   \n",
       "2      20061025X01555           Accident  1974-08-30    Saltville, VA   \n",
       "3      20001218X45448           Accident  1977-06-19       EUREKA, CA   \n",
       "4      20041105X01764           Accident  1979-08-02       Canton, OH   \n",
       "...               ...                ...         ...              ...   \n",
       "88884  20221227106491           Accident  2022-12-26    Annapolis, MD   \n",
       "88885  20221227106494           Accident  2022-12-26      Hampton, NH   \n",
       "88886  20221227106497           Accident  2022-12-26       Payson, AZ   \n",
       "88887  20221227106498           Accident  2022-12-26       Morgan, UT   \n",
       "88888  20221230106513           Accident  2022-12-29       Athens, GA   \n",
       "\n",
       "             Country Injury.Severity Aircraft.damage  \\\n",
       "0      United States        Fatal(2)       Destroyed   \n",
       "1      United States        Fatal(4)       Destroyed   \n",
       "2      United States        Fatal(3)       Destroyed   \n",
       "3      United States        Fatal(2)       Destroyed   \n",
       "4      United States        Fatal(1)       Destroyed   \n",
       "...              ...             ...             ...   \n",
       "88884  United States           Minor             NaN   \n",
       "88885  United States             NaN             NaN   \n",
       "88886  United States       Non-Fatal     Substantial   \n",
       "88887  United States             NaN             NaN   \n",
       "88888  United States           Minor             NaN   \n",
       "\n",
       "                             Make      Model Amateur.Built Number.of.Engines  \\\n",
       "0                         Stinson      108-3            No                 1   \n",
       "1                           Piper   PA24-180            No                 1   \n",
       "2                          Cessna       172M            No                 1   \n",
       "3                        Rockwell        112            No                 1   \n",
       "4                          Cessna        501            No               NaN   \n",
       "...                           ...        ...           ...               ...   \n",
       "88884                       PIPER  PA-28-151            No               NaN   \n",
       "88885                    BELLANCA       7ECA            No               NaN   \n",
       "88886  AMERICAN CHAMPION AIRCRAFT      8GCBC            No               1.0   \n",
       "88887                      CESSNA       210N            No               NaN   \n",
       "88888                       PIPER  PA-24-260            No               NaN   \n",
       "\n",
       "         Engine.Type Purpose.of.flight Total.Fatal.Injuries  \\\n",
       "0      Reciprocating          Personal                    2   \n",
       "1      Reciprocating          Personal                    4   \n",
       "2      Reciprocating          Personal                    3   \n",
       "3      Reciprocating          Personal                    2   \n",
       "4                NaN          Personal                    1   \n",
       "...              ...               ...                  ...   \n",
       "88884            NaN          Personal                    0   \n",
       "88885            NaN               NaN                    0   \n",
       "88886            NaN          Personal                    0   \n",
       "88887            NaN          Personal                    0   \n",
       "88888            NaN          Personal                    0   \n",
       "\n",
       "       Total.Serious.Injuries  Total.Minor.Injuries  Total.Uninjured  \\\n",
       "0                         0.0                   0.0              0.0   \n",
       "1                         0.0                   0.0              0.0   \n",
       "2                         NaN                   NaN              NaN   \n",
       "3                         0.0                   0.0              0.0   \n",
       "4                         2.0                   NaN              0.0   \n",
       "...                       ...                   ...              ...   \n",
       "88884                     1.0                   0.0              0.0   \n",
       "88885                     0.0                   0.0              0.0   \n",
       "88886                     0.0                   0.0              1.0   \n",
       "88887                     0.0                   0.0              0.0   \n",
       "88888                     1.0                   0.0              1.0   \n",
       "\n",
       "      Weather.Condition  \n",
       "0                   UNK  \n",
       "1                   UNK  \n",
       "2                   IMC  \n",
       "3                   IMC  \n",
       "4                   VMC  \n",
       "...                 ...  \n",
       "88884               NaN  \n",
       "88885               NaN  \n",
       "88886               VMC  \n",
       "88887               NaN  \n",
       "88888               NaN  \n",
       "\n",
       "[88851 rows x 18 columns]"
      ]
     },
     "execution_count": 16,
     "metadata": {},
     "output_type": "execute_result"
    }
   ],
   "source": [
    "df['Location'] = df['Location'].fillna('Unknown')\n",
    "df"
   ]
  },
  {
   "cell_type": "code",
   "execution_count": 17,
   "id": "543cf97a-e556-4cd9-94a5-18ecf23b0916",
   "metadata": {
    "colab": {
     "base_uri": "https://localhost:8080/",
     "height": 204
    },
    "id": "543cf97a-e556-4cd9-94a5-18ecf23b0916",
    "outputId": "b3cff769-9c5d-4d46-cbba-709746f37b4b"
   },
   "outputs": [
    {
     "data": {
      "text/plain": [
       "pandas.core.series.Series"
      ]
     },
     "execution_count": 17,
     "metadata": {},
     "output_type": "execute_result"
    }
   ],
   "source": [
    "type(df['Location'])"
   ]
  },
  {
   "cell_type": "code",
   "execution_count": 18,
   "id": "96895652-7ce7-42a3-812e-6c3bc48b4082",
   "metadata": {
    "colab": {
     "base_uri": "https://localhost:8080/"
    },
    "id": "96895652-7ce7-42a3-812e-6c3bc48b4082",
    "outputId": "86312e04-2a22-456b-a791-23e073a3d2ce"
   },
   "outputs": [
    {
     "name": "stdout",
     "output_type": "stream",
     "text": [
      "<class 'pandas.core.frame.DataFrame'>\n",
      "Index: 88851 entries, 0 to 88888\n",
      "Data columns (total 18 columns):\n",
      " #   Column                  Non-Null Count  Dtype  \n",
      "---  ------                  --------------  -----  \n",
      " 0   Event.Id                88851 non-null  object \n",
      " 1   Investigation.Type      88851 non-null  object \n",
      " 2   Event.Date              88851 non-null  object \n",
      " 3   Location                88851 non-null  object \n",
      " 4   Country                 88625 non-null  object \n",
      " 5   Injury.Severity         87852 non-null  object \n",
      " 6   Aircraft.damage         85660 non-null  object \n",
      " 7   Make                    88788 non-null  object \n",
      " 8   Model                   88759 non-null  object \n",
      " 9   Amateur.Built           88749 non-null  object \n",
      " 10  Number.of.Engines       82771 non-null  object \n",
      " 11  Engine.Type             81756 non-null  object \n",
      " 12  Purpose.of.flight       82660 non-null  object \n",
      " 13  Total.Fatal.Injuries    77453 non-null  object \n",
      " 14  Total.Serious.Injuries  76352 non-null  float64\n",
      " 15  Total.Minor.Injuries    76928 non-null  float64\n",
      " 16  Total.Uninjured         82943 non-null  float64\n",
      " 17  Weather.Condition       84360 non-null  object \n",
      "dtypes: float64(3), object(15)\n",
      "memory usage: 12.9+ MB\n"
     ]
    }
   ],
   "source": [
    "df.info()"
   ]
  },
  {
   "cell_type": "markdown",
   "id": "dece572e-66eb-4e21-8541-a1297efba565",
   "metadata": {
    "id": "dece572e-66eb-4e21-8541-a1297efba565"
   },
   "source": [
    "####Country"
   ]
  },
  {
   "cell_type": "code",
   "execution_count": 19,
   "id": "d46dee66-bfe9-4c30-ac9c-c1a54c9f4b07",
   "metadata": {
    "colab": {
     "base_uri": "https://localhost:8080/"
    },
    "id": "d46dee66-bfe9-4c30-ac9c-c1a54c9f4b07",
    "outputId": "6c3afb96-c321-461b-a026-a2a164198bf6"
   },
   "outputs": [
    {
     "data": {
      "text/plain": [
       "226"
      ]
     },
     "execution_count": 19,
     "metadata": {},
     "output_type": "execute_result"
    }
   ],
   "source": [
    "df['Country'].isnull().sum()\n"
   ]
  },
  {
   "cell_type": "code",
   "execution_count": 20,
   "id": "13cc22e6-2f6e-462f-b205-1391618d1433",
   "metadata": {
    "colab": {
     "base_uri": "https://localhost:8080/"
    },
    "id": "13cc22e6-2f6e-462f-b205-1391618d1433",
    "outputId": "ac18ba7a-c4de-4870-897b-a6292a0dfdd1"
   },
   "outputs": [],
   "source": [
    "# Filling the NaN with Unknown\n",
    "df['Country'] = df['Country'].fillna('Unknown')"
   ]
  },
  {
   "cell_type": "code",
   "execution_count": 21,
   "id": "3a5c8b45-4ba3-4718-bb6d-591dd431f4c5",
   "metadata": {
    "colab": {
     "base_uri": "https://localhost:8080/"
    },
    "id": "3a5c8b45-4ba3-4718-bb6d-591dd431f4c5",
    "outputId": "fe1a0503-12ce-467a-d5e2-dede8dd26aee"
   },
   "outputs": [
    {
     "data": {
      "text/plain": [
       "array(['United States', 'Unknown', 'GULF OF MEXICO', 'Puerto Rico',\n",
       "       'ATLANTIC OCEAN', 'HIGH ISLAND', 'Bahamas', 'MISSING', 'Pakistan',\n",
       "       'Angola', 'Germany', 'Korea, Republic Of', 'Martinique',\n",
       "       'American Samoa', 'PACIFIC OCEAN', 'Canada', 'Bolivia', 'Mexico',\n",
       "       'Dominica', 'Netherlands Antilles', 'Iceland', 'Greece', 'Guam',\n",
       "       'Australia', 'CARIBBEAN SEA', 'West Indies', 'Japan',\n",
       "       'Philippines', 'Venezuela', 'Bermuda', 'San Juan Islands',\n",
       "       'Colombia', 'El Salvador', 'United Kingdom',\n",
       "       'British Virgin Islands', 'Netherlands', 'Costa Rica',\n",
       "       'Mozambique', 'Jamaica', 'Panama', 'Guyana', 'Norway', 'Hong Kong',\n",
       "       'Portugal', 'Malaysia', 'Turks And Caicos Islands',\n",
       "       'Northern Mariana Islands', 'Dominican Republic', 'Suriname',\n",
       "       'Honduras', 'Congo', 'Belize', 'Guatemala', 'Anguilla', 'France',\n",
       "       'St Vincent And The Grenadines', 'Haiti', 'Montserrat',\n",
       "       'Papua New Guinea', 'Cayman Islands', 'Sweden', 'Taiwan',\n",
       "       'Senegal', 'Barbados', 'BLOCK 651A', 'Brazil', 'Mauritius',\n",
       "       'Argentina', 'Kenya', 'Ecuador', 'Aruba', 'Saudi Arabia', 'Cuba',\n",
       "       'Italy', 'French Guiana', 'Denmark', 'Sudan', 'Spain',\n",
       "       'Federated States Of Micronesia', 'St Lucia', 'Switzerland',\n",
       "       'Central African Republic', 'Algeria', 'Turkey', 'Nicaragua',\n",
       "       'Marshall Islands', 'Trinidad And Tobago', 'Poland', 'Belarus',\n",
       "       'Austria', 'Malta', 'Cameroon', 'Solomon Islands', 'Zambia',\n",
       "       'Peru', 'Croatia', 'Fiji', 'South Africa', 'India', 'Ethiopia',\n",
       "       'Ireland', 'Chile', 'Antigua And Barbuda', 'Uganda', 'China',\n",
       "       'Cambodia', 'Paraguay', 'Thailand', 'Belgium', 'Gambia', 'Uruguay',\n",
       "       'Tanzania', 'Mali', 'Indonesia', 'Bahrain', 'Kazakhstan', 'Egypt',\n",
       "       'Russia', 'Cyprus', \"Cote D'ivoire\", 'Nigeria', 'Greenland',\n",
       "       'Vietnam', 'New Zealand', 'Singapore', 'Ghana', 'Gabon', 'Nepal',\n",
       "       'Slovakia', 'Finland', 'Liberia', 'Romania', 'Maldives',\n",
       "       'Antarctica', 'Zimbabwe', 'Botswana', 'Isle of Man', 'Latvia',\n",
       "       'Niger', 'French Polynesia', 'Guadeloupe', 'Ivory Coast',\n",
       "       'Tunisia', 'Eritrea', 'Gibraltar', 'Namibia', 'Czech Republic',\n",
       "       'Benin', 'Bosnia And Herzegovina', 'Israel', 'Estonia',\n",
       "       'St Kitts And Nevis', 'Sierra Leone', 'Corsica', 'Scotland',\n",
       "       'Reunion', 'United Arab Emirates', 'Afghanistan', 'Ukraine',\n",
       "       'Hungary', 'Bangladesh', 'Morocco', 'Iraq', 'Jordan', 'Qatar',\n",
       "       'Madagascar', 'Malawi', 'Central Africa', 'South Sudan',\n",
       "       'Saint Barthelemy', 'Micronesia', 'South Korea', 'Kyrgyzstan',\n",
       "       'Turks And Caicos', 'Eswatini', 'Tokelau', 'Sint Maarten', 'Macao',\n",
       "       'Seychelles', 'Rwanda', 'Palau', 'Luxembourg', 'Lebanon',\n",
       "       'Bosnia and Herzegovina', 'Libya', 'Guinea',\n",
       "       'Saint Vincent and the Grenadines', 'UN', 'Iran', 'Lithuania',\n",
       "       'Malampa', 'Antigua and Barbuda', 'AY', 'Chad', 'Cayenne',\n",
       "       'New Caledonia', 'Yemen', 'Slovenia', 'Nauru', 'Niue', 'Bulgaria',\n",
       "       'Republic of North Macedonia', 'Virgin Islands', 'Somalia',\n",
       "       'Pacific Ocean', 'Obyan', 'Mauritania', 'Albania', 'Wolseley',\n",
       "       'Wallis and Futuna', 'Saint Pierre and Miquelon', 'Georgia',\n",
       "       \"C�te d'Ivoire\", 'South Korean', 'Serbia', 'MU', 'Guernsey',\n",
       "       'Great Britain', 'Turks and Caicos Islands'], dtype=object)"
      ]
     },
     "execution_count": 21,
     "metadata": {},
     "output_type": "execute_result"
    }
   ],
   "source": [
    "df['Country'].unique()"
   ]
  },
  {
   "cell_type": "code",
   "execution_count": 22,
   "id": "389fc399-52e2-43b2-b74c-0da4ebf9485c",
   "metadata": {
    "colab": {
     "base_uri": "https://localhost:8080/"
    },
    "id": "389fc399-52e2-43b2-b74c-0da4ebf9485c",
    "outputId": "be047021-3c34-4c3e-a18f-885b0c7cd33f"
   },
   "outputs": [],
   "source": [
    "# replacing nan and MISSING with Unknown\n",
    "# replacing BLOCK 651A with Singapore since it is in singapore\n",
    "df['Country'] = df['Country'].replace('nan','Unknown')\n",
    "df['Country'] = df['Country'].replace('MISSING','Unknown')\n",
    "df['Country'] = df['Country'].replace('BLOCK 651A','Singapore')"
   ]
  },
  {
   "cell_type": "code",
   "execution_count": 23,
   "id": "88d7389b-aa7e-4076-9a8a-9e6a9c41c956",
   "metadata": {
    "colab": {
     "base_uri": "https://localhost:8080/"
    },
    "id": "88d7389b-aa7e-4076-9a8a-9e6a9c41c956",
    "outputId": "f005ab50-18d0-488f-cc45-fc49acc0b9e2"
   },
   "outputs": [
    {
     "data": {
      "text/plain": [
       "array(['United States', 'Unknown', 'GULF OF MEXICO', 'Puerto Rico',\n",
       "       'ATLANTIC OCEAN', 'HIGH ISLAND', 'Bahamas', 'Pakistan', 'Angola',\n",
       "       'Germany', 'Korea, Republic Of', 'Martinique', 'American Samoa',\n",
       "       'PACIFIC OCEAN', 'Canada', 'Bolivia', 'Mexico', 'Dominica',\n",
       "       'Netherlands Antilles', 'Iceland', 'Greece', 'Guam', 'Australia',\n",
       "       'CARIBBEAN SEA', 'West Indies', 'Japan', 'Philippines',\n",
       "       'Venezuela', 'Bermuda', 'San Juan Islands', 'Colombia',\n",
       "       'El Salvador', 'United Kingdom', 'British Virgin Islands',\n",
       "       'Netherlands', 'Costa Rica', 'Mozambique', 'Jamaica', 'Panama',\n",
       "       'Guyana', 'Norway', 'Hong Kong', 'Portugal', 'Malaysia',\n",
       "       'Turks And Caicos Islands', 'Northern Mariana Islands',\n",
       "       'Dominican Republic', 'Suriname', 'Honduras', 'Congo', 'Belize',\n",
       "       'Guatemala', 'Anguilla', 'France', 'St Vincent And The Grenadines',\n",
       "       'Haiti', 'Montserrat', 'Papua New Guinea', 'Cayman Islands',\n",
       "       'Sweden', 'Taiwan', 'Senegal', 'Barbados', 'Singapore', 'Brazil',\n",
       "       'Mauritius', 'Argentina', 'Kenya', 'Ecuador', 'Aruba',\n",
       "       'Saudi Arabia', 'Cuba', 'Italy', 'French Guiana', 'Denmark',\n",
       "       'Sudan', 'Spain', 'Federated States Of Micronesia', 'St Lucia',\n",
       "       'Switzerland', 'Central African Republic', 'Algeria', 'Turkey',\n",
       "       'Nicaragua', 'Marshall Islands', 'Trinidad And Tobago', 'Poland',\n",
       "       'Belarus', 'Austria', 'Malta', 'Cameroon', 'Solomon Islands',\n",
       "       'Zambia', 'Peru', 'Croatia', 'Fiji', 'South Africa', 'India',\n",
       "       'Ethiopia', 'Ireland', 'Chile', 'Antigua And Barbuda', 'Uganda',\n",
       "       'China', 'Cambodia', 'Paraguay', 'Thailand', 'Belgium', 'Gambia',\n",
       "       'Uruguay', 'Tanzania', 'Mali', 'Indonesia', 'Bahrain',\n",
       "       'Kazakhstan', 'Egypt', 'Russia', 'Cyprus', \"Cote D'ivoire\",\n",
       "       'Nigeria', 'Greenland', 'Vietnam', 'New Zealand', 'Ghana', 'Gabon',\n",
       "       'Nepal', 'Slovakia', 'Finland', 'Liberia', 'Romania', 'Maldives',\n",
       "       'Antarctica', 'Zimbabwe', 'Botswana', 'Isle of Man', 'Latvia',\n",
       "       'Niger', 'French Polynesia', 'Guadeloupe', 'Ivory Coast',\n",
       "       'Tunisia', 'Eritrea', 'Gibraltar', 'Namibia', 'Czech Republic',\n",
       "       'Benin', 'Bosnia And Herzegovina', 'Israel', 'Estonia',\n",
       "       'St Kitts And Nevis', 'Sierra Leone', 'Corsica', 'Scotland',\n",
       "       'Reunion', 'United Arab Emirates', 'Afghanistan', 'Ukraine',\n",
       "       'Hungary', 'Bangladesh', 'Morocco', 'Iraq', 'Jordan', 'Qatar',\n",
       "       'Madagascar', 'Malawi', 'Central Africa', 'South Sudan',\n",
       "       'Saint Barthelemy', 'Micronesia', 'South Korea', 'Kyrgyzstan',\n",
       "       'Turks And Caicos', 'Eswatini', 'Tokelau', 'Sint Maarten', 'Macao',\n",
       "       'Seychelles', 'Rwanda', 'Palau', 'Luxembourg', 'Lebanon',\n",
       "       'Bosnia and Herzegovina', 'Libya', 'Guinea',\n",
       "       'Saint Vincent and the Grenadines', 'UN', 'Iran', 'Lithuania',\n",
       "       'Malampa', 'Antigua and Barbuda', 'AY', 'Chad', 'Cayenne',\n",
       "       'New Caledonia', 'Yemen', 'Slovenia', 'Nauru', 'Niue', 'Bulgaria',\n",
       "       'Republic of North Macedonia', 'Virgin Islands', 'Somalia',\n",
       "       'Pacific Ocean', 'Obyan', 'Mauritania', 'Albania', 'Wolseley',\n",
       "       'Wallis and Futuna', 'Saint Pierre and Miquelon', 'Georgia',\n",
       "       \"C�te d'Ivoire\", 'South Korean', 'Serbia', 'MU', 'Guernsey',\n",
       "       'Great Britain', 'Turks and Caicos Islands'], dtype=object)"
      ]
     },
     "execution_count": 23,
     "metadata": {},
     "output_type": "execute_result"
    }
   ],
   "source": [
    "df['Country'].unique()"
   ]
  },
  {
   "cell_type": "code",
   "execution_count": 24,
   "id": "59ed7eb4-e52a-4356-aaa2-b2a2d26a87a7",
   "metadata": {
    "colab": {
     "base_uri": "https://localhost:8080/"
    },
    "id": "59ed7eb4-e52a-4356-aaa2-b2a2d26a87a7",
    "outputId": "80619b2e-f73c-44c1-dfd0-375b8259dff3"
   },
   "outputs": [
    {
     "name": "stdout",
     "output_type": "stream",
     "text": [
      "<class 'pandas.core.frame.DataFrame'>\n",
      "Index: 88851 entries, 0 to 88888\n",
      "Data columns (total 18 columns):\n",
      " #   Column                  Non-Null Count  Dtype  \n",
      "---  ------                  --------------  -----  \n",
      " 0   Event.Id                88851 non-null  object \n",
      " 1   Investigation.Type      88851 non-null  object \n",
      " 2   Event.Date              88851 non-null  object \n",
      " 3   Location                88851 non-null  object \n",
      " 4   Country                 88851 non-null  object \n",
      " 5   Injury.Severity         87852 non-null  object \n",
      " 6   Aircraft.damage         85660 non-null  object \n",
      " 7   Make                    88788 non-null  object \n",
      " 8   Model                   88759 non-null  object \n",
      " 9   Amateur.Built           88749 non-null  object \n",
      " 10  Number.of.Engines       82771 non-null  object \n",
      " 11  Engine.Type             81756 non-null  object \n",
      " 12  Purpose.of.flight       82660 non-null  object \n",
      " 13  Total.Fatal.Injuries    77453 non-null  object \n",
      " 14  Total.Serious.Injuries  76352 non-null  float64\n",
      " 15  Total.Minor.Injuries    76928 non-null  float64\n",
      " 16  Total.Uninjured         82943 non-null  float64\n",
      " 17  Weather.Condition       84360 non-null  object \n",
      "dtypes: float64(3), object(15)\n",
      "memory usage: 12.9+ MB\n"
     ]
    }
   ],
   "source": [
    "df.info()"
   ]
  },
  {
   "cell_type": "markdown",
   "id": "df96f691-ded6-4ada-88fa-05f1ea2b243e",
   "metadata": {
    "id": "df96f691-ded6-4ada-88fa-05f1ea2b243e"
   },
   "source": [
    "####Injury.Severity  "
   ]
  },
  {
   "cell_type": "code",
   "execution_count": 25,
   "id": "596aa81b-ccf0-477d-8460-60cef7aae9ac",
   "metadata": {
    "colab": {
     "base_uri": "https://localhost:8080/"
    },
    "id": "596aa81b-ccf0-477d-8460-60cef7aae9ac",
    "outputId": "90bbdef3-4f94-4441-ad9d-c5669b2a3be0"
   },
   "outputs": [
    {
     "data": {
      "text/plain": [
       "999"
      ]
     },
     "execution_count": 25,
     "metadata": {},
     "output_type": "execute_result"
    }
   ],
   "source": [
    "df['Injury.Severity'].isnull().sum()"
   ]
  },
  {
   "cell_type": "code",
   "execution_count": 26,
   "id": "950e9f12-107d-4d0b-8999-da968e4c994b",
   "metadata": {
    "colab": {
     "base_uri": "https://localhost:8080/"
    },
    "id": "950e9f12-107d-4d0b-8999-da968e4c994b",
    "outputId": "0d880192-3ae2-403b-d8d0-a49b83128c9c"
   },
   "outputs": [
    {
     "data": {
      "text/plain": [
       "array(['Fatal(2)', 'Fatal(4)', 'Fatal(3)', 'Fatal(1)', 'Non-Fatal',\n",
       "       'Incident', 'Fatal(8)', 'Fatal(78)', 'Fatal(7)', 'Fatal(6)',\n",
       "       'Fatal(5)', 'Fatal(153)', 'Fatal(12)', 'Fatal(14)', 'Fatal(23)',\n",
       "       'Fatal(10)', 'Fatal(11)', 'Fatal(9)', 'Fatal(17)', 'Fatal(13)',\n",
       "       'Fatal(29)', 'Fatal(70)', 'Unavailable', 'O', 'Fatal(135)',\n",
       "       'Fatal(31)', 'Fatal(256)', 'Fatal(25)', 'Fatal(82)', 'Fatal(156)',\n",
       "       'Fatal(28)', 'Fatal(18)', 'Fatal(43)', 'Fatal(15)', 'Fatal(270)',\n",
       "       'Fatal(144)', 'Fatal(174)', 'Fatal(111)', 'Fatal(131)',\n",
       "       'Fatal(20)', 'Fatal(73)', 'Fatal(27)', 'Fatal(34)', 'Fatal(87)',\n",
       "       'Fatal(30)', 'Fatal(16)', 'Fatal(47)', 'Fatal(56)', 'Fatal(37)',\n",
       "       'Fatal(132)', 'Fatal(68)', 'Fatal(54)', 'Fatal(52)', 'Fatal(65)',\n",
       "       'Fatal(72)', 'Fatal(160)', 'Fatal(189)', 'Fatal(123)', 'Fatal(33)',\n",
       "       'Fatal(110)', 'Fatal(230)', 'Fatal(97)', 'Fatal(349)',\n",
       "       'Fatal(125)', 'Fatal(35)', 'Fatal(228)', 'Fatal(75)', 'Fatal(104)',\n",
       "       'Fatal(229)', 'Fatal(80)', 'Fatal(217)', 'Fatal(169)', 'Fatal(88)',\n",
       "       'Fatal(19)', 'Fatal(60)', 'Fatal(113)', 'Fatal(143)', 'Fatal(83)',\n",
       "       'Fatal(24)', 'Fatal(44)', 'Fatal(64)', 'Fatal(92)', 'Fatal(118)',\n",
       "       'Fatal(265)', 'Fatal(26)', 'Fatal(138)', 'Fatal(206)', 'Fatal(71)',\n",
       "       'Fatal(21)', 'Fatal(46)', 'Fatal(102)', 'Fatal(115)',\n",
       "       'BURKE LAKEFRONT', ' Coweta Co', 'Fatal(141)', 'Fatal(55)',\n",
       "       'Fatal(121)', 'Fatal(45)', 'Fatal(145)', 'Fatal(117)',\n",
       "       'Fatal(107)', 'Fatal(124)', 'Fatal(49)', 'Fatal(154)', 'Fatal(96)',\n",
       "       'Fatal(114)', 'Fatal(199)', 'Fatal(89)', 'Fatal(57)', 'Fatal', nan,\n",
       "       'Minor', 'Serious'], dtype=object)"
      ]
     },
     "execution_count": 26,
     "metadata": {},
     "output_type": "execute_result"
    }
   ],
   "source": [
    "df['Injury.Severity'].unique()"
   ]
  },
  {
   "cell_type": "code",
   "execution_count": 27,
   "id": "d8533a7c-a163-4cc4-b82f-c2174d8649d3",
   "metadata": {
    "id": "d8533a7c-a163-4cc4-b82f-c2174d8649d3"
   },
   "outputs": [],
   "source": [
    "# replacing Non-Fatal with fatal(0)"
   ]
  },
  {
   "cell_type": "code",
   "execution_count": 28,
   "id": "ef5f9635-dad3-44e4-8c92-b00ee68fab09",
   "metadata": {
    "colab": {
     "base_uri": "https://localhost:8080/"
    },
    "id": "ef5f9635-dad3-44e4-8c92-b00ee68fab09",
    "outputId": "99119f18-9ed1-42c8-df02-d61d92b01e95"
   },
   "outputs": [
    {
     "name": "stdout",
     "output_type": "stream",
     "text": [
      "<class 'pandas.core.frame.DataFrame'>\n",
      "Index: 88851 entries, 0 to 88888\n",
      "Data columns (total 18 columns):\n",
      " #   Column                  Non-Null Count  Dtype  \n",
      "---  ------                  --------------  -----  \n",
      " 0   Event.Id                88851 non-null  object \n",
      " 1   Investigation.Type      88851 non-null  object \n",
      " 2   Event.Date              88851 non-null  object \n",
      " 3   Location                88851 non-null  object \n",
      " 4   Country                 88851 non-null  object \n",
      " 5   Injury.Severity         87852 non-null  object \n",
      " 6   Aircraft.damage         85660 non-null  object \n",
      " 7   Make                    88788 non-null  object \n",
      " 8   Model                   88759 non-null  object \n",
      " 9   Amateur.Built           88749 non-null  object \n",
      " 10  Number.of.Engines       82771 non-null  object \n",
      " 11  Engine.Type             81756 non-null  object \n",
      " 12  Purpose.of.flight       82660 non-null  object \n",
      " 13  Total.Fatal.Injuries    77453 non-null  object \n",
      " 14  Total.Serious.Injuries  76352 non-null  float64\n",
      " 15  Total.Minor.Injuries    76928 non-null  float64\n",
      " 16  Total.Uninjured         82943 non-null  float64\n",
      " 17  Weather.Condition       84360 non-null  object \n",
      "dtypes: float64(3), object(15)\n",
      "memory usage: 12.9+ MB\n"
     ]
    }
   ],
   "source": [
    "df.info()"
   ]
  },
  {
   "cell_type": "markdown",
   "id": "7341d32f-3565-44a1-b492-5b5eb298d26f",
   "metadata": {
    "id": "7341d32f-3565-44a1-b492-5b5eb298d26f"
   },
   "source": [
    "####Aircraft.damage"
   ]
  },
  {
   "cell_type": "code",
   "execution_count": 29,
   "id": "c74322f9-2d49-434c-8987-ffc46f5a99fc",
   "metadata": {
    "colab": {
     "base_uri": "https://localhost:8080/"
    },
    "id": "c74322f9-2d49-434c-8987-ffc46f5a99fc",
    "outputId": "826832c2-8580-4202-e890-c5d9b8c7b14b"
   },
   "outputs": [
    {
     "data": {
      "text/plain": [
       "3191"
      ]
     },
     "execution_count": 29,
     "metadata": {},
     "output_type": "execute_result"
    }
   ],
   "source": [
    "df['Aircraft.damage'].isnull().sum()"
   ]
  },
  {
   "cell_type": "code",
   "execution_count": 30,
   "id": "b6932ef4-0853-4a75-b030-6773a9b429ac",
   "metadata": {
    "colab": {
     "base_uri": "https://localhost:8080/"
    },
    "id": "b6932ef4-0853-4a75-b030-6773a9b429ac",
    "outputId": "e46fe91c-477b-4350-c69b-008786132501"
   },
   "outputs": [
    {
     "data": {
      "text/plain": [
       "array(['Destroyed', 'Substantial', 'Minor', nan, 'Non-Fatal', 'Fatal(2)',\n",
       "       'Unknown'], dtype=object)"
      ]
     },
     "execution_count": 30,
     "metadata": {},
     "output_type": "execute_result"
    }
   ],
   "source": [
    "df['Aircraft.damage'].unique()"
   ]
  },
  {
   "cell_type": "code",
   "execution_count": 31,
   "id": "75aa6a5e-2266-4e5a-a3b7-bbf4958ccf3f",
   "metadata": {
    "colab": {
     "base_uri": "https://localhost:8080/"
    },
    "id": "75aa6a5e-2266-4e5a-a3b7-bbf4958ccf3f",
    "outputId": "e18f2ea8-2dc1-4fc6-9da6-97c1b933cdad"
   },
   "outputs": [
    {
     "data": {
      "text/plain": [
       "array(['Destroyed', 'Substantial', 'Minor', nan, 'Unknown'], dtype=object)"
      ]
     },
     "execution_count": 31,
     "metadata": {},
     "output_type": "execute_result"
    }
   ],
   "source": [
    "df['Aircraft.damage'] = df['Aircraft.damage'].replace('nan','Unknown')\n",
    "df['Aircraft.damage'] = df['Aircraft.damage'].replace('Non-Fatal','Unknown')\n",
    "df['Aircraft.damage'] = df['Aircraft.damage'].replace('Fatal(2)','Unknown')\n",
    "df['Aircraft.damage'].unique()"
   ]
  },
  {
   "cell_type": "code",
   "execution_count": 32,
   "id": "cb274b20-356f-4586-9177-79d5f93bb33c",
   "metadata": {
    "colab": {
     "base_uri": "https://localhost:8080/"
    },
    "id": "cb274b20-356f-4586-9177-79d5f93bb33c",
    "outputId": "976f5b94-bc86-4ead-b089-eeca84121ad9"
   },
   "outputs": [
    {
     "data": {
      "text/plain": [
       "array(['Destroyed', 'Substantial', 'Minor', 'Unknown'], dtype=object)"
      ]
     },
     "execution_count": 32,
     "metadata": {},
     "output_type": "execute_result"
    }
   ],
   "source": [
    "df['Aircraft.damage'] = df['Aircraft.damage'].fillna('Unknown')\n",
    "df['Aircraft.damage'].unique()"
   ]
  },
  {
   "cell_type": "code",
   "execution_count": 33,
   "id": "62dd062f-da0a-4326-95b0-8d9686b9c993",
   "metadata": {
    "colab": {
     "base_uri": "https://localhost:8080/"
    },
    "id": "62dd062f-da0a-4326-95b0-8d9686b9c993",
    "outputId": "77bb1c23-d0b3-4567-d13a-3adf3ec1aaab"
   },
   "outputs": [
    {
     "name": "stdout",
     "output_type": "stream",
     "text": [
      "<class 'pandas.core.frame.DataFrame'>\n",
      "Index: 88851 entries, 0 to 88888\n",
      "Data columns (total 18 columns):\n",
      " #   Column                  Non-Null Count  Dtype  \n",
      "---  ------                  --------------  -----  \n",
      " 0   Event.Id                88851 non-null  object \n",
      " 1   Investigation.Type      88851 non-null  object \n",
      " 2   Event.Date              88851 non-null  object \n",
      " 3   Location                88851 non-null  object \n",
      " 4   Country                 88851 non-null  object \n",
      " 5   Injury.Severity         87852 non-null  object \n",
      " 6   Aircraft.damage         88851 non-null  object \n",
      " 7   Make                    88788 non-null  object \n",
      " 8   Model                   88759 non-null  object \n",
      " 9   Amateur.Built           88749 non-null  object \n",
      " 10  Number.of.Engines       82771 non-null  object \n",
      " 11  Engine.Type             81756 non-null  object \n",
      " 12  Purpose.of.flight       82660 non-null  object \n",
      " 13  Total.Fatal.Injuries    77453 non-null  object \n",
      " 14  Total.Serious.Injuries  76352 non-null  float64\n",
      " 15  Total.Minor.Injuries    76928 non-null  float64\n",
      " 16  Total.Uninjured         82943 non-null  float64\n",
      " 17  Weather.Condition       84360 non-null  object \n",
      "dtypes: float64(3), object(15)\n",
      "memory usage: 12.9+ MB\n"
     ]
    }
   ],
   "source": [
    "df.info()"
   ]
  },
  {
   "cell_type": "markdown",
   "id": "508be54f-bb75-4111-bb0f-631f9fcd5517",
   "metadata": {
    "id": "508be54f-bb75-4111-bb0f-631f9fcd5517"
   },
   "source": [
    "####Make"
   ]
  },
  {
   "cell_type": "code",
   "execution_count": 34,
   "id": "a6d863e9-9883-48a4-ac07-fb9fe0873d72",
   "metadata": {
    "colab": {
     "base_uri": "https://localhost:8080/"
    },
    "id": "a6d863e9-9883-48a4-ac07-fb9fe0873d72",
    "outputId": "edc52f80-e3c2-4aa8-ae9d-df68427f80ed"
   },
   "outputs": [
    {
     "data": {
      "text/plain": [
       "63"
      ]
     },
     "execution_count": 34,
     "metadata": {},
     "output_type": "execute_result"
    }
   ],
   "source": [
    "df['Make'].isnull().sum()"
   ]
  },
  {
   "cell_type": "code",
   "execution_count": 35,
   "id": "162214b1-8bfc-49aa-ba67-38d5714fb5e3",
   "metadata": {
    "colab": {
     "base_uri": "https://localhost:8080/"
    },
    "id": "162214b1-8bfc-49aa-ba67-38d5714fb5e3",
    "outputId": "5c4a2034-bcc1-4598-9ce2-f3bc96904b70"
   },
   "outputs": [],
   "source": [
    "df['Make'] = df['Make'].fillna('Unknown')"
   ]
  },
  {
   "cell_type": "markdown",
   "id": "75b667b6-7d7c-46cb-8c9a-5375eb61f172",
   "metadata": {
    "id": "75b667b6-7d7c-46cb-8c9a-5375eb61f172"
   },
   "source": [
    "####Model"
   ]
  },
  {
   "cell_type": "code",
   "execution_count": 36,
   "id": "5f423d77-90a0-476f-9975-522353099b41",
   "metadata": {
    "colab": {
     "base_uri": "https://localhost:8080/"
    },
    "id": "5f423d77-90a0-476f-9975-522353099b41",
    "outputId": "92da622c-e61b-4585-c126-9cf97ed25e9c"
   },
   "outputs": [
    {
     "data": {
      "text/plain": [
       "92"
      ]
     },
     "execution_count": 36,
     "metadata": {},
     "output_type": "execute_result"
    }
   ],
   "source": [
    "df['Model'].isnull().sum()"
   ]
  },
  {
   "cell_type": "code",
   "execution_count": 37,
   "id": "6e5c1310-4ff1-4846-b692-dd68ea2d7971",
   "metadata": {
    "colab": {
     "base_uri": "https://localhost:8080/"
    },
    "id": "6e5c1310-4ff1-4846-b692-dd68ea2d7971",
    "outputId": "48edd2ec-eb87-474a-ac08-abf0f0e336a8"
   },
   "outputs": [],
   "source": [
    "df['Model'] = df['Model'].fillna('Unknown')"
   ]
  },
  {
   "cell_type": "markdown",
   "id": "bdd987be-beec-4193-b494-fbcdd63bf557",
   "metadata": {
    "id": "bdd987be-beec-4193-b494-fbcdd63bf557"
   },
   "source": [
    "####Amateur.Built"
   ]
  },
  {
   "cell_type": "code",
   "execution_count": 38,
   "id": "fead1ca6-b44a-49e4-9852-690cede3da68",
   "metadata": {
    "colab": {
     "base_uri": "https://localhost:8080/"
    },
    "id": "fead1ca6-b44a-49e4-9852-690cede3da68",
    "outputId": "d73eecf3-b9a7-49c1-81c2-6afe4134d932"
   },
   "outputs": [
    {
     "data": {
      "text/plain": [
       "102"
      ]
     },
     "execution_count": 38,
     "metadata": {},
     "output_type": "execute_result"
    }
   ],
   "source": [
    "df['Amateur.Built'].isnull().sum()"
   ]
  },
  {
   "cell_type": "code",
   "execution_count": 39,
   "id": "6605fb94-c0e2-4198-88b1-e2d54e31ae70",
   "metadata": {
    "colab": {
     "base_uri": "https://localhost:8080/"
    },
    "id": "6605fb94-c0e2-4198-88b1-e2d54e31ae70",
    "outputId": "4a8f5677-4684-4d68-e7b9-268432107ad1"
   },
   "outputs": [
    {
     "data": {
      "text/plain": [
       "array(['No', 'Yes', nan, '206B-III', ' EURO', '172', 'B200'], dtype=object)"
      ]
     },
     "execution_count": 39,
     "metadata": {},
     "output_type": "execute_result"
    }
   ],
   "source": [
    "df['Amateur.Built'].unique()"
   ]
  },
  {
   "cell_type": "raw",
   "id": "0046f68d-a3b8-434e-8fc6-71e14f998494",
   "metadata": {
    "id": "0046f68d-a3b8-434e-8fc6-71e14f998494"
   },
   "source": [
    "Gong to replace '206B-III', ' EURO', '172', 'B200' with Unknown since they might be errors from the previous column because they are Models of aircrafts."
   ]
  },
  {
   "cell_type": "code",
   "execution_count": 40,
   "id": "7d1d88c0-fb05-4290-9289-c3e3077dcab1",
   "metadata": {
    "colab": {
     "base_uri": "https://localhost:8080/"
    },
    "id": "7d1d88c0-fb05-4290-9289-c3e3077dcab1",
    "outputId": "5e1e4daf-3656-46d9-ae49-cda6c2312658"
   },
   "outputs": [
    {
     "data": {
      "text/plain": [
       "array(['No', 'Yes', nan, 'Unknown'], dtype=object)"
      ]
     },
     "execution_count": 40,
     "metadata": {},
     "output_type": "execute_result"
    }
   ],
   "source": [
    "df['Amateur.Built'] = df['Amateur.Built'].replace('206B-III','Unknown')\n",
    "df['Amateur.Built'] = df['Amateur.Built'].replace(' EURO','Unknown')\n",
    "df['Amateur.Built'] = df['Amateur.Built'].replace('172','Unknown')\n",
    "df['Amateur.Built'] = df['Amateur.Built'].replace('B200','Unknown')\n",
    "df['Amateur.Built'].unique()"
   ]
  },
  {
   "cell_type": "code",
   "execution_count": 41,
   "id": "f4c63b64-fa14-44a8-80db-f2bbd0fd4127",
   "metadata": {
    "colab": {
     "base_uri": "https://localhost:8080/"
    },
    "id": "f4c63b64-fa14-44a8-80db-f2bbd0fd4127",
    "outputId": "fc8bb41c-a41d-4a0d-f376-4b637915f51c"
   },
   "outputs": [
    {
     "data": {
      "text/plain": [
       "array(['No', 'Yes', 'Unknown'], dtype=object)"
      ]
     },
     "execution_count": 41,
     "metadata": {},
     "output_type": "execute_result"
    }
   ],
   "source": [
    "#filling missing values with Unkown too\n",
    "df['Amateur.Built'] = df['Amateur.Built'].fillna('Unknown')\n",
    "df['Amateur.Built'].unique()"
   ]
  },
  {
   "cell_type": "code",
   "execution_count": 42,
   "id": "f3cf2b6a-b75f-49e8-a68c-0adb04e8533a",
   "metadata": {
    "colab": {
     "base_uri": "https://localhost:8080/"
    },
    "id": "f3cf2b6a-b75f-49e8-a68c-0adb04e8533a",
    "outputId": "526591aa-b7cc-444e-aaea-45f93e853dbe"
   },
   "outputs": [
    {
     "name": "stdout",
     "output_type": "stream",
     "text": [
      "<class 'pandas.core.frame.DataFrame'>\n",
      "Index: 88851 entries, 0 to 88888\n",
      "Data columns (total 18 columns):\n",
      " #   Column                  Non-Null Count  Dtype  \n",
      "---  ------                  --------------  -----  \n",
      " 0   Event.Id                88851 non-null  object \n",
      " 1   Investigation.Type      88851 non-null  object \n",
      " 2   Event.Date              88851 non-null  object \n",
      " 3   Location                88851 non-null  object \n",
      " 4   Country                 88851 non-null  object \n",
      " 5   Injury.Severity         87852 non-null  object \n",
      " 6   Aircraft.damage         88851 non-null  object \n",
      " 7   Make                    88851 non-null  object \n",
      " 8   Model                   88851 non-null  object \n",
      " 9   Amateur.Built           88851 non-null  object \n",
      " 10  Number.of.Engines       82771 non-null  object \n",
      " 11  Engine.Type             81756 non-null  object \n",
      " 12  Purpose.of.flight       82660 non-null  object \n",
      " 13  Total.Fatal.Injuries    77453 non-null  object \n",
      " 14  Total.Serious.Injuries  76352 non-null  float64\n",
      " 15  Total.Minor.Injuries    76928 non-null  float64\n",
      " 16  Total.Uninjured         82943 non-null  float64\n",
      " 17  Weather.Condition       84360 non-null  object \n",
      "dtypes: float64(3), object(15)\n",
      "memory usage: 12.9+ MB\n"
     ]
    }
   ],
   "source": [
    "df.info()"
   ]
  },
  {
   "cell_type": "markdown",
   "id": "499622aa-b06a-4edc-8860-acdce19cfbff",
   "metadata": {
    "id": "499622aa-b06a-4edc-8860-acdce19cfbff"
   },
   "source": [
    "####Number.of.Engines"
   ]
  },
  {
   "cell_type": "code",
   "execution_count": 43,
   "id": "d989351d-25b7-43ec-b8ca-a23de1a2f380",
   "metadata": {
    "colab": {
     "base_uri": "https://localhost:8080/"
    },
    "id": "d989351d-25b7-43ec-b8ca-a23de1a2f380",
    "outputId": "a785f29e-3ad3-4f0b-feef-35cc1ff7fe09"
   },
   "outputs": [
    {
     "data": {
      "text/plain": [
       "6080"
      ]
     },
     "execution_count": 43,
     "metadata": {},
     "output_type": "execute_result"
    }
   ],
   "source": [
    "df['Number.of.Engines'].isnull().sum()"
   ]
  },
  {
   "cell_type": "code",
   "execution_count": 44,
   "id": "7d38b5f0-696b-4b76-b040-b44fc5ce6bcd",
   "metadata": {
    "colab": {
     "base_uri": "https://localhost:8080/"
    },
    "id": "7d38b5f0-696b-4b76-b040-b44fc5ce6bcd",
    "outputId": "8fac762c-9e79-402b-9f38-2db53f061836"
   },
   "outputs": [
    {
     "data": {
      "text/plain": [
       "array(['1', nan, '2', '0', '3', '4', 'No', 1.0, 2.0, 0.0, 3.0, 4.0, 'Yes',\n",
       "       8.0, 6.0], dtype=object)"
      ]
     },
     "execution_count": 44,
     "metadata": {},
     "output_type": "execute_result"
    }
   ],
   "source": [
    "df['Number.of.Engines'].unique()"
   ]
  },
  {
   "cell_type": "markdown",
   "id": "1d0008cb-0806-4d68-89fe-f3875287dfda",
   "metadata": {
    "id": "1d0008cb-0806-4d68-89fe-f3875287dfda"
   },
   "source": [
    "####Engine.Type"
   ]
  },
  {
   "cell_type": "code",
   "execution_count": 45,
   "id": "248c56c7-f1bd-49e4-a1e2-36283525a22c",
   "metadata": {
    "colab": {
     "base_uri": "https://localhost:8080/"
    },
    "id": "248c56c7-f1bd-49e4-a1e2-36283525a22c",
    "outputId": "3ebe7c81-bd91-4ce7-b6c3-3a2f14feb2ee"
   },
   "outputs": [
    {
     "data": {
      "text/plain": [
       "7095"
      ]
     },
     "execution_count": 45,
     "metadata": {},
     "output_type": "execute_result"
    }
   ],
   "source": [
    "df['Engine.Type'].isnull().sum()"
   ]
  },
  {
   "cell_type": "code",
   "execution_count": 46,
   "id": "ed0b5763-223b-43ca-ac98-e11fa7573279",
   "metadata": {
    "colab": {
     "base_uri": "https://localhost:8080/"
    },
    "id": "ed0b5763-223b-43ca-ac98-e11fa7573279",
    "outputId": "988f1fb8-ac28-49f7-a93d-5ebc84b8d7e5"
   },
   "outputs": [
    {
     "data": {
      "text/plain": [
       "array(['Reciprocating', nan, 'Turbo Fan', 'Turbo Shaft', 'Unknown',\n",
       "       'Turbo Prop', 'Turbo Jet', '1', '2', 'Electric', 'Hybrid Rocket',\n",
       "       'Geared Turbofan', 'LR', 'NONE', 'UNK'], dtype=object)"
      ]
     },
     "execution_count": 46,
     "metadata": {},
     "output_type": "execute_result"
    }
   ],
   "source": [
    "df['Engine.Type'].unique()"
   ]
  },
  {
   "cell_type": "code",
   "execution_count": 47,
   "id": "eb1d65d3-198f-420f-8c37-60219caaf5e9",
   "metadata": {
    "colab": {
     "base_uri": "https://localhost:8080/"
    },
    "id": "eb1d65d3-198f-420f-8c37-60219caaf5e9",
    "outputId": "dac3a663-1ef0-4485-c070-f80429ed1bb0"
   },
   "outputs": [
    {
     "data": {
      "text/plain": [
       "array(['Reciprocating', nan, 'Turbo Fan', 'Turbo Shaft', 'Unknown',\n",
       "       'Turbo Prop', 'Turbo Jet', 'Electric', 'Hybrid Rocket',\n",
       "       'Geared Turbofan', 'LR'], dtype=object)"
      ]
     },
     "execution_count": 47,
     "metadata": {},
     "output_type": "execute_result"
    }
   ],
   "source": [
    "#replacing 1,2,NONE, UNK with Unknown\n",
    "df['Engine.Type'] = df['Engine.Type'].replace('1','Unknown')\n",
    "df['Engine.Type'] = df['Engine.Type'].replace('2','Unknown')\n",
    "df['Engine.Type'] = df['Engine.Type'].replace('NONE','Unknown')\n",
    "df['Engine.Type'] = df['Engine.Type'].replace('UNK','Unknown')\n",
    "df['Engine.Type'].unique()"
   ]
  },
  {
   "cell_type": "markdown",
   "id": "d0c63a6f-bbc4-4420-9dd6-feea7b219684",
   "metadata": {
    "id": "d0c63a6f-bbc4-4420-9dd6-feea7b219684"
   },
   "source": [
    "####Purpose.of.flight"
   ]
  },
  {
   "cell_type": "code",
   "execution_count": 48,
   "id": "e92a2123-a427-4112-ad16-4c8af8b9fa7c",
   "metadata": {
    "colab": {
     "base_uri": "https://localhost:8080/"
    },
    "id": "e92a2123-a427-4112-ad16-4c8af8b9fa7c",
    "outputId": "4ab8bca0-2980-4b1f-e4a0-a3220637599c"
   },
   "outputs": [
    {
     "data": {
      "text/plain": [
       "6191"
      ]
     },
     "execution_count": 48,
     "metadata": {},
     "output_type": "execute_result"
    }
   ],
   "source": [
    "df['Purpose.of.flight'].isnull().sum()"
   ]
  },
  {
   "cell_type": "code",
   "execution_count": 49,
   "id": "e3f99f1f-25a0-4e91-a4a3-81af033d842f",
   "metadata": {
    "colab": {
     "base_uri": "https://localhost:8080/"
    },
    "id": "e3f99f1f-25a0-4e91-a4a3-81af033d842f",
    "outputId": "3e4fcae6-139d-495c-aa8c-f0ae7a252b53"
   },
   "outputs": [
    {
     "data": {
      "text/plain": [
       "array(['Personal', nan, 'Business', 'Instructional', 'Unknown', 'Ferry',\n",
       "       'Executive/corporate', 'Aerial Observation', 'Aerial Application',\n",
       "       'Public Aircraft', 'Skydiving', 'Other Work Use', 'Positioning',\n",
       "       'NSCH', 'Flight Test', 'Air Race/show', 'Air Drop',\n",
       "       'Public Aircraft - Federal', 'Glider Tow',\n",
       "       'Public Aircraft - Local', 'External Load',\n",
       "       'Public Aircraft - State', 'Banner Tow', 'Firefighting',\n",
       "       'Air Race show', 'PUBS', 'ASHO', 'PUBL'], dtype=object)"
      ]
     },
     "execution_count": 49,
     "metadata": {},
     "output_type": "execute_result"
    }
   ],
   "source": [
    "df['Purpose.of.flight'].unique()"
   ]
  },
  {
   "cell_type": "markdown",
   "id": "64e24937-de69-46f7-82ff-345b9a5350c1",
   "metadata": {
    "id": "64e24937-de69-46f7-82ff-345b9a5350c1"
   },
   "source": [
    "####Total.Fatal.Injuries"
   ]
  },
  {
   "cell_type": "code",
   "execution_count": 50,
   "id": "de695bf0-f556-41cd-bcb7-7b71c11d9ccc",
   "metadata": {
    "colab": {
     "base_uri": "https://localhost:8080/"
    },
    "id": "de695bf0-f556-41cd-bcb7-7b71c11d9ccc",
    "outputId": "bfdb87d1-d3c2-4449-9ecf-d0a1146d97b7"
   },
   "outputs": [
    {
     "data": {
      "text/plain": [
       "11398"
      ]
     },
     "execution_count": 50,
     "metadata": {},
     "output_type": "execute_result"
    }
   ],
   "source": [
    "df['Total.Fatal.Injuries'].isnull().sum()"
   ]
  },
  {
   "cell_type": "code",
   "execution_count": 51,
   "id": "16b2022a-8a96-4ba8-acdb-ba011e1f9245",
   "metadata": {
    "colab": {
     "base_uri": "https://localhost:8080/"
    },
    "id": "16b2022a-8a96-4ba8-acdb-ba011e1f9245",
    "outputId": "d19f2e4e-f427-465d-fc90-3a36947c8502"
   },
   "outputs": [
    {
     "data": {
      "text/plain": [
       "array(['2', '4', '3', '1', nan, '0', '8', '78', '7', '6', '5', '153',\n",
       "       '12', '14', '23', '10', '11', '9', '17', '13', '29', '70',\n",
       "       '(dba: Kenai Helicopters)', '135', '31', '256', '25', '82', 0.0,\n",
       "       2.0, 1.0, 4.0, 3.0, 5.0, 6.0, 10.0, 9.0, 156.0, 28.0, 8.0, 18.0,\n",
       "       43.0, 15.0, 12.0, 7.0, 14.0, 270.0, 144.0, 174.0, 11.0, 111.0,\n",
       "       131.0, 20.0, 73.0, 27.0, 34.0, 25.0, 23.0, 13.0, 87.0, 30.0, 16.0,\n",
       "       47.0, 56.0, 37.0, 132.0, 68.0, 54.0, 52.0, 65.0, 72.0, 160.0,\n",
       "       189.0, 123.0, 33.0, 110.0, 230.0, 70.0, 97.0, 349.0, 125.0, 29.0,\n",
       "       35.0, 228.0, 75.0, 104.0, 229.0, 80.0, 217.0, 169.0, 88.0, 19.0,\n",
       "       60.0, 113.0, 143.0, 83.0, 24.0, 44.0, 64.0, 92.0, 118.0, 265.0,\n",
       "       26.0, 138.0, 206.0, 71.0, 21.0, 46.0, 102.0, 115.0, 141.0, 55.0,\n",
       "       121.0, 45.0, 145.0, 117.0, 107.0, 124.0, 49.0, 154.0, 96.0, 114.0,\n",
       "       199.0, 89.0, 57.0, 17.0, '24', '49', '228', '152', '90', '89',\n",
       "       '103', '158', '157', '42', '21', '77',\n",
       "       ' pending outcome of trial.', '19', '18', '28', '127', '44', '50',\n",
       "       '33', '239', '295', '58', '162', '43', '150', ' CAROL A. WIDENER',\n",
       "       '224', '62', '66', '16', 'a-ASA', '71', '112', 188, 157, 41, 176,\n",
       "       62], dtype=object)"
      ]
     },
     "execution_count": 51,
     "metadata": {},
     "output_type": "execute_result"
    }
   ],
   "source": [
    "df['Total.Fatal.Injuries'].unique()"
   ]
  },
  {
   "cell_type": "code",
   "execution_count": 52,
   "id": "ab764a18-bfc9-4764-972a-7ffe2cbf5683",
   "metadata": {
    "id": "ab764a18-bfc9-4764-972a-7ffe2cbf5683"
   },
   "outputs": [],
   "source": [
    "#dropping rows with (dba: Kenai Helicopters),  pending outcome of trial., CAROL A. WIDENER,a-ASA\n"
   ]
  },
  {
   "cell_type": "code",
   "execution_count": 53,
   "id": "be228971-53cc-4114-8ca2-373a7cba4b79",
   "metadata": {
    "colab": {
     "base_uri": "https://localhost:8080/"
    },
    "id": "be228971-53cc-4114-8ca2-373a7cba4b79",
    "outputId": "4367b594-a77e-448e-bb24-a3275f13490c"
   },
   "outputs": [
    {
     "name": "stdout",
     "output_type": "stream",
     "text": [
      "<class 'pandas.core.frame.DataFrame'>\n",
      "Index: 88851 entries, 0 to 88888\n",
      "Data columns (total 18 columns):\n",
      " #   Column                  Non-Null Count  Dtype  \n",
      "---  ------                  --------------  -----  \n",
      " 0   Event.Id                88851 non-null  object \n",
      " 1   Investigation.Type      88851 non-null  object \n",
      " 2   Event.Date              88851 non-null  object \n",
      " 3   Location                88851 non-null  object \n",
      " 4   Country                 88851 non-null  object \n",
      " 5   Injury.Severity         87852 non-null  object \n",
      " 6   Aircraft.damage         88851 non-null  object \n",
      " 7   Make                    88851 non-null  object \n",
      " 8   Model                   88851 non-null  object \n",
      " 9   Amateur.Built           88851 non-null  object \n",
      " 10  Number.of.Engines       82771 non-null  object \n",
      " 11  Engine.Type             81756 non-null  object \n",
      " 12  Purpose.of.flight       82660 non-null  object \n",
      " 13  Total.Fatal.Injuries    77453 non-null  object \n",
      " 14  Total.Serious.Injuries  76352 non-null  float64\n",
      " 15  Total.Minor.Injuries    76928 non-null  float64\n",
      " 16  Total.Uninjured         82943 non-null  float64\n",
      " 17  Weather.Condition       84360 non-null  object \n",
      "dtypes: float64(3), object(15)\n",
      "memory usage: 12.9+ MB\n"
     ]
    }
   ],
   "source": [
    "df.info()"
   ]
  },
  {
   "cell_type": "markdown",
   "id": "628aa882-95ff-4089-96fc-4a28d115e2f0",
   "metadata": {
    "id": "628aa882-95ff-4089-96fc-4a28d115e2f0"
   },
   "source": [
    "####Total.Serious.Injuries"
   ]
  },
  {
   "cell_type": "code",
   "execution_count": 54,
   "id": "e3f3b595-971e-4105-9378-b1445c1c013f",
   "metadata": {
    "colab": {
     "base_uri": "https://localhost:8080/"
    },
    "id": "e3f3b595-971e-4105-9378-b1445c1c013f",
    "outputId": "a9c7fc60-b4f9-41f5-d482-78ae444c08b3"
   },
   "outputs": [
    {
     "data": {
      "text/plain": [
       "12499"
      ]
     },
     "execution_count": 54,
     "metadata": {},
     "output_type": "execute_result"
    }
   ],
   "source": [
    "df['Total.Serious.Injuries'].isnull().sum()"
   ]
  },
  {
   "cell_type": "code",
   "execution_count": 55,
   "id": "15156609-4a2c-4957-8d75-f6047ac566b2",
   "metadata": {
    "colab": {
     "base_uri": "https://localhost:8080/"
    },
    "id": "15156609-4a2c-4957-8d75-f6047ac566b2",
    "outputId": "e924c1b5-0715-4906-d59f-b316c431467a"
   },
   "outputs": [
    {
     "data": {
      "text/plain": [
       "array([  0.,  nan,   2.,   1.,   6.,   4.,   5.,  10.,   3.,   8.,   9.,\n",
       "         7.,  15.,  17.,  28.,  26.,  47.,  14.,  81.,  13., 106.,  60.,\n",
       "        16.,  21.,  50.,  44.,  18.,  12.,  45.,  39.,  43.,  11.,  25.,\n",
       "        59.,  23.,  55.,  63.,  88.,  41.,  34.,  53.,  33.,  67.,  35.,\n",
       "        20., 137.,  19.,  27., 125., 161.,  22.])"
      ]
     },
     "execution_count": 55,
     "metadata": {},
     "output_type": "execute_result"
    }
   ],
   "source": [
    "df['Total.Serious.Injuries'].unique()"
   ]
  },
  {
   "cell_type": "markdown",
   "id": "35dabee3-9d24-4501-bdfc-31a61ed62738",
   "metadata": {
    "id": "35dabee3-9d24-4501-bdfc-31a61ed62738"
   },
   "source": [
    "####Total.Minor.Injuries"
   ]
  },
  {
   "cell_type": "code",
   "execution_count": 56,
   "id": "376982cd-703a-48e2-af89-63bc1078f6bb",
   "metadata": {
    "colab": {
     "base_uri": "https://localhost:8080/"
    },
    "id": "376982cd-703a-48e2-af89-63bc1078f6bb",
    "outputId": "14dced44-4ce7-4809-eaca-69ba559ca56d"
   },
   "outputs": [
    {
     "data": {
      "text/plain": [
       "11923"
      ]
     },
     "execution_count": 56,
     "metadata": {},
     "output_type": "execute_result"
    }
   ],
   "source": [
    "df['Total.Minor.Injuries'].isnull().sum()"
   ]
  },
  {
   "cell_type": "code",
   "execution_count": 57,
   "id": "6a243198-217c-440e-b56b-23a7c6554181",
   "metadata": {
    "colab": {
     "base_uri": "https://localhost:8080/"
    },
    "id": "6a243198-217c-440e-b56b-23a7c6554181",
    "outputId": "2c492c98-3b9e-4ba7-8ed8-65054ac9a51e"
   },
   "outputs": [
    {
     "data": {
      "text/plain": [
       "array([  0.,  nan,   1.,   3.,   2.,   4.,  24.,   6.,   5.,  25.,  17.,\n",
       "        19.,  33.,  14.,   8.,  13.,  15.,   7.,   9.,  16.,  20.,  11.,\n",
       "        12.,  10.,  38.,  42.,  29.,  62.,  28.,  31.,  39.,  32.,  18.,\n",
       "        27.,  57.,  50.,  23., 125.,  45.,  26.,  36.,  69.,  21.,  96.,\n",
       "        30.,  22.,  58., 171.,  65.,  71., 200.,  68.,  47., 380.,  35.,\n",
       "        43.,  84.,  40.])"
      ]
     },
     "execution_count": 57,
     "metadata": {},
     "output_type": "execute_result"
    }
   ],
   "source": [
    "df['Total.Minor.Injuries'].unique()"
   ]
  },
  {
   "cell_type": "markdown",
   "id": "fe82f7fc-9a6d-4e86-8e01-9031eb8c9b52",
   "metadata": {
    "id": "fe82f7fc-9a6d-4e86-8e01-9031eb8c9b52"
   },
   "source": [
    "####Total.Uninjured"
   ]
  },
  {
   "cell_type": "code",
   "execution_count": 58,
   "id": "aabe8c8e-68fb-4af7-bd3c-5ae06af1cec9",
   "metadata": {
    "colab": {
     "base_uri": "https://localhost:8080/"
    },
    "id": "aabe8c8e-68fb-4af7-bd3c-5ae06af1cec9",
    "outputId": "5b148ead-8c7b-439e-b660-555a3badd373"
   },
   "outputs": [
    {
     "data": {
      "text/plain": [
       "5908"
      ]
     },
     "execution_count": 58,
     "metadata": {},
     "output_type": "execute_result"
    }
   ],
   "source": [
    "df['Total.Uninjured'].isnull().sum()"
   ]
  },
  {
   "cell_type": "code",
   "execution_count": 59,
   "id": "1efa2760-7047-4ed1-9af6-e074492aaee4",
   "metadata": {
    "colab": {
     "base_uri": "https://localhost:8080/"
    },
    "id": "1efa2760-7047-4ed1-9af6-e074492aaee4",
    "outputId": "cad8c537-7c68-4ccf-a1a3-938658d1c753"
   },
   "outputs": [
    {
     "data": {
      "text/plain": [
       "array([  0.,  nan,  44.,   2.,   1.,   3.,   6.,   4., 149.,  12., 182.,\n",
       "       154.,   5.,  10.,   7., 119.,  36.,  51.,  16.,  83.,   9.,  68.,\n",
       "        30.,  20.,  18.,   8., 108.,  11., 152.,  21.,  48.,  56., 113.,\n",
       "       129., 109.,  29.,  13.,  84.,  74., 142., 102., 393., 128., 112.,\n",
       "        17.,  65.,  67., 136.,  23., 116.,  22.,  57.,  58.,  73., 203.,\n",
       "        31., 201., 412., 159.,  39., 186., 588.,  82.,  95., 146., 190.,\n",
       "       245., 172.,  52.,  25.,  59., 131., 151., 180., 150.,  86.,  19.,\n",
       "       133., 240.,  15., 145., 125., 440.,  77., 122., 205., 289., 110.,\n",
       "        79.,  66.,  87.,  78.,  49., 104., 250.,  33., 138., 100.,  53.,\n",
       "       158., 127., 160., 260.,  47.,  38., 165., 495.,  81.,  41.,  14.,\n",
       "        72.,  98., 263., 188., 239.,  27., 105., 111., 212., 157.,  46.,\n",
       "       121.,  75.,  71.,  45.,  91.,  99.,  85.,  96.,  50.,  93., 276.,\n",
       "       365., 371., 200., 103., 189.,  37., 107.,  61.,  26., 271., 130.,\n",
       "        89., 439., 132., 219.,  43., 238., 195., 118., 175.,  32., 507.,\n",
       "       421.,  90., 225., 269., 169., 236., 224., 134., 106., 331., 140.,\n",
       "        94., 192., 161., 270.,  69., 436., 213., 233., 115.,  42., 167.,\n",
       "       137., 114., 148., 222.,  92., 375.,  76., 171., 173., 246., 234.,\n",
       "       123., 220., 202., 408., 279., 363., 135., 528., 334., 178., 147.,\n",
       "       126.,  62.,  70.,  97., 228., 226.,  64., 290., 206., 297., 349.,\n",
       "       208., 144.,  54.,  24., 258., 304., 274., 286.,  55., 199., 221.,\n",
       "        80., 272., 211., 262., 441., 194., 309., 185., 261., 241., 383.,\n",
       "       177., 259., 244., 254., 156.,  40.,  34., 247., 176.,  63.,  28.,\n",
       "       218., 282., 320., 204., 124., 215., 298., 120., 280., 179., 315.,\n",
       "       461., 153.,  60., 308.,  88., 361., 277., 191., 235., 187., 101.,\n",
       "       162.,  35., 197., 193., 164., 370., 387., 163., 139., 267., 357.,\n",
       "       339., 288., 231., 300., 255., 306., 443., 385., 248., 459., 141.,\n",
       "       414., 229., 166., 209., 184., 168., 170., 198., 299., 573., 223.,\n",
       "       265., 322., 196., 117., 253., 399., 360., 252., 217., 155., 183.,\n",
       "       227., 249., 329., 340., 699., 325., 287., 143., 243., 230., 386.,\n",
       "       181., 257., 283., 404., 319., 450., 356., 216., 174., 558., 214.,\n",
       "       448., 324., 338., 273., 232., 401., 312., 368., 501., 237., 307.,\n",
       "       296., 291., 403., 314., 285., 311., 293., 352., 332., 384., 275.,\n",
       "       210., 268., 326., 454., 278., 576., 380., 394., 362., 397., 359.,\n",
       "       264., 333., 367., 302., 348., 351., 358., 295., 321., 521., 301.,\n",
       "       294., 378., 207., 406., 251., 455.])"
      ]
     },
     "execution_count": 59,
     "metadata": {},
     "output_type": "execute_result"
    }
   ],
   "source": [
    "df['Total.Uninjured'].unique()"
   ]
  },
  {
   "cell_type": "markdown",
   "id": "62fb1e80-b348-4eb7-b2cd-16bd0f47ba0b",
   "metadata": {
    "id": "62fb1e80-b348-4eb7-b2cd-16bd0f47ba0b"
   },
   "source": [
    "####Weather.Condition"
   ]
  },
  {
   "cell_type": "code",
   "execution_count": 60,
   "id": "d3a27da5-1f2e-4474-9f63-55af62e8b63c",
   "metadata": {
    "colab": {
     "base_uri": "https://localhost:8080/"
    },
    "id": "d3a27da5-1f2e-4474-9f63-55af62e8b63c",
    "outputId": "5a52d57f-54b1-4fa5-d0bf-c616a7fc7a54"
   },
   "outputs": [
    {
     "data": {
      "text/plain": [
       "4491"
      ]
     },
     "execution_count": 60,
     "metadata": {},
     "output_type": "execute_result"
    }
   ],
   "source": [
    "df['Weather.Condition'].isnull().sum()"
   ]
  },
  {
   "cell_type": "code",
   "execution_count": 61,
   "id": "c8a0e678-733f-4e3c-a7d5-0cda52f56af9",
   "metadata": {
    "colab": {
     "base_uri": "https://localhost:8080/"
    },
    "id": "c8a0e678-733f-4e3c-a7d5-0cda52f56af9",
    "outputId": "eca2851d-dbab-47ca-f284-4b122a423413"
   },
   "outputs": [
    {
     "data": {
      "text/plain": [
       "array(['UNK', 'IMC', 'VMC', nan, '4', '0', '2', 'Unk'], dtype=object)"
      ]
     },
     "execution_count": 61,
     "metadata": {},
     "output_type": "execute_result"
    }
   ],
   "source": [
    "df['Weather.Condition'].unique()"
   ]
  },
  {
   "cell_type": "code",
   "execution_count": 62,
   "id": "7c8ea1a5-f78e-48a4-97c2-d8d0c018dadb",
   "metadata": {
    "colab": {
     "base_uri": "https://localhost:8080/"
    },
    "id": "7c8ea1a5-f78e-48a4-97c2-d8d0c018dadb",
    "outputId": "080f56b4-8135-4cba-e9a6-9eb27e93f061"
   },
   "outputs": [
    {
     "data": {
      "text/plain": [
       "array(['Unknown', 'IMC', 'VMC', nan], dtype=object)"
      ]
     },
     "execution_count": 62,
     "metadata": {},
     "output_type": "execute_result"
    }
   ],
   "source": [
    "#replacing 4,0,2, Unk with unknown\n",
    "df['Weather.Condition'] = df['Weather.Condition'].replace('4','Unknown')\n",
    "df['Weather.Condition'] = df['Weather.Condition'].replace('0','Unknown')\n",
    "df['Weather.Condition'] = df['Weather.Condition'].replace('2','Unknown')\n",
    "df['Weather.Condition'] = df['Weather.Condition'].replace('Unk','Unknown')\n",
    "df['Weather.Condition'] = df['Weather.Condition'].replace('UNK','Unknown')\n",
    "df['Weather.Condition'].unique()"
   ]
  },
  {
   "cell_type": "code",
   "execution_count": null,
   "id": "f455d98c-1111-4a52-b4e2-787f0f07768a",
   "metadata": {
    "id": "f455d98c-1111-4a52-b4e2-787f0f07768a"
   },
   "outputs": [],
   "source": []
  },
  {
   "cell_type": "markdown",
   "id": "LNX4FOa6SaIi",
   "metadata": {
    "id": "LNX4FOa6SaIi"
   },
   "source": [
    "## **DATA VISUALIZATION**"
   ]
  },
  {
   "cell_type": "code",
   "execution_count": null,
   "id": "27FMuL3KSf_f",
   "metadata": {
    "id": "27FMuL3KSf_f"
   },
   "outputs": [],
   "source": []
  }
 ],
 "metadata": {
  "colab": {
   "collapsed_sections": [
    "Sul1PTzhOh15",
    "7jwTsv7hPB8n",
    "d3bea5c2-320e-4cb0-9e2f-20c66481a5c2",
    "LNX4FOa6SaIi"
   ],
   "provenance": [],
   "toc_visible": true
  },
  "kernelspec": {
   "display_name": "Python 3 (ipykernel)",
   "language": "python",
   "name": "python3"
  },
  "language_info": {
   "codemirror_mode": {
    "name": "ipython",
    "version": 3
   },
   "file_extension": ".py",
   "mimetype": "text/x-python",
   "name": "python",
   "nbconvert_exporter": "python",
   "pygments_lexer": "ipython3",
   "version": "3.12.7"
  }
 },
 "nbformat": 4,
 "nbformat_minor": 5
}

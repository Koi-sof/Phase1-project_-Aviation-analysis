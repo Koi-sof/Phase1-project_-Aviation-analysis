{
 "cells": [
  {
   "cell_type": "code",
   "execution_count": 1,
   "id": "fa05159e-b58a-4bdb-8cf6-fcb6701735a3",
   "metadata": {},
   "outputs": [],
   "source": [
    "import pandas as pd\n",
    "import numpy as np\n",
    "import seaborn as sns\n",
    "import matplotlib.pyplot as plt"
   ]
  },
  {
   "cell_type": "code",
   "execution_count": 2,
   "id": "283d8354-c253-4a37-849d-d9694c01744d",
   "metadata": {},
   "outputs": [
    {
     "name": "stderr",
     "output_type": "stream",
     "text": [
      "/tmp/ipykernel_31647/3455165800.py:1: DtypeWarning: Columns (6,7,17,23,28,31) have mixed types. Specify dtype option on import or set low_memory=False.\n",
      "  df = pd.read_csv('/home/muchiri/Moringa/phase1/project/AviationData.csv')\n"
     ]
    }
   ],
   "source": [
    "df = pd.read_csv('/home/muchiri/Moringa/phase1/project/AviationData.csv')"
   ]
  },
  {
   "cell_type": "markdown",
   "id": "dd5f6440-0141-49f4-b5bc-491b02ea8006",
   "metadata": {},
   "source": [
    "DATA CLEANING"
   ]
  },
  {
   "cell_type": "code",
   "execution_count": 3,
   "id": "1127b7a9-a639-4fc8-b916-ec20356b8949",
   "metadata": {},
   "outputs": [
    {
     "name": "stdout",
     "output_type": "stream",
     "text": [
      "[nan 36.922223 42.445277 ... '321814N' '039101N' '373829N']\n",
      "[nan -81.878056 -70.758333 ... '1114536W' '0835218W' '0121410W']\n",
      "['1' nan '2' '0' '3' '4' 'No' 1.0 2.0 0.0 3.0 4.0 'Yes' 8.0 6.0]\n",
      "['2' '4' '3' '1' nan '0' '8' '78' '7' '6' '5' '153' '12' '14' '23' '10'\n",
      " '11' '9' '17' '13' '29' '70' '(dba: Kenai Helicopters)' '135' '31' '256'\n",
      " '25' '82' 0.0 2.0 1.0 4.0 3.0 5.0 6.0 10.0 9.0 156.0 28.0 8.0 18.0 43.0\n",
      " 15.0 12.0 7.0 14.0 270.0 144.0 174.0 11.0 111.0 131.0 20.0 73.0 27.0 34.0\n",
      " 25.0 23.0 13.0 87.0 30.0 16.0 47.0 56.0 37.0 132.0 68.0 54.0 52.0 65.0\n",
      " 72.0 160.0 189.0 123.0 33.0 110.0 230.0 70.0 97.0 349.0 125.0 29.0 35.0\n",
      " 228.0 75.0 104.0 229.0 80.0 217.0 169.0 88.0 19.0 60.0 113.0 143.0 83.0\n",
      " 24.0 44.0 64.0 92.0 118.0 265.0 26.0 138.0 206.0 71.0 21.0 46.0 102.0\n",
      " 115.0 141.0 55.0 121.0 45.0 145.0 117.0 107.0 124.0 49.0 154.0 96.0 114.0\n",
      " 199.0 89.0 57.0 17.0 '24' '49' '228' '152' '90' '89' '103' '158' '157'\n",
      " '42' '21' '77' ' pending outcome of trial.' '19' '18' '28' '127' '44'\n",
      " '50' '33' '239' '295' '58' '162' '43' '150' ' CAROL A. WIDENER' '224'\n",
      " '62' '66' '16' 'a-ASA' '71' '112' 188 157 41 176 62]\n",
      "['Cruise' 'Unknown' 'Approach' 'Climb' 'Takeoff' 'Landing' 'Taxi'\n",
      " 'Descent' 'Maneuvering' 'Standing' 'Go-around' 'Other' nan 'VMC' 'IMC']\n",
      "[nan '21-06-2000' '25-11-2003' '13-09-2005' '03-11-2020' '25-09-2020']\n"
     ]
    }
   ],
   "source": [
    "# Checking the unique values in the rows mentioned above to determine what data type to assign each column.\n",
    "for col in [6, 7, 17, 23, 28, 31]:\n",
    "    print(df.iloc[:, col].unique())"
   ]
  },
  {
   "cell_type": "code",
   "execution_count": 4,
   "id": "60dbf9ec-d567-435b-8d34-e61554705b9e",
   "metadata": {},
   "outputs": [
    {
     "name": "stdout",
     "output_type": "stream",
     "text": [
      "<class 'pandas.core.frame.DataFrame'>\n",
      "RangeIndex: 88889 entries, 0 to 88888\n",
      "Data columns (total 32 columns):\n",
      " #   Column                  Non-Null Count  Dtype  \n",
      "---  ------                  --------------  -----  \n",
      " 0   Event.Id                88889 non-null  object \n",
      " 1   Investigation.Type      88889 non-null  object \n",
      " 2   Accident.Number         88889 non-null  object \n",
      " 3   Event.Date              88889 non-null  object \n",
      " 4   Location                88837 non-null  object \n",
      " 5   Country                 88663 non-null  object \n",
      " 6   Latitude                34382 non-null  object \n",
      " 7   Longitude               34373 non-null  object \n",
      " 8   Airport.Code            50132 non-null  object \n",
      " 9   Airport.Name            52703 non-null  object \n",
      " 10  Injury.Severity         87889 non-null  object \n",
      " 11  Aircraft.damage         85695 non-null  object \n",
      " 12  Aircraft.Category       32289 non-null  object \n",
      " 13  Registration.Number     87505 non-null  object \n",
      " 14  Make                    88826 non-null  object \n",
      " 15  Model                   88797 non-null  object \n",
      " 16  Amateur.Built           88787 non-null  object \n",
      " 17  Number.of.Engines       82806 non-null  object \n",
      " 18  Engine.Type             81792 non-null  object \n",
      " 19  FAR.Description         32026 non-null  object \n",
      " 20  Schedule                12582 non-null  object \n",
      " 21  Purpose.of.flight       82694 non-null  object \n",
      " 22  Air.carrier             16651 non-null  object \n",
      " 23  Total.Fatal.Injuries    77486 non-null  object \n",
      " 24  Total.Serious.Injuries  76380 non-null  float64\n",
      " 25  Total.Minor.Injuries    76956 non-null  float64\n",
      " 26  Total.Uninjured         82976 non-null  float64\n",
      " 27  Weather.Condition       84397 non-null  object \n",
      " 28  Broad.phase.of.flight   61726 non-null  object \n",
      " 29  Report.Status           82502 non-null  object \n",
      " 30  Publication.Date        75118 non-null  object \n",
      " 31  Unnamed: 31             26 non-null     object \n",
      "dtypes: float64(3), object(29)\n",
      "memory usage: 21.7+ MB\n"
     ]
    }
   ],
   "source": [
    "# Checking the columns that were mentioned and what they represent.\n",
    "df.info()"
   ]
  },
  {
   "cell_type": "raw",
   "id": "5060249a-faec-4871-85f6-e32972a372eb",
   "metadata": {},
   "source": [
    "Out of the mentioned columns, i only need columns 17 and 23; so i will focus on them\n",
    "and drop the other columns later."
   ]
  },
  {
   "cell_type": "code",
   "execution_count": 5,
   "id": "9b520da7-5425-4799-9415-5c07d199be89",
   "metadata": {},
   "outputs": [],
   "source": [
    "# changing column 23 to string to avoid dtype issues\n",
    "df['Total.Fatal.Injuries'] = df['Total.Fatal.Injuries'].astype(str)\n",
    "\n",
    "# converting the numeric-like values and setting others to NaN\n",
    "df['Total.Fatal.Injuries'] = pd.to_numeric(df['Total.Fatal.Injuries'], errors='coerce')"
   ]
  },
  {
   "cell_type": "code",
   "execution_count": 6,
   "id": "41a49999-a104-4c1e-ad25-7d23ab5f1f44",
   "metadata": {},
   "outputs": [],
   "source": [
    "# changing column 17 to string to avoid dtype issues then converting numeric-like values\n",
    "# and setting others to NaN\n",
    "df['Number.of.Engines'] = df['Number.of.Engines'].astype(str)\n",
    "df['Number.of.Engines'] = pd.to_numeric(df['Number.of.Engines'], errors='coerce')"
   ]
  },
  {
   "cell_type": "code",
   "execution_count": 7,
   "id": "292bdccd-37e0-4c61-84c1-9481b84632f3",
   "metadata": {},
   "outputs": [
    {
     "name": "stdout",
     "output_type": "stream",
     "text": [
      "<class 'pandas.core.frame.DataFrame'>\n",
      "RangeIndex: 88889 entries, 0 to 88888\n",
      "Data columns (total 32 columns):\n",
      " #   Column                  Non-Null Count  Dtype  \n",
      "---  ------                  --------------  -----  \n",
      " 0   Event.Id                88889 non-null  object \n",
      " 1   Investigation.Type      88889 non-null  object \n",
      " 2   Accident.Number         88889 non-null  object \n",
      " 3   Event.Date              88889 non-null  object \n",
      " 4   Location                88837 non-null  object \n",
      " 5   Country                 88663 non-null  object \n",
      " 6   Latitude                34382 non-null  object \n",
      " 7   Longitude               34373 non-null  object \n",
      " 8   Airport.Code            50132 non-null  object \n",
      " 9   Airport.Name            52703 non-null  object \n",
      " 10  Injury.Severity         87889 non-null  object \n",
      " 11  Aircraft.damage         85695 non-null  object \n",
      " 12  Aircraft.Category       32289 non-null  object \n",
      " 13  Registration.Number     87505 non-null  object \n",
      " 14  Make                    88826 non-null  object \n",
      " 15  Model                   88797 non-null  object \n",
      " 16  Amateur.Built           88787 non-null  object \n",
      " 17  Number.of.Engines       82802 non-null  float64\n",
      " 18  Engine.Type             81792 non-null  object \n",
      " 19  FAR.Description         32026 non-null  object \n",
      " 20  Schedule                12582 non-null  object \n",
      " 21  Purpose.of.flight       82694 non-null  object \n",
      " 22  Air.carrier             16651 non-null  object \n",
      " 23  Total.Fatal.Injuries    77482 non-null  float64\n",
      " 24  Total.Serious.Injuries  76380 non-null  float64\n",
      " 25  Total.Minor.Injuries    76956 non-null  float64\n",
      " 26  Total.Uninjured         82976 non-null  float64\n",
      " 27  Weather.Condition       84397 non-null  object \n",
      " 28  Broad.phase.of.flight   61726 non-null  object \n",
      " 29  Report.Status           82502 non-null  object \n",
      " 30  Publication.Date        75118 non-null  object \n",
      " 31  Unnamed: 31             26 non-null     object \n",
      "dtypes: float64(5), object(27)\n",
      "memory usage: 21.7+ MB\n"
     ]
    }
   ],
   "source": [
    "df.info()"
   ]
  },
  {
   "cell_type": "code",
   "execution_count": 8,
   "id": "b6225a7a-099d-4d0c-87ff-81b9e503b3db",
   "metadata": {},
   "outputs": [
    {
     "data": {
      "text/html": [
       "<div>\n",
       "<style scoped>\n",
       "    .dataframe tbody tr th:only-of-type {\n",
       "        vertical-align: middle;\n",
       "    }\n",
       "\n",
       "    .dataframe tbody tr th {\n",
       "        vertical-align: top;\n",
       "    }\n",
       "\n",
       "    .dataframe thead th {\n",
       "        text-align: right;\n",
       "    }\n",
       "</style>\n",
       "<table border=\"1\" class=\"dataframe\">\n",
       "  <thead>\n",
       "    <tr style=\"text-align: right;\">\n",
       "      <th></th>\n",
       "      <th>Event.Id</th>\n",
       "      <th>Investigation.Type</th>\n",
       "      <th>Accident.Number</th>\n",
       "      <th>Event.Date</th>\n",
       "      <th>Location</th>\n",
       "      <th>Country</th>\n",
       "      <th>Latitude</th>\n",
       "      <th>Longitude</th>\n",
       "      <th>Airport.Code</th>\n",
       "      <th>Airport.Name</th>\n",
       "      <th>...</th>\n",
       "      <th>Air.carrier</th>\n",
       "      <th>Total.Fatal.Injuries</th>\n",
       "      <th>Total.Serious.Injuries</th>\n",
       "      <th>Total.Minor.Injuries</th>\n",
       "      <th>Total.Uninjured</th>\n",
       "      <th>Weather.Condition</th>\n",
       "      <th>Broad.phase.of.flight</th>\n",
       "      <th>Report.Status</th>\n",
       "      <th>Publication.Date</th>\n",
       "      <th>Unnamed: 31</th>\n",
       "    </tr>\n",
       "  </thead>\n",
       "  <tbody>\n",
       "    <tr>\n",
       "      <th>0</th>\n",
       "      <td>20001218X45444</td>\n",
       "      <td>Accident</td>\n",
       "      <td>SEA87LA080</td>\n",
       "      <td>1948-10-24</td>\n",
       "      <td>MOOSE CREEK, ID</td>\n",
       "      <td>United States</td>\n",
       "      <td>NaN</td>\n",
       "      <td>NaN</td>\n",
       "      <td>NaN</td>\n",
       "      <td>NaN</td>\n",
       "      <td>...</td>\n",
       "      <td>NaN</td>\n",
       "      <td>2.0</td>\n",
       "      <td>0.0</td>\n",
       "      <td>0.0</td>\n",
       "      <td>0.0</td>\n",
       "      <td>UNK</td>\n",
       "      <td>Cruise</td>\n",
       "      <td>Probable Cause</td>\n",
       "      <td>NaN</td>\n",
       "      <td>NaN</td>\n",
       "    </tr>\n",
       "    <tr>\n",
       "      <th>1</th>\n",
       "      <td>20001218X45447</td>\n",
       "      <td>Accident</td>\n",
       "      <td>LAX94LA336</td>\n",
       "      <td>1962-07-19</td>\n",
       "      <td>BRIDGEPORT, CA</td>\n",
       "      <td>United States</td>\n",
       "      <td>NaN</td>\n",
       "      <td>NaN</td>\n",
       "      <td>NaN</td>\n",
       "      <td>NaN</td>\n",
       "      <td>...</td>\n",
       "      <td>NaN</td>\n",
       "      <td>4.0</td>\n",
       "      <td>0.0</td>\n",
       "      <td>0.0</td>\n",
       "      <td>0.0</td>\n",
       "      <td>UNK</td>\n",
       "      <td>Unknown</td>\n",
       "      <td>Probable Cause</td>\n",
       "      <td>19-09-1996</td>\n",
       "      <td>NaN</td>\n",
       "    </tr>\n",
       "    <tr>\n",
       "      <th>2</th>\n",
       "      <td>20061025X01555</td>\n",
       "      <td>Accident</td>\n",
       "      <td>NYC07LA005</td>\n",
       "      <td>1974-08-30</td>\n",
       "      <td>Saltville, VA</td>\n",
       "      <td>United States</td>\n",
       "      <td>36.922223</td>\n",
       "      <td>-81.878056</td>\n",
       "      <td>NaN</td>\n",
       "      <td>NaN</td>\n",
       "      <td>...</td>\n",
       "      <td>NaN</td>\n",
       "      <td>3.0</td>\n",
       "      <td>NaN</td>\n",
       "      <td>NaN</td>\n",
       "      <td>NaN</td>\n",
       "      <td>IMC</td>\n",
       "      <td>Cruise</td>\n",
       "      <td>Probable Cause</td>\n",
       "      <td>26-02-2007</td>\n",
       "      <td>NaN</td>\n",
       "    </tr>\n",
       "    <tr>\n",
       "      <th>3</th>\n",
       "      <td>20001218X45448</td>\n",
       "      <td>Accident</td>\n",
       "      <td>LAX96LA321</td>\n",
       "      <td>1977-06-19</td>\n",
       "      <td>EUREKA, CA</td>\n",
       "      <td>United States</td>\n",
       "      <td>NaN</td>\n",
       "      <td>NaN</td>\n",
       "      <td>NaN</td>\n",
       "      <td>NaN</td>\n",
       "      <td>...</td>\n",
       "      <td>NaN</td>\n",
       "      <td>2.0</td>\n",
       "      <td>0.0</td>\n",
       "      <td>0.0</td>\n",
       "      <td>0.0</td>\n",
       "      <td>IMC</td>\n",
       "      <td>Cruise</td>\n",
       "      <td>Probable Cause</td>\n",
       "      <td>12-09-2000</td>\n",
       "      <td>NaN</td>\n",
       "    </tr>\n",
       "    <tr>\n",
       "      <th>4</th>\n",
       "      <td>20041105X01764</td>\n",
       "      <td>Accident</td>\n",
       "      <td>CHI79FA064</td>\n",
       "      <td>1979-08-02</td>\n",
       "      <td>Canton, OH</td>\n",
       "      <td>United States</td>\n",
       "      <td>NaN</td>\n",
       "      <td>NaN</td>\n",
       "      <td>NaN</td>\n",
       "      <td>NaN</td>\n",
       "      <td>...</td>\n",
       "      <td>NaN</td>\n",
       "      <td>1.0</td>\n",
       "      <td>2.0</td>\n",
       "      <td>NaN</td>\n",
       "      <td>0.0</td>\n",
       "      <td>VMC</td>\n",
       "      <td>Approach</td>\n",
       "      <td>Probable Cause</td>\n",
       "      <td>16-04-1980</td>\n",
       "      <td>NaN</td>\n",
       "    </tr>\n",
       "  </tbody>\n",
       "</table>\n",
       "<p>5 rows × 32 columns</p>\n",
       "</div>"
      ],
      "text/plain": [
       "         Event.Id Investigation.Type Accident.Number  Event.Date  \\\n",
       "0  20001218X45444           Accident      SEA87LA080  1948-10-24   \n",
       "1  20001218X45447           Accident      LAX94LA336  1962-07-19   \n",
       "2  20061025X01555           Accident      NYC07LA005  1974-08-30   \n",
       "3  20001218X45448           Accident      LAX96LA321  1977-06-19   \n",
       "4  20041105X01764           Accident      CHI79FA064  1979-08-02   \n",
       "\n",
       "          Location        Country   Latitude  Longitude Airport.Code  \\\n",
       "0  MOOSE CREEK, ID  United States        NaN        NaN          NaN   \n",
       "1   BRIDGEPORT, CA  United States        NaN        NaN          NaN   \n",
       "2    Saltville, VA  United States  36.922223 -81.878056          NaN   \n",
       "3       EUREKA, CA  United States        NaN        NaN          NaN   \n",
       "4       Canton, OH  United States        NaN        NaN          NaN   \n",
       "\n",
       "  Airport.Name  ... Air.carrier Total.Fatal.Injuries Total.Serious.Injuries  \\\n",
       "0          NaN  ...         NaN                  2.0                    0.0   \n",
       "1          NaN  ...         NaN                  4.0                    0.0   \n",
       "2          NaN  ...         NaN                  3.0                    NaN   \n",
       "3          NaN  ...         NaN                  2.0                    0.0   \n",
       "4          NaN  ...         NaN                  1.0                    2.0   \n",
       "\n",
       "  Total.Minor.Injuries Total.Uninjured Weather.Condition  \\\n",
       "0                  0.0             0.0               UNK   \n",
       "1                  0.0             0.0               UNK   \n",
       "2                  NaN             NaN               IMC   \n",
       "3                  0.0             0.0               IMC   \n",
       "4                  NaN             0.0               VMC   \n",
       "\n",
       "  Broad.phase.of.flight   Report.Status Publication.Date Unnamed: 31  \n",
       "0                Cruise  Probable Cause              NaN         NaN  \n",
       "1               Unknown  Probable Cause       19-09-1996         NaN  \n",
       "2                Cruise  Probable Cause       26-02-2007         NaN  \n",
       "3                Cruise  Probable Cause       12-09-2000         NaN  \n",
       "4              Approach  Probable Cause       16-04-1980         NaN  \n",
       "\n",
       "[5 rows x 32 columns]"
      ]
     },
     "execution_count": 8,
     "metadata": {},
     "output_type": "execute_result"
    }
   ],
   "source": [
    "df.head()"
   ]
  },
  {
   "cell_type": "code",
   "execution_count": 9,
   "id": "72b12da4-1b0e-425f-b468-24acd4840fd3",
   "metadata": {},
   "outputs": [
    {
     "data": {
      "text/html": [
       "<div>\n",
       "<style scoped>\n",
       "    .dataframe tbody tr th:only-of-type {\n",
       "        vertical-align: middle;\n",
       "    }\n",
       "\n",
       "    .dataframe tbody tr th {\n",
       "        vertical-align: top;\n",
       "    }\n",
       "\n",
       "    .dataframe thead th {\n",
       "        text-align: right;\n",
       "    }\n",
       "</style>\n",
       "<table border=\"1\" class=\"dataframe\">\n",
       "  <thead>\n",
       "    <tr style=\"text-align: right;\">\n",
       "      <th></th>\n",
       "      <th>Event.Id</th>\n",
       "      <th>Investigation.Type</th>\n",
       "      <th>Accident.Number</th>\n",
       "      <th>Event.Date</th>\n",
       "      <th>Location</th>\n",
       "      <th>Country</th>\n",
       "      <th>Latitude</th>\n",
       "      <th>Longitude</th>\n",
       "      <th>Airport.Code</th>\n",
       "      <th>Airport.Name</th>\n",
       "      <th>...</th>\n",
       "      <th>Air.carrier</th>\n",
       "      <th>Total.Fatal.Injuries</th>\n",
       "      <th>Total.Serious.Injuries</th>\n",
       "      <th>Total.Minor.Injuries</th>\n",
       "      <th>Total.Uninjured</th>\n",
       "      <th>Weather.Condition</th>\n",
       "      <th>Broad.phase.of.flight</th>\n",
       "      <th>Report.Status</th>\n",
       "      <th>Publication.Date</th>\n",
       "      <th>Unnamed: 31</th>\n",
       "    </tr>\n",
       "  </thead>\n",
       "  <tbody>\n",
       "    <tr>\n",
       "      <th>88884</th>\n",
       "      <td>20221227106491</td>\n",
       "      <td>Accident</td>\n",
       "      <td>ERA23LA093</td>\n",
       "      <td>2022-12-26</td>\n",
       "      <td>Annapolis, MD</td>\n",
       "      <td>United States</td>\n",
       "      <td>NaN</td>\n",
       "      <td>NaN</td>\n",
       "      <td>NaN</td>\n",
       "      <td>NaN</td>\n",
       "      <td>...</td>\n",
       "      <td>NaN</td>\n",
       "      <td>0.0</td>\n",
       "      <td>1.0</td>\n",
       "      <td>0.0</td>\n",
       "      <td>0.0</td>\n",
       "      <td>NaN</td>\n",
       "      <td>NaN</td>\n",
       "      <td>NaN</td>\n",
       "      <td>29-12-2022</td>\n",
       "      <td>NaN</td>\n",
       "    </tr>\n",
       "    <tr>\n",
       "      <th>88885</th>\n",
       "      <td>20221227106494</td>\n",
       "      <td>Accident</td>\n",
       "      <td>ERA23LA095</td>\n",
       "      <td>2022-12-26</td>\n",
       "      <td>Hampton, NH</td>\n",
       "      <td>United States</td>\n",
       "      <td>NaN</td>\n",
       "      <td>NaN</td>\n",
       "      <td>NaN</td>\n",
       "      <td>NaN</td>\n",
       "      <td>...</td>\n",
       "      <td>NaN</td>\n",
       "      <td>0.0</td>\n",
       "      <td>0.0</td>\n",
       "      <td>0.0</td>\n",
       "      <td>0.0</td>\n",
       "      <td>NaN</td>\n",
       "      <td>NaN</td>\n",
       "      <td>NaN</td>\n",
       "      <td>NaN</td>\n",
       "      <td>NaN</td>\n",
       "    </tr>\n",
       "    <tr>\n",
       "      <th>88886</th>\n",
       "      <td>20221227106497</td>\n",
       "      <td>Accident</td>\n",
       "      <td>WPR23LA075</td>\n",
       "      <td>2022-12-26</td>\n",
       "      <td>Payson, AZ</td>\n",
       "      <td>United States</td>\n",
       "      <td>341525N</td>\n",
       "      <td>1112021W</td>\n",
       "      <td>PAN</td>\n",
       "      <td>PAYSON</td>\n",
       "      <td>...</td>\n",
       "      <td>NaN</td>\n",
       "      <td>0.0</td>\n",
       "      <td>0.0</td>\n",
       "      <td>0.0</td>\n",
       "      <td>1.0</td>\n",
       "      <td>VMC</td>\n",
       "      <td>NaN</td>\n",
       "      <td>NaN</td>\n",
       "      <td>27-12-2022</td>\n",
       "      <td>NaN</td>\n",
       "    </tr>\n",
       "    <tr>\n",
       "      <th>88887</th>\n",
       "      <td>20221227106498</td>\n",
       "      <td>Accident</td>\n",
       "      <td>WPR23LA076</td>\n",
       "      <td>2022-12-26</td>\n",
       "      <td>Morgan, UT</td>\n",
       "      <td>United States</td>\n",
       "      <td>NaN</td>\n",
       "      <td>NaN</td>\n",
       "      <td>NaN</td>\n",
       "      <td>NaN</td>\n",
       "      <td>...</td>\n",
       "      <td>MC CESSNA 210N LLC</td>\n",
       "      <td>0.0</td>\n",
       "      <td>0.0</td>\n",
       "      <td>0.0</td>\n",
       "      <td>0.0</td>\n",
       "      <td>NaN</td>\n",
       "      <td>NaN</td>\n",
       "      <td>NaN</td>\n",
       "      <td>NaN</td>\n",
       "      <td>NaN</td>\n",
       "    </tr>\n",
       "    <tr>\n",
       "      <th>88888</th>\n",
       "      <td>20221230106513</td>\n",
       "      <td>Accident</td>\n",
       "      <td>ERA23LA097</td>\n",
       "      <td>2022-12-29</td>\n",
       "      <td>Athens, GA</td>\n",
       "      <td>United States</td>\n",
       "      <td>NaN</td>\n",
       "      <td>NaN</td>\n",
       "      <td>NaN</td>\n",
       "      <td>NaN</td>\n",
       "      <td>...</td>\n",
       "      <td>NaN</td>\n",
       "      <td>0.0</td>\n",
       "      <td>1.0</td>\n",
       "      <td>0.0</td>\n",
       "      <td>1.0</td>\n",
       "      <td>NaN</td>\n",
       "      <td>NaN</td>\n",
       "      <td>NaN</td>\n",
       "      <td>30-12-2022</td>\n",
       "      <td>NaN</td>\n",
       "    </tr>\n",
       "  </tbody>\n",
       "</table>\n",
       "<p>5 rows × 32 columns</p>\n",
       "</div>"
      ],
      "text/plain": [
       "             Event.Id Investigation.Type Accident.Number  Event.Date  \\\n",
       "88884  20221227106491           Accident      ERA23LA093  2022-12-26   \n",
       "88885  20221227106494           Accident      ERA23LA095  2022-12-26   \n",
       "88886  20221227106497           Accident      WPR23LA075  2022-12-26   \n",
       "88887  20221227106498           Accident      WPR23LA076  2022-12-26   \n",
       "88888  20221230106513           Accident      ERA23LA097  2022-12-29   \n",
       "\n",
       "            Location        Country Latitude Longitude Airport.Code  \\\n",
       "88884  Annapolis, MD  United States      NaN       NaN          NaN   \n",
       "88885    Hampton, NH  United States      NaN       NaN          NaN   \n",
       "88886     Payson, AZ  United States  341525N  1112021W          PAN   \n",
       "88887     Morgan, UT  United States      NaN       NaN          NaN   \n",
       "88888     Athens, GA  United States      NaN       NaN          NaN   \n",
       "\n",
       "      Airport.Name  ...         Air.carrier Total.Fatal.Injuries  \\\n",
       "88884          NaN  ...                 NaN                  0.0   \n",
       "88885          NaN  ...                 NaN                  0.0   \n",
       "88886       PAYSON  ...                 NaN                  0.0   \n",
       "88887          NaN  ...  MC CESSNA 210N LLC                  0.0   \n",
       "88888          NaN  ...                 NaN                  0.0   \n",
       "\n",
       "      Total.Serious.Injuries Total.Minor.Injuries Total.Uninjured  \\\n",
       "88884                    1.0                  0.0             0.0   \n",
       "88885                    0.0                  0.0             0.0   \n",
       "88886                    0.0                  0.0             1.0   \n",
       "88887                    0.0                  0.0             0.0   \n",
       "88888                    1.0                  0.0             1.0   \n",
       "\n",
       "      Weather.Condition Broad.phase.of.flight  Report.Status Publication.Date  \\\n",
       "88884               NaN                   NaN            NaN       29-12-2022   \n",
       "88885               NaN                   NaN            NaN              NaN   \n",
       "88886               VMC                   NaN            NaN       27-12-2022   \n",
       "88887               NaN                   NaN            NaN              NaN   \n",
       "88888               NaN                   NaN            NaN       30-12-2022   \n",
       "\n",
       "      Unnamed: 31  \n",
       "88884         NaN  \n",
       "88885         NaN  \n",
       "88886         NaN  \n",
       "88887         NaN  \n",
       "88888         NaN  \n",
       "\n",
       "[5 rows x 32 columns]"
      ]
     },
     "execution_count": 9,
     "metadata": {},
     "output_type": "execute_result"
    }
   ],
   "source": [
    "df.tail()"
   ]
  },
  {
   "cell_type": "code",
   "execution_count": 10,
   "id": "db5fdaca-8376-4b93-915f-a3e7132383e9",
   "metadata": {},
   "outputs": [
    {
     "data": {
      "text/plain": [
       "Event.Id                      0\n",
       "Investigation.Type            0\n",
       "Accident.Number               0\n",
       "Event.Date                    0\n",
       "Location                     52\n",
       "Country                     226\n",
       "Latitude                  54507\n",
       "Longitude                 54516\n",
       "Airport.Code              38757\n",
       "Airport.Name              36186\n",
       "Injury.Severity            1000\n",
       "Aircraft.damage            3194\n",
       "Aircraft.Category         56600\n",
       "Registration.Number        1384\n",
       "Make                         63\n",
       "Model                        92\n",
       "Amateur.Built               102\n",
       "Number.of.Engines          6087\n",
       "Engine.Type                7097\n",
       "FAR.Description           56863\n",
       "Schedule                  76307\n",
       "Purpose.of.flight          6195\n",
       "Air.carrier               72238\n",
       "Total.Fatal.Injuries      11407\n",
       "Total.Serious.Injuries    12509\n",
       "Total.Minor.Injuries      11933\n",
       "Total.Uninjured            5913\n",
       "Weather.Condition          4492\n",
       "Broad.phase.of.flight     27163\n",
       "Report.Status              6387\n",
       "Publication.Date          13771\n",
       "Unnamed: 31               88863\n",
       "dtype: int64"
      ]
     },
     "execution_count": 10,
     "metadata": {},
     "output_type": "execute_result"
    }
   ],
   "source": [
    "# Checking the total of null values in each column\n",
    "df.isna().sum()"
   ]
  },
  {
   "cell_type": "code",
   "execution_count": 11,
   "id": "31e1f9a4-949e-4881-add0-ec9d598becf0",
   "metadata": {},
   "outputs": [],
   "source": [
    "# Dropping columns with roughly more than 25000 missing values\n",
    "df.drop(['Latitude', 'Longitude', 'Airport.Code', 'Airport.Name', 'Aircraft.Category', 'FAR.Description', 'Schedule', 'Air.carrier', 'Broad.phase.of.flight', 'Unnamed: 31'], axis = 1, inplace = True)"
   ]
  },
  {
   "cell_type": "code",
   "execution_count": 12,
   "id": "abdadf21-c1c6-423c-b4e3-fe70aebc1882",
   "metadata": {},
   "outputs": [
    {
     "data": {
      "text/plain": [
       "Index(['Event.Id', 'Investigation.Type', 'Accident.Number', 'Event.Date',\n",
       "       'Location', 'Country', 'Injury.Severity', 'Aircraft.damage',\n",
       "       'Registration.Number', 'Make', 'Model', 'Amateur.Built',\n",
       "       'Number.of.Engines', 'Engine.Type', 'Purpose.of.flight',\n",
       "       'Total.Fatal.Injuries', 'Total.Serious.Injuries',\n",
       "       'Total.Minor.Injuries', 'Total.Uninjured', 'Weather.Condition',\n",
       "       'Report.Status', 'Publication.Date'],\n",
       "      dtype='object')"
      ]
     },
     "execution_count": 12,
     "metadata": {},
     "output_type": "execute_result"
    }
   ],
   "source": [
    "df.columns"
   ]
  },
  {
   "cell_type": "code",
   "execution_count": 13,
   "id": "2b9559a4-f850-42a3-819b-9d5431900484",
   "metadata": {},
   "outputs": [],
   "source": [
    "# Dropping columns that will not be necessary in my analysis.\n",
    "df.drop(['Accident.Number', 'Registration.Number', 'Report.Status', 'Publication.Date'], axis = 1, inplace = True)"
   ]
  },
  {
   "cell_type": "code",
   "execution_count": 14,
   "id": "341ee16e-a16c-415b-936a-c658226411b1",
   "metadata": {},
   "outputs": [
    {
     "data": {
      "text/plain": [
       "Index(['Event.Id', 'Investigation.Type', 'Event.Date', 'Location', 'Country',\n",
       "       'Injury.Severity', 'Aircraft.damage', 'Make', 'Model', 'Amateur.Built',\n",
       "       'Number.of.Engines', 'Engine.Type', 'Purpose.of.flight',\n",
       "       'Total.Fatal.Injuries', 'Total.Serious.Injuries',\n",
       "       'Total.Minor.Injuries', 'Total.Uninjured', 'Weather.Condition'],\n",
       "      dtype='object')"
      ]
     },
     "execution_count": 14,
     "metadata": {},
     "output_type": "execute_result"
    }
   ],
   "source": [
    "df.columns"
   ]
  },
  {
   "cell_type": "code",
   "execution_count": 15,
   "id": "4578948b-8104-464c-a092-1d4abffa24bf",
   "metadata": {},
   "outputs": [
    {
     "data": {
      "text/plain": [
       "False    88851\n",
       "True        38\n",
       "Name: count, dtype: int64"
      ]
     },
     "execution_count": 15,
     "metadata": {},
     "output_type": "execute_result"
    }
   ],
   "source": [
    "# Checking for duplicates\n",
    "df.duplicated().value_counts()"
   ]
  },
  {
   "cell_type": "code",
   "execution_count": 16,
   "id": "095da468-d198-44da-a736-f62605fda367",
   "metadata": {},
   "outputs": [
    {
     "data": {
      "text/html": [
       "<div>\n",
       "<style scoped>\n",
       "    .dataframe tbody tr th:only-of-type {\n",
       "        vertical-align: middle;\n",
       "    }\n",
       "\n",
       "    .dataframe tbody tr th {\n",
       "        vertical-align: top;\n",
       "    }\n",
       "\n",
       "    .dataframe thead th {\n",
       "        text-align: right;\n",
       "    }\n",
       "</style>\n",
       "<table border=\"1\" class=\"dataframe\">\n",
       "  <thead>\n",
       "    <tr style=\"text-align: right;\">\n",
       "      <th></th>\n",
       "      <th>Event.Id</th>\n",
       "      <th>Investigation.Type</th>\n",
       "      <th>Event.Date</th>\n",
       "      <th>Location</th>\n",
       "      <th>Country</th>\n",
       "      <th>Injury.Severity</th>\n",
       "      <th>Aircraft.damage</th>\n",
       "      <th>Make</th>\n",
       "      <th>Model</th>\n",
       "      <th>Amateur.Built</th>\n",
       "      <th>Number.of.Engines</th>\n",
       "      <th>Engine.Type</th>\n",
       "      <th>Purpose.of.flight</th>\n",
       "      <th>Total.Fatal.Injuries</th>\n",
       "      <th>Total.Serious.Injuries</th>\n",
       "      <th>Total.Minor.Injuries</th>\n",
       "      <th>Total.Uninjured</th>\n",
       "      <th>Weather.Condition</th>\n",
       "    </tr>\n",
       "  </thead>\n",
       "  <tbody>\n",
       "    <tr>\n",
       "      <th>34512</th>\n",
       "      <td>20001206X00768</td>\n",
       "      <td>Accident</td>\n",
       "      <td>1994-02-12</td>\n",
       "      <td>GRAND CANYON, AZ</td>\n",
       "      <td>United States</td>\n",
       "      <td>Non-Fatal</td>\n",
       "      <td>Substantial</td>\n",
       "      <td>Cessna</td>\n",
       "      <td>402C</td>\n",
       "      <td>No</td>\n",
       "      <td>2.0</td>\n",
       "      <td>Reciprocating</td>\n",
       "      <td>Positioning</td>\n",
       "      <td>0.0</td>\n",
       "      <td>0.0</td>\n",
       "      <td>0.0</td>\n",
       "      <td>3.0</td>\n",
       "      <td>VMC</td>\n",
       "    </tr>\n",
       "    <tr>\n",
       "      <th>34513</th>\n",
       "      <td>20001206X00768</td>\n",
       "      <td>Accident</td>\n",
       "      <td>1994-02-12</td>\n",
       "      <td>GRAND CANYON, AZ</td>\n",
       "      <td>United States</td>\n",
       "      <td>Non-Fatal</td>\n",
       "      <td>Substantial</td>\n",
       "      <td>Cessna</td>\n",
       "      <td>402C</td>\n",
       "      <td>No</td>\n",
       "      <td>2.0</td>\n",
       "      <td>Reciprocating</td>\n",
       "      <td>Positioning</td>\n",
       "      <td>0.0</td>\n",
       "      <td>0.0</td>\n",
       "      <td>0.0</td>\n",
       "      <td>3.0</td>\n",
       "      <td>VMC</td>\n",
       "    </tr>\n",
       "    <tr>\n",
       "      <th>34847</th>\n",
       "      <td>20001206X01157</td>\n",
       "      <td>Accident</td>\n",
       "      <td>1994-04-10</td>\n",
       "      <td>OKEECHOBEE, FL</td>\n",
       "      <td>United States</td>\n",
       "      <td>Non-Fatal</td>\n",
       "      <td>Substantial</td>\n",
       "      <td>Globe</td>\n",
       "      <td>9C-1B</td>\n",
       "      <td>No</td>\n",
       "      <td>1.0</td>\n",
       "      <td>Reciprocating</td>\n",
       "      <td>Unknown</td>\n",
       "      <td>0.0</td>\n",
       "      <td>0.0</td>\n",
       "      <td>0.0</td>\n",
       "      <td>2.0</td>\n",
       "      <td>VMC</td>\n",
       "    </tr>\n",
       "    <tr>\n",
       "      <th>34846</th>\n",
       "      <td>20001206X01157</td>\n",
       "      <td>Accident</td>\n",
       "      <td>1994-04-10</td>\n",
       "      <td>OKEECHOBEE, FL</td>\n",
       "      <td>United States</td>\n",
       "      <td>Non-Fatal</td>\n",
       "      <td>Substantial</td>\n",
       "      <td>Globe</td>\n",
       "      <td>9C-1B</td>\n",
       "      <td>No</td>\n",
       "      <td>1.0</td>\n",
       "      <td>Reciprocating</td>\n",
       "      <td>Unknown</td>\n",
       "      <td>0.0</td>\n",
       "      <td>0.0</td>\n",
       "      <td>0.0</td>\n",
       "      <td>2.0</td>\n",
       "      <td>VMC</td>\n",
       "    </tr>\n",
       "    <tr>\n",
       "      <th>35076</th>\n",
       "      <td>20001206X01324</td>\n",
       "      <td>Accident</td>\n",
       "      <td>1994-05-19</td>\n",
       "      <td>STOCKTON, CA</td>\n",
       "      <td>United States</td>\n",
       "      <td>Non-Fatal</td>\n",
       "      <td>Substantial</td>\n",
       "      <td>Robinson</td>\n",
       "      <td>R22-B</td>\n",
       "      <td>No</td>\n",
       "      <td>1.0</td>\n",
       "      <td>Reciprocating</td>\n",
       "      <td>Other Work Use</td>\n",
       "      <td>0.0</td>\n",
       "      <td>0.0</td>\n",
       "      <td>1.0</td>\n",
       "      <td>1.0</td>\n",
       "      <td>VMC</td>\n",
       "    </tr>\n",
       "    <tr>\n",
       "      <th>...</th>\n",
       "      <td>...</td>\n",
       "      <td>...</td>\n",
       "      <td>...</td>\n",
       "      <td>...</td>\n",
       "      <td>...</td>\n",
       "      <td>...</td>\n",
       "      <td>...</td>\n",
       "      <td>...</td>\n",
       "      <td>...</td>\n",
       "      <td>...</td>\n",
       "      <td>...</td>\n",
       "      <td>...</td>\n",
       "      <td>...</td>\n",
       "      <td>...</td>\n",
       "      <td>...</td>\n",
       "      <td>...</td>\n",
       "      <td>...</td>\n",
       "      <td>...</td>\n",
       "    </tr>\n",
       "    <tr>\n",
       "      <th>63296</th>\n",
       "      <td>20070917X01400</td>\n",
       "      <td>Accident</td>\n",
       "      <td>2007-09-02</td>\n",
       "      <td>FARMINGDALE, NY</td>\n",
       "      <td>United States</td>\n",
       "      <td>Non-Fatal</td>\n",
       "      <td>Substantial</td>\n",
       "      <td>North American</td>\n",
       "      <td>SNJ-2</td>\n",
       "      <td>No</td>\n",
       "      <td>1.0</td>\n",
       "      <td>Reciprocating</td>\n",
       "      <td>Other Work Use</td>\n",
       "      <td>NaN</td>\n",
       "      <td>NaN</td>\n",
       "      <td>NaN</td>\n",
       "      <td>2.0</td>\n",
       "      <td>VMC</td>\n",
       "    </tr>\n",
       "    <tr>\n",
       "      <th>88386</th>\n",
       "      <td>20220822105776</td>\n",
       "      <td>Accident</td>\n",
       "      <td>2022-08-20</td>\n",
       "      <td>Bealeton, VA</td>\n",
       "      <td>United States</td>\n",
       "      <td>Minor</td>\n",
       "      <td>Substantial</td>\n",
       "      <td>BOEING</td>\n",
       "      <td>A75N1</td>\n",
       "      <td>No</td>\n",
       "      <td>1.0</td>\n",
       "      <td>NaN</td>\n",
       "      <td>Business</td>\n",
       "      <td>0.0</td>\n",
       "      <td>2.0</td>\n",
       "      <td>0.0</td>\n",
       "      <td>2.0</td>\n",
       "      <td>VMC</td>\n",
       "    </tr>\n",
       "    <tr>\n",
       "      <th>88387</th>\n",
       "      <td>20220822105776</td>\n",
       "      <td>Accident</td>\n",
       "      <td>2022-08-20</td>\n",
       "      <td>Bealeton, VA</td>\n",
       "      <td>United States</td>\n",
       "      <td>Minor</td>\n",
       "      <td>Substantial</td>\n",
       "      <td>BOEING</td>\n",
       "      <td>A75N1</td>\n",
       "      <td>No</td>\n",
       "      <td>1.0</td>\n",
       "      <td>NaN</td>\n",
       "      <td>Business</td>\n",
       "      <td>0.0</td>\n",
       "      <td>2.0</td>\n",
       "      <td>0.0</td>\n",
       "      <td>2.0</td>\n",
       "      <td>VMC</td>\n",
       "    </tr>\n",
       "    <tr>\n",
       "      <th>88527</th>\n",
       "      <td>20220921105978</td>\n",
       "      <td>Incident</td>\n",
       "      <td>2022-09-14</td>\n",
       "      <td>Mumbai,</td>\n",
       "      <td>India</td>\n",
       "      <td>NaN</td>\n",
       "      <td>NaN</td>\n",
       "      <td>BOEING</td>\n",
       "      <td>787</td>\n",
       "      <td>No</td>\n",
       "      <td>NaN</td>\n",
       "      <td>NaN</td>\n",
       "      <td>NaN</td>\n",
       "      <td>0.0</td>\n",
       "      <td>0.0</td>\n",
       "      <td>0.0</td>\n",
       "      <td>0.0</td>\n",
       "      <td>NaN</td>\n",
       "    </tr>\n",
       "    <tr>\n",
       "      <th>88528</th>\n",
       "      <td>20220921105978</td>\n",
       "      <td>Incident</td>\n",
       "      <td>2022-09-14</td>\n",
       "      <td>Mumbai,</td>\n",
       "      <td>India</td>\n",
       "      <td>NaN</td>\n",
       "      <td>NaN</td>\n",
       "      <td>BOEING</td>\n",
       "      <td>787</td>\n",
       "      <td>No</td>\n",
       "      <td>NaN</td>\n",
       "      <td>NaN</td>\n",
       "      <td>NaN</td>\n",
       "      <td>0.0</td>\n",
       "      <td>0.0</td>\n",
       "      <td>0.0</td>\n",
       "      <td>0.0</td>\n",
       "      <td>NaN</td>\n",
       "    </tr>\n",
       "  </tbody>\n",
       "</table>\n",
       "<p>76 rows × 18 columns</p>\n",
       "</div>"
      ],
      "text/plain": [
       "             Event.Id Investigation.Type  Event.Date          Location  \\\n",
       "34512  20001206X00768           Accident  1994-02-12  GRAND CANYON, AZ   \n",
       "34513  20001206X00768           Accident  1994-02-12  GRAND CANYON, AZ   \n",
       "34847  20001206X01157           Accident  1994-04-10    OKEECHOBEE, FL   \n",
       "34846  20001206X01157           Accident  1994-04-10    OKEECHOBEE, FL   \n",
       "35076  20001206X01324           Accident  1994-05-19      STOCKTON, CA   \n",
       "...               ...                ...         ...               ...   \n",
       "63296  20070917X01400           Accident  2007-09-02   FARMINGDALE, NY   \n",
       "88386  20220822105776           Accident  2022-08-20      Bealeton, VA   \n",
       "88387  20220822105776           Accident  2022-08-20      Bealeton, VA   \n",
       "88527  20220921105978           Incident  2022-09-14          Mumbai,    \n",
       "88528  20220921105978           Incident  2022-09-14          Mumbai,    \n",
       "\n",
       "             Country Injury.Severity Aircraft.damage            Make  Model  \\\n",
       "34512  United States       Non-Fatal     Substantial          Cessna   402C   \n",
       "34513  United States       Non-Fatal     Substantial          Cessna   402C   \n",
       "34847  United States       Non-Fatal     Substantial           Globe  9C-1B   \n",
       "34846  United States       Non-Fatal     Substantial           Globe  9C-1B   \n",
       "35076  United States       Non-Fatal     Substantial        Robinson  R22-B   \n",
       "...              ...             ...             ...             ...    ...   \n",
       "63296  United States       Non-Fatal     Substantial  North American  SNJ-2   \n",
       "88386  United States           Minor     Substantial          BOEING  A75N1   \n",
       "88387  United States           Minor     Substantial          BOEING  A75N1   \n",
       "88527          India             NaN             NaN          BOEING    787   \n",
       "88528          India             NaN             NaN          BOEING    787   \n",
       "\n",
       "      Amateur.Built  Number.of.Engines    Engine.Type Purpose.of.flight  \\\n",
       "34512            No                2.0  Reciprocating       Positioning   \n",
       "34513            No                2.0  Reciprocating       Positioning   \n",
       "34847            No                1.0  Reciprocating           Unknown   \n",
       "34846            No                1.0  Reciprocating           Unknown   \n",
       "35076            No                1.0  Reciprocating    Other Work Use   \n",
       "...             ...                ...            ...               ...   \n",
       "63296            No                1.0  Reciprocating    Other Work Use   \n",
       "88386            No                1.0            NaN          Business   \n",
       "88387            No                1.0            NaN          Business   \n",
       "88527            No                NaN            NaN               NaN   \n",
       "88528            No                NaN            NaN               NaN   \n",
       "\n",
       "       Total.Fatal.Injuries  Total.Serious.Injuries  Total.Minor.Injuries  \\\n",
       "34512                   0.0                     0.0                   0.0   \n",
       "34513                   0.0                     0.0                   0.0   \n",
       "34847                   0.0                     0.0                   0.0   \n",
       "34846                   0.0                     0.0                   0.0   \n",
       "35076                   0.0                     0.0                   1.0   \n",
       "...                     ...                     ...                   ...   \n",
       "63296                   NaN                     NaN                   NaN   \n",
       "88386                   0.0                     2.0                   0.0   \n",
       "88387                   0.0                     2.0                   0.0   \n",
       "88527                   0.0                     0.0                   0.0   \n",
       "88528                   0.0                     0.0                   0.0   \n",
       "\n",
       "       Total.Uninjured Weather.Condition  \n",
       "34512              3.0               VMC  \n",
       "34513              3.0               VMC  \n",
       "34847              2.0               VMC  \n",
       "34846              2.0               VMC  \n",
       "35076              1.0               VMC  \n",
       "...                ...               ...  \n",
       "63296              2.0               VMC  \n",
       "88386              2.0               VMC  \n",
       "88387              2.0               VMC  \n",
       "88527              0.0               NaN  \n",
       "88528              0.0               NaN  \n",
       "\n",
       "[76 rows x 18 columns]"
      ]
     },
     "execution_count": 16,
     "metadata": {},
     "output_type": "execute_result"
    }
   ],
   "source": [
    "df[df.duplicated(keep=False)].sort_values(by='Event.Id')"
   ]
  },
  {
   "cell_type": "code",
   "execution_count": 17,
   "id": "e116ffff-4de4-44fe-bcd4-8797946b09e6",
   "metadata": {},
   "outputs": [
    {
     "data": {
      "text/plain": [
       "(88851, 18)"
      ]
     },
     "execution_count": 17,
     "metadata": {},
     "output_type": "execute_result"
    }
   ],
   "source": [
    "# Dropping the duplicates\n",
    "df = df.drop_duplicates()\n",
    "df.shape"
   ]
  },
  {
   "cell_type": "code",
   "execution_count": 18,
   "id": "5b1fd2c5-d624-49ee-adab-7f5356c2ffa2",
   "metadata": {},
   "outputs": [
    {
     "data": {
      "text/plain": [
       "False    88851\n",
       "Name: count, dtype: int64"
      ]
     },
     "execution_count": 18,
     "metadata": {},
     "output_type": "execute_result"
    }
   ],
   "source": [
    "# Checking to see if there are anyduplicates still.\n",
    "df.duplicated().value_counts()"
   ]
  },
  {
   "cell_type": "code",
   "execution_count": 19,
   "id": "bd210865-0435-48e4-a039-b9c6e87c6086",
   "metadata": {},
   "outputs": [
    {
     "data": {
      "text/html": [
       "<div>\n",
       "<style scoped>\n",
       "    .dataframe tbody tr th:only-of-type {\n",
       "        vertical-align: middle;\n",
       "    }\n",
       "\n",
       "    .dataframe tbody tr th {\n",
       "        vertical-align: top;\n",
       "    }\n",
       "\n",
       "    .dataframe thead th {\n",
       "        text-align: right;\n",
       "    }\n",
       "</style>\n",
       "<table border=\"1\" class=\"dataframe\">\n",
       "  <thead>\n",
       "    <tr style=\"text-align: right;\">\n",
       "      <th></th>\n",
       "      <th>Event.Id</th>\n",
       "      <th>Investigation.Type</th>\n",
       "      <th>Event.Date</th>\n",
       "      <th>Location</th>\n",
       "      <th>Country</th>\n",
       "      <th>Injury.Severity</th>\n",
       "      <th>Aircraft.damage</th>\n",
       "      <th>Make</th>\n",
       "      <th>Model</th>\n",
       "      <th>Amateur.Built</th>\n",
       "      <th>Number.of.Engines</th>\n",
       "      <th>Engine.Type</th>\n",
       "      <th>Purpose.of.flight</th>\n",
       "      <th>Total.Fatal.Injuries</th>\n",
       "      <th>Total.Serious.Injuries</th>\n",
       "      <th>Total.Minor.Injuries</th>\n",
       "      <th>Total.Uninjured</th>\n",
       "      <th>Weather.Condition</th>\n",
       "    </tr>\n",
       "  </thead>\n",
       "  <tbody>\n",
       "    <tr>\n",
       "      <th>74964</th>\n",
       "      <td>20140422X91651</td>\n",
       "      <td>Accident</td>\n",
       "      <td>2014-04-21</td>\n",
       "      <td>Put in Bay, OH</td>\n",
       "      <td>United States</td>\n",
       "      <td>Non-Fatal</td>\n",
       "      <td>Substantial</td>\n",
       "      <td>PIPER</td>\n",
       "      <td>PA 28-181</td>\n",
       "      <td>No</td>\n",
       "      <td>1.0</td>\n",
       "      <td>Reciprocating</td>\n",
       "      <td>NaN</td>\n",
       "      <td>0.0</td>\n",
       "      <td>0.0</td>\n",
       "      <td>0.0</td>\n",
       "      <td>4.0</td>\n",
       "      <td>VMC</td>\n",
       "    </tr>\n",
       "    <tr>\n",
       "      <th>81187</th>\n",
       "      <td>20180218X93539</td>\n",
       "      <td>Accident</td>\n",
       "      <td>2018-02-17</td>\n",
       "      <td>Mount Sterling, KY</td>\n",
       "      <td>United States</td>\n",
       "      <td>Non-Fatal</td>\n",
       "      <td>Substantial</td>\n",
       "      <td>CESSNA</td>\n",
       "      <td>402</td>\n",
       "      <td>No</td>\n",
       "      <td>2.0</td>\n",
       "      <td>Reciprocating</td>\n",
       "      <td>Personal</td>\n",
       "      <td>0.0</td>\n",
       "      <td>0.0</td>\n",
       "      <td>0.0</td>\n",
       "      <td>2.0</td>\n",
       "      <td>IMC</td>\n",
       "    </tr>\n",
       "    <tr>\n",
       "      <th>10531</th>\n",
       "      <td>20001214X41886</td>\n",
       "      <td>Accident</td>\n",
       "      <td>1984-12-21</td>\n",
       "      <td>BURLINGTON, VT</td>\n",
       "      <td>United States</td>\n",
       "      <td>Non-Fatal</td>\n",
       "      <td>Substantial</td>\n",
       "      <td>Cessna</td>\n",
       "      <td>140</td>\n",
       "      <td>No</td>\n",
       "      <td>1.0</td>\n",
       "      <td>Reciprocating</td>\n",
       "      <td>Instructional</td>\n",
       "      <td>0.0</td>\n",
       "      <td>0.0</td>\n",
       "      <td>0.0</td>\n",
       "      <td>2.0</td>\n",
       "      <td>VMC</td>\n",
       "    </tr>\n",
       "    <tr>\n",
       "      <th>11700</th>\n",
       "      <td>20001214X36383</td>\n",
       "      <td>Accident</td>\n",
       "      <td>1985-05-19</td>\n",
       "      <td>WARRENTON, VA</td>\n",
       "      <td>United States</td>\n",
       "      <td>Non-Fatal</td>\n",
       "      <td>Substantial</td>\n",
       "      <td>Schweizer</td>\n",
       "      <td>SGS 2-33A</td>\n",
       "      <td>No</td>\n",
       "      <td>NaN</td>\n",
       "      <td>Unknown</td>\n",
       "      <td>Instructional</td>\n",
       "      <td>0.0</td>\n",
       "      <td>0.0</td>\n",
       "      <td>0.0</td>\n",
       "      <td>1.0</td>\n",
       "      <td>VMC</td>\n",
       "    </tr>\n",
       "    <tr>\n",
       "      <th>84183</th>\n",
       "      <td>20191112X55053</td>\n",
       "      <td>Accident</td>\n",
       "      <td>2019-11-11</td>\n",
       "      <td>Tunis, Tunisia</td>\n",
       "      <td>Tunisia</td>\n",
       "      <td>Fatal</td>\n",
       "      <td>Destroyed</td>\n",
       "      <td>ROBINSON</td>\n",
       "      <td>R44</td>\n",
       "      <td>No</td>\n",
       "      <td>NaN</td>\n",
       "      <td>NaN</td>\n",
       "      <td>NaN</td>\n",
       "      <td>1.0</td>\n",
       "      <td>0.0</td>\n",
       "      <td>0.0</td>\n",
       "      <td>0.0</td>\n",
       "      <td>NaN</td>\n",
       "    </tr>\n",
       "  </tbody>\n",
       "</table>\n",
       "</div>"
      ],
      "text/plain": [
       "             Event.Id Investigation.Type  Event.Date            Location  \\\n",
       "74964  20140422X91651           Accident  2014-04-21      Put in Bay, OH   \n",
       "81187  20180218X93539           Accident  2018-02-17  Mount Sterling, KY   \n",
       "10531  20001214X41886           Accident  1984-12-21      BURLINGTON, VT   \n",
       "11700  20001214X36383           Accident  1985-05-19       WARRENTON, VA   \n",
       "84183  20191112X55053           Accident  2019-11-11      Tunis, Tunisia   \n",
       "\n",
       "             Country Injury.Severity Aircraft.damage       Make      Model  \\\n",
       "74964  United States       Non-Fatal     Substantial      PIPER  PA 28-181   \n",
       "81187  United States       Non-Fatal     Substantial     CESSNA        402   \n",
       "10531  United States       Non-Fatal     Substantial     Cessna        140   \n",
       "11700  United States       Non-Fatal     Substantial  Schweizer  SGS 2-33A   \n",
       "84183        Tunisia           Fatal       Destroyed   ROBINSON        R44   \n",
       "\n",
       "      Amateur.Built  Number.of.Engines    Engine.Type Purpose.of.flight  \\\n",
       "74964            No                1.0  Reciprocating               NaN   \n",
       "81187            No                2.0  Reciprocating          Personal   \n",
       "10531            No                1.0  Reciprocating     Instructional   \n",
       "11700            No                NaN        Unknown     Instructional   \n",
       "84183            No                NaN            NaN               NaN   \n",
       "\n",
       "       Total.Fatal.Injuries  Total.Serious.Injuries  Total.Minor.Injuries  \\\n",
       "74964                   0.0                     0.0                   0.0   \n",
       "81187                   0.0                     0.0                   0.0   \n",
       "10531                   0.0                     0.0                   0.0   \n",
       "11700                   0.0                     0.0                   0.0   \n",
       "84183                   1.0                     0.0                   0.0   \n",
       "\n",
       "       Total.Uninjured Weather.Condition  \n",
       "74964              4.0               VMC  \n",
       "81187              2.0               IMC  \n",
       "10531              2.0               VMC  \n",
       "11700              1.0               VMC  \n",
       "84183              0.0               NaN  "
      ]
     },
     "execution_count": 19,
     "metadata": {},
     "output_type": "execute_result"
    }
   ],
   "source": [
    "df.sample(5)"
   ]
  },
  {
   "cell_type": "raw",
   "id": "43fed06c-9ac0-4619-910d-7e2b78ec4e93",
   "metadata": {},
   "source": [
    "Injury.severity and Total.fatal.injuries show similar data. "
   ]
  },
  {
   "cell_type": "code",
   "execution_count": 20,
   "id": "92760dbf-5cdf-47f4-be9a-ae57139e3ce1",
   "metadata": {},
   "outputs": [
    {
     "data": {
      "text/plain": [
       "Event.Id                      0\n",
       "Investigation.Type            0\n",
       "Event.Date                    0\n",
       "Location                     52\n",
       "Country                     226\n",
       "Injury.Severity             999\n",
       "Aircraft.damage            3191\n",
       "Make                         63\n",
       "Model                        92\n",
       "Amateur.Built               102\n",
       "Number.of.Engines          6084\n",
       "Engine.Type                7095\n",
       "Purpose.of.flight          6191\n",
       "Total.Fatal.Injuries      11402\n",
       "Total.Serious.Injuries    12499\n",
       "Total.Minor.Injuries      11923\n",
       "Total.Uninjured            5908\n",
       "Weather.Condition          4491\n",
       "dtype: int64"
      ]
     },
     "execution_count": 20,
     "metadata": {},
     "output_type": "execute_result"
    }
   ],
   "source": [
    "df.isnull().sum()"
   ]
  },
  {
   "cell_type": "code",
   "execution_count": 21,
   "id": "a79a9dd9-c94b-4dcf-840c-c5c54af33ddb",
   "metadata": {},
   "outputs": [
    {
     "data": {
      "text/plain": [
       "array(['UNK', 'IMC', 'VMC', nan, '4', '0', '2', 'Unk'], dtype=object)"
      ]
     },
     "execution_count": 21,
     "metadata": {},
     "output_type": "execute_result"
    }
   ],
   "source": [
    "df['Weather.Condition'].unique() # replace unk, nan,4,0,2,unk w unk. if incase the unk bcm more than the imc,vmc; \n",
    "# drop weather."
   ]
  },
  {
   "cell_type": "code",
   "execution_count": 22,
   "id": "c3878bf4-14bd-4471-be69-0d1fe1f1708d",
   "metadata": {},
   "outputs": [],
   "source": [
    "#df['Weather.Condition'] = df['Weather.Condition'].fillna('UNK')\n",
    "#df['Weather.Condition'] = df['Weather.Condition'].replace(4, 0)"
   ]
  },
  {
   "cell_type": "code",
   "execution_count": 23,
   "id": "4454f51b-72ed-4be0-8f64-7a254fa1f7ea",
   "metadata": {},
   "outputs": [],
   "source": [
    "df =df[df['Weather.Condition'] != 4]\n",
    "#df =df[df['Weather.Condition'] != 0]\n",
    "#df =df[df['Weather.Condition'] != 2]"
   ]
  },
  {
   "cell_type": "code",
   "execution_count": 24,
   "id": "3f6d4bd2-819b-4bf1-bb33-a26498ed2f5e",
   "metadata": {},
   "outputs": [
    {
     "data": {
      "text/plain": [
       "array(['UNK', 'IMC', 'VMC', nan, '4', '0', '2', 'Unk'], dtype=object)"
      ]
     },
     "execution_count": 24,
     "metadata": {},
     "output_type": "execute_result"
    }
   ],
   "source": [
    "df['Weather.Condition'].unique() \n",
    "# drop weather."
   ]
  },
  {
   "cell_type": "code",
   "execution_count": null,
   "id": "d7e85af5-9e1f-4957-bf8a-730689d80fa8",
   "metadata": {},
   "outputs": [],
   "source": []
  },
  {
   "cell_type": "code",
   "execution_count": 25,
   "id": "09678c34-58ff-4f40-b5a2-087426979336",
   "metadata": {},
   "outputs": [
    {
     "data": {
      "text/plain": [
       "array(['Personal', nan, 'Business', 'Instructional', 'Unknown', 'Ferry',\n",
       "       'Executive/corporate', 'Aerial Observation', 'Aerial Application',\n",
       "       'Public Aircraft', 'Skydiving', 'Other Work Use', 'Positioning',\n",
       "       'NSCH', 'Flight Test', 'Air Race/show', 'Air Drop',\n",
       "       'Public Aircraft - Federal', 'Glider Tow',\n",
       "       'Public Aircraft - Local', 'External Load',\n",
       "       'Public Aircraft - State', 'Banner Tow', 'Firefighting',\n",
       "       'Air Race show', 'PUBS', 'ASHO', 'PUBL'], dtype=object)"
      ]
     },
     "execution_count": 25,
     "metadata": {},
     "output_type": "execute_result"
    }
   ],
   "source": [
    "df['Purpose.of.flight'].unique() #unkown n nan w unk"
   ]
  },
  {
   "cell_type": "code",
   "execution_count": 26,
   "id": "8f3f7373-baa9-4d9d-8359-3a98c35f1a88",
   "metadata": {},
   "outputs": [],
   "source": [
    "df['Purpose.of.flight'] = df['Purpose.of.flight'].fillna('Unkown')"
   ]
  },
  {
   "cell_type": "code",
   "execution_count": 27,
   "id": "2d95493f-8d56-4ce9-8b85-a8cc85d8b921",
   "metadata": {},
   "outputs": [],
   "source": [
    "df['Purpose.of.flight'] = df['Purpose.of.flight'].replace('Unkown', 'Unknown')"
   ]
  },
  {
   "cell_type": "code",
   "execution_count": 28,
   "id": "e494091c-1556-4996-98f9-150b28ad6377",
   "metadata": {},
   "outputs": [
    {
     "data": {
      "text/plain": [
       "array(['Personal', 'Unknown', 'Business', 'Instructional', 'Ferry',\n",
       "       'Executive/corporate', 'Aerial Observation', 'Aerial Application',\n",
       "       'Public Aircraft', 'Skydiving', 'Other Work Use', 'Positioning',\n",
       "       'NSCH', 'Flight Test', 'Air Race/show', 'Air Drop',\n",
       "       'Public Aircraft - Federal', 'Glider Tow',\n",
       "       'Public Aircraft - Local', 'External Load',\n",
       "       'Public Aircraft - State', 'Banner Tow', 'Firefighting',\n",
       "       'Air Race show', 'PUBS', 'ASHO', 'PUBL'], dtype=object)"
      ]
     },
     "execution_count": 28,
     "metadata": {},
     "output_type": "execute_result"
    }
   ],
   "source": [
    "df['Purpose.of.flight'].unique() "
   ]
  },
  {
   "cell_type": "code",
   "execution_count": null,
   "id": "862531ca-96e5-45ef-a820-5adf86687727",
   "metadata": {},
   "outputs": [],
   "source": []
  },
  {
   "cell_type": "code",
   "execution_count": 29,
   "id": "c502cb6f-1113-41a7-80e9-c75d07e3da63",
   "metadata": {},
   "outputs": [
    {
     "data": {
      "text/plain": [
       "array(['Reciprocating', nan, 'Turbo Fan', 'Turbo Shaft', 'Unknown',\n",
       "       'Turbo Prop', 'Turbo Jet', '1', '2', 'Electric', 'Hybrid Rocket',\n",
       "       'Geared Turbofan', 'LR', 'NONE', 'UNK'], dtype=object)"
      ]
     },
     "execution_count": 29,
     "metadata": {},
     "output_type": "execute_result"
    }
   ],
   "source": [
    "df['Engine.Type'].unique() # delete 1,2. replace nan, unk n unkown w unk"
   ]
  },
  {
   "cell_type": "code",
   "execution_count": 30,
   "id": "d91c6036-6047-4ac1-918b-34b4233e17d7",
   "metadata": {},
   "outputs": [],
   "source": [
    "df['Engine.Type'] = df['Engine.Type'].replace('Unkown', 'UNK')"
   ]
  },
  {
   "cell_type": "code",
   "execution_count": 31,
   "id": "a901560d-34ee-4c3c-889f-d96cde27d45b",
   "metadata": {},
   "outputs": [],
   "source": [
    "df = df[df['Engine.Type'] != 2]"
   ]
  },
  {
   "cell_type": "code",
   "execution_count": 32,
   "id": "9325b4a3-13e5-4bdd-b9cc-161d99b56a37",
   "metadata": {},
   "outputs": [
    {
     "data": {
      "text/plain": [
       "array(['Reciprocating', nan, 'Turbo Fan', 'Turbo Shaft', 'Unknown',\n",
       "       'Turbo Prop', 'Turbo Jet', '1', '2', 'Electric', 'Hybrid Rocket',\n",
       "       'Geared Turbofan', 'LR', 'NONE', 'UNK'], dtype=object)"
      ]
     },
     "execution_count": 32,
     "metadata": {},
     "output_type": "execute_result"
    }
   ],
   "source": [
    "df['Engine.Type'].unique() "
   ]
  },
  {
   "cell_type": "code",
   "execution_count": null,
   "id": "cc6e4936-5898-459b-b276-c2813764e8b0",
   "metadata": {},
   "outputs": [],
   "source": []
  },
  {
   "cell_type": "code",
   "execution_count": 33,
   "id": "2500bd06-b278-4785-a41a-be2d46c320cd",
   "metadata": {},
   "outputs": [
    {
     "data": {
      "text/plain": [
       "array([ 1., nan,  2.,  0.,  3.,  4.,  8.,  6.])"
      ]
     },
     "execution_count": 33,
     "metadata": {},
     "output_type": "execute_result"
    }
   ],
   "source": [
    "df['Number.of.Engines'].unique() "
   ]
  },
  {
   "cell_type": "code",
   "execution_count": null,
   "id": "3df150e1-b924-4866-a8c0-336e6e223e2a",
   "metadata": {},
   "outputs": [],
   "source": []
  },
  {
   "cell_type": "code",
   "execution_count": 34,
   "id": "43ab12da-1a6e-428c-a8e2-46b11d9c54e2",
   "metadata": {},
   "outputs": [
    {
     "data": {
      "text/plain": [
       "array(['Destroyed', 'Substantial', 'Minor', nan, 'Non-Fatal', 'Fatal(2)',\n",
       "       'Unknown'], dtype=object)"
      ]
     },
     "execution_count": 34,
     "metadata": {},
     "output_type": "execute_result"
    }
   ],
   "source": [
    "df['Aircraft.damage'].unique() #drop fatal2, replace nan w Unkown"
   ]
  },
  {
   "cell_type": "code",
   "execution_count": 35,
   "id": "07befb43-9d0f-4cf3-a15d-6d1e836300f6",
   "metadata": {},
   "outputs": [],
   "source": [
    "df['Aircraft.damage'] = df['Aircraft.damage'].fillna('Unknown')"
   ]
  },
  {
   "cell_type": "code",
   "execution_count": 36,
   "id": "9eb06686-5228-4e1c-80ee-dbee56c6a900",
   "metadata": {},
   "outputs": [
    {
     "data": {
      "text/plain": [
       "array(['Destroyed', 'Substantial', 'Minor', 'Unknown', 'Non-Fatal',\n",
       "       'Fatal(2)'], dtype=object)"
      ]
     },
     "execution_count": 36,
     "metadata": {},
     "output_type": "execute_result"
    }
   ],
   "source": [
    "df['Aircraft.damage'].unique() "
   ]
  },
  {
   "cell_type": "code",
   "execution_count": 37,
   "id": "6ed455cd-3b23-4ed3-a563-36c4d2d9a775",
   "metadata": {},
   "outputs": [],
   "source": [
    "df = df[df['Aircraft.damage'] != 'Fatal(2)']"
   ]
  },
  {
   "cell_type": "code",
   "execution_count": 38,
   "id": "0f8a08cc-af69-4cb4-8ab7-e1235d5456d7",
   "metadata": {
    "scrolled": true
   },
   "outputs": [
    {
     "data": {
      "text/plain": [
       "array(['United States', nan, 'GULF OF MEXICO', 'Puerto Rico',\n",
       "       'ATLANTIC OCEAN', 'HIGH ISLAND', 'Bahamas', 'MISSING', 'Pakistan',\n",
       "       'Angola', 'Germany', 'Korea, Republic Of', 'Martinique',\n",
       "       'American Samoa', 'PACIFIC OCEAN', 'Canada', 'Bolivia', 'Mexico',\n",
       "       'Dominica', 'Netherlands Antilles', 'Iceland', 'Greece', 'Guam',\n",
       "       'Australia', 'CARIBBEAN SEA', 'West Indies', 'Japan',\n",
       "       'Philippines', 'Venezuela', 'Bermuda', 'San Juan Islands',\n",
       "       'Colombia', 'El Salvador', 'United Kingdom',\n",
       "       'British Virgin Islands', 'Netherlands', 'Costa Rica',\n",
       "       'Mozambique', 'Jamaica', 'Panama', 'Guyana', 'Norway', 'Hong Kong',\n",
       "       'Portugal', 'Malaysia', 'Turks And Caicos Islands',\n",
       "       'Northern Mariana Islands', 'Dominican Republic', 'Suriname',\n",
       "       'Honduras', 'Congo', 'Belize', 'Guatemala', 'Anguilla', 'France',\n",
       "       'St Vincent And The Grenadines', 'Haiti', 'Montserrat',\n",
       "       'Papua New Guinea', 'Cayman Islands', 'Sweden', 'Taiwan',\n",
       "       'Senegal', 'Barbados', 'BLOCK 651A', 'Brazil', 'Mauritius',\n",
       "       'Argentina', 'Kenya', 'Ecuador', 'Aruba', 'Saudi Arabia', 'Cuba',\n",
       "       'Italy', 'French Guiana', 'Denmark', 'Sudan', 'Spain',\n",
       "       'Federated States Of Micronesia', 'St Lucia', 'Switzerland',\n",
       "       'Central African Republic', 'Algeria', 'Turkey', 'Nicaragua',\n",
       "       'Marshall Islands', 'Trinidad And Tobago', 'Poland', 'Belarus',\n",
       "       'Austria', 'Malta', 'Cameroon', 'Solomon Islands', 'Zambia',\n",
       "       'Peru', 'Croatia', 'Fiji', 'South Africa', 'India', 'Ethiopia',\n",
       "       'Ireland', 'Chile', 'Antigua And Barbuda', 'Uganda', 'China',\n",
       "       'Cambodia', 'Paraguay', 'Thailand', 'Belgium', 'Gambia', 'Uruguay',\n",
       "       'Tanzania', 'Mali', 'Indonesia', 'Bahrain', 'Kazakhstan', 'Egypt',\n",
       "       'Russia', 'Cyprus', \"Cote D'ivoire\", 'Nigeria', 'Greenland',\n",
       "       'Vietnam', 'New Zealand', 'Singapore', 'Ghana', 'Gabon', 'Nepal',\n",
       "       'Slovakia', 'Finland', 'Liberia', 'Romania', 'Maldives',\n",
       "       'Antarctica', 'Zimbabwe', 'Botswana', 'Isle of Man', 'Latvia',\n",
       "       'Niger', 'French Polynesia', 'Guadeloupe', 'Ivory Coast',\n",
       "       'Tunisia', 'Eritrea', 'Gibraltar', 'Namibia', 'Czech Republic',\n",
       "       'Benin', 'Bosnia And Herzegovina', 'Israel', 'Estonia',\n",
       "       'St Kitts And Nevis', 'Sierra Leone', 'Corsica', 'Scotland',\n",
       "       'Reunion', 'United Arab Emirates', 'Afghanistan', 'Ukraine',\n",
       "       'Hungary', 'Bangladesh', 'Morocco', 'Iraq', 'Jordan', 'Qatar',\n",
       "       'Madagascar', 'Malawi', 'Unknown', 'Central Africa', 'South Sudan',\n",
       "       'Saint Barthelemy', 'Micronesia', 'South Korea', 'Kyrgyzstan',\n",
       "       'Turks And Caicos', 'Eswatini', 'Tokelau', 'Sint Maarten', 'Macao',\n",
       "       'Seychelles', 'Rwanda', 'Palau', 'Luxembourg', 'Lebanon',\n",
       "       'Bosnia and Herzegovina', 'Libya', 'Guinea',\n",
       "       'Saint Vincent and the Grenadines', 'UN', 'Iran', 'Lithuania',\n",
       "       'Malampa', 'Antigua and Barbuda', 'AY', 'Chad', 'Cayenne',\n",
       "       'New Caledonia', 'Yemen', 'Slovenia', 'Nauru', 'Niue', 'Bulgaria',\n",
       "       'Republic of North Macedonia', 'Virgin Islands', 'Somalia',\n",
       "       'Pacific Ocean', 'Obyan', 'Mauritania', 'Albania', 'Wolseley',\n",
       "       'Wallis and Futuna', 'Saint Pierre and Miquelon', 'Georgia',\n",
       "       \"C�te d'Ivoire\", 'South Korean', 'Serbia', 'MU', 'Guernsey',\n",
       "       'Great Britain', 'Turks and Caicos Islands'], dtype=object)"
      ]
     },
     "execution_count": 38,
     "metadata": {},
     "output_type": "execute_result"
    }
   ],
   "source": [
    "df['Country'].unique() # missing, unkwown w unk . block 651 w singapore"
   ]
  },
  {
   "cell_type": "code",
   "execution_count": 39,
   "id": "38263a46-618a-4fe1-b408-e8e85d0eb8c9",
   "metadata": {},
   "outputs": [],
   "source": [
    "df['Year'] = [int(i.split('-')[0]) for i in df['Event.Date']]\n",
    "df['Month'] = [int(i.split('-')[1]) for i in df['Event.Date']]\n",
    "del df['Event.Date']"
   ]
  },
  {
   "cell_type": "code",
   "execution_count": 40,
   "id": "b98d2404-9613-4753-9349-37aa1d10e68a",
   "metadata": {},
   "outputs": [
    {
     "name": "stdout",
     "output_type": "stream",
     "text": [
      "<class 'pandas.core.frame.DataFrame'>\n",
      "Index: 88850 entries, 0 to 88888\n",
      "Data columns (total 19 columns):\n",
      " #   Column                  Non-Null Count  Dtype  \n",
      "---  ------                  --------------  -----  \n",
      " 0   Event.Id                88850 non-null  object \n",
      " 1   Investigation.Type      88850 non-null  object \n",
      " 2   Location                88798 non-null  object \n",
      " 3   Country                 88624 non-null  object \n",
      " 4   Injury.Severity         87851 non-null  object \n",
      " 5   Aircraft.damage         88850 non-null  object \n",
      " 6   Make                    88787 non-null  object \n",
      " 7   Model                   88758 non-null  object \n",
      " 8   Amateur.Built           88748 non-null  object \n",
      " 9   Number.of.Engines       82767 non-null  float64\n",
      " 10  Engine.Type             81755 non-null  object \n",
      " 11  Purpose.of.flight       88850 non-null  object \n",
      " 12  Total.Fatal.Injuries    77449 non-null  float64\n",
      " 13  Total.Serious.Injuries  76351 non-null  float64\n",
      " 14  Total.Minor.Injuries    76928 non-null  float64\n",
      " 15  Total.Uninjured         82943 non-null  float64\n",
      " 16  Weather.Condition       84360 non-null  object \n",
      " 17  Year                    88850 non-null  int64  \n",
      " 18  Month                   88850 non-null  int64  \n",
      "dtypes: float64(5), int64(2), object(12)\n",
      "memory usage: 13.6+ MB\n"
     ]
    }
   ],
   "source": [
    "df.info()"
   ]
  },
  {
   "cell_type": "code",
   "execution_count": 42,
   "id": "235b8ca5-77e9-488b-9c6c-b159ae37d2e9",
   "metadata": {},
   "outputs": [
    {
     "data": {
      "text/html": [
       "<div>\n",
       "<style scoped>\n",
       "    .dataframe tbody tr th:only-of-type {\n",
       "        vertical-align: middle;\n",
       "    }\n",
       "\n",
       "    .dataframe tbody tr th {\n",
       "        vertical-align: top;\n",
       "    }\n",
       "\n",
       "    .dataframe thead th {\n",
       "        text-align: right;\n",
       "    }\n",
       "</style>\n",
       "<table border=\"1\" class=\"dataframe\">\n",
       "  <thead>\n",
       "    <tr style=\"text-align: right;\">\n",
       "      <th></th>\n",
       "      <th>Event.Id</th>\n",
       "      <th>Investigation.Type</th>\n",
       "      <th>Location</th>\n",
       "      <th>Country</th>\n",
       "      <th>Injury.Severity</th>\n",
       "      <th>Aircraft.damage</th>\n",
       "      <th>Make</th>\n",
       "      <th>Model</th>\n",
       "      <th>Amateur.Built</th>\n",
       "      <th>Number.of.Engines</th>\n",
       "      <th>Engine.Type</th>\n",
       "      <th>Purpose.of.flight</th>\n",
       "      <th>Total.Fatal.Injuries</th>\n",
       "      <th>Total.Serious.Injuries</th>\n",
       "      <th>Total.Minor.Injuries</th>\n",
       "      <th>Total.Uninjured</th>\n",
       "      <th>Weather.Condition</th>\n",
       "      <th>Year</th>\n",
       "      <th>Month</th>\n",
       "    </tr>\n",
       "  </thead>\n",
       "  <tbody>\n",
       "    <tr>\n",
       "      <th>60080</th>\n",
       "      <td>20060217X00207</td>\n",
       "      <td>Accident</td>\n",
       "      <td>CAMARILLO, CA</td>\n",
       "      <td>United States</td>\n",
       "      <td>Non-Fatal</td>\n",
       "      <td>Substantial</td>\n",
       "      <td>Huntington</td>\n",
       "      <td>KIS</td>\n",
       "      <td>Yes</td>\n",
       "      <td>1.0</td>\n",
       "      <td>Reciprocating</td>\n",
       "      <td>Flight Test</td>\n",
       "      <td>NaN</td>\n",
       "      <td>1.0</td>\n",
       "      <td>NaN</td>\n",
       "      <td>NaN</td>\n",
       "      <td>VMC</td>\n",
       "      <td>2006</td>\n",
       "      <td>1</td>\n",
       "    </tr>\n",
       "    <tr>\n",
       "      <th>42189</th>\n",
       "      <td>20001208X08425</td>\n",
       "      <td>Accident</td>\n",
       "      <td>JOSHUA TREE, CA</td>\n",
       "      <td>United States</td>\n",
       "      <td>Non-Fatal</td>\n",
       "      <td>Substantial</td>\n",
       "      <td>Cessna</td>\n",
       "      <td>172N</td>\n",
       "      <td>No</td>\n",
       "      <td>1.0</td>\n",
       "      <td>Reciprocating</td>\n",
       "      <td>Personal</td>\n",
       "      <td>0.0</td>\n",
       "      <td>0.0</td>\n",
       "      <td>3.0</td>\n",
       "      <td>0.0</td>\n",
       "      <td>VMC</td>\n",
       "      <td>1997</td>\n",
       "      <td>7</td>\n",
       "    </tr>\n",
       "    <tr>\n",
       "      <th>74573</th>\n",
       "      <td>20131210X33244</td>\n",
       "      <td>Accident</td>\n",
       "      <td>Hammond, LA</td>\n",
       "      <td>United States</td>\n",
       "      <td>Non-Fatal</td>\n",
       "      <td>Substantial</td>\n",
       "      <td>ROCKWELL INTERNATIONAL</td>\n",
       "      <td>112</td>\n",
       "      <td>No</td>\n",
       "      <td>1.0</td>\n",
       "      <td>Reciprocating</td>\n",
       "      <td>Instructional</td>\n",
       "      <td>0.0</td>\n",
       "      <td>0.0</td>\n",
       "      <td>0.0</td>\n",
       "      <td>2.0</td>\n",
       "      <td>VMC</td>\n",
       "      <td>2013</td>\n",
       "      <td>12</td>\n",
       "    </tr>\n",
       "    <tr>\n",
       "      <th>78966</th>\n",
       "      <td>20160922X00530</td>\n",
       "      <td>Accident</td>\n",
       "      <td>Venice, FL</td>\n",
       "      <td>United States</td>\n",
       "      <td>Non-Fatal</td>\n",
       "      <td>Substantial</td>\n",
       "      <td>AIRTIME AIRCRAFT INC</td>\n",
       "      <td>CYGNET</td>\n",
       "      <td>No</td>\n",
       "      <td>1.0</td>\n",
       "      <td>Reciprocating</td>\n",
       "      <td>Instructional</td>\n",
       "      <td>0.0</td>\n",
       "      <td>0.0</td>\n",
       "      <td>0.0</td>\n",
       "      <td>2.0</td>\n",
       "      <td>VMC</td>\n",
       "      <td>2016</td>\n",
       "      <td>9</td>\n",
       "    </tr>\n",
       "    <tr>\n",
       "      <th>43503</th>\n",
       "      <td>20001211X09656</td>\n",
       "      <td>Accident</td>\n",
       "      <td>AMPORT, United Kingdom</td>\n",
       "      <td>United Kingdom</td>\n",
       "      <td>Fatal(1)</td>\n",
       "      <td>Destroyed</td>\n",
       "      <td>Robinson</td>\n",
       "      <td>R22B</td>\n",
       "      <td>No</td>\n",
       "      <td>NaN</td>\n",
       "      <td>Unknown</td>\n",
       "      <td>Unknown</td>\n",
       "      <td>1.0</td>\n",
       "      <td>0.0</td>\n",
       "      <td>0.0</td>\n",
       "      <td>0.0</td>\n",
       "      <td>UNK</td>\n",
       "      <td>1998</td>\n",
       "      <td>3</td>\n",
       "    </tr>\n",
       "    <tr>\n",
       "      <th>2859</th>\n",
       "      <td>20020917X04748</td>\n",
       "      <td>Accident</td>\n",
       "      <td>MAGMA, AZ</td>\n",
       "      <td>United States</td>\n",
       "      <td>Non-Fatal</td>\n",
       "      <td>Substantial</td>\n",
       "      <td>Grumman</td>\n",
       "      <td>G-164A</td>\n",
       "      <td>No</td>\n",
       "      <td>1.0</td>\n",
       "      <td>Reciprocating</td>\n",
       "      <td>Unknown</td>\n",
       "      <td>0.0</td>\n",
       "      <td>0.0</td>\n",
       "      <td>0.0</td>\n",
       "      <td>1.0</td>\n",
       "      <td>VMC</td>\n",
       "      <td>1982</td>\n",
       "      <td>9</td>\n",
       "    </tr>\n",
       "    <tr>\n",
       "      <th>24580</th>\n",
       "      <td>20001213X29993</td>\n",
       "      <td>Accident</td>\n",
       "      <td>ZEPHYRHILLS, FL</td>\n",
       "      <td>United States</td>\n",
       "      <td>Non-Fatal</td>\n",
       "      <td>Substantial</td>\n",
       "      <td>Cessna</td>\n",
       "      <td>152</td>\n",
       "      <td>No</td>\n",
       "      <td>1.0</td>\n",
       "      <td>Reciprocating</td>\n",
       "      <td>Instructional</td>\n",
       "      <td>0.0</td>\n",
       "      <td>0.0</td>\n",
       "      <td>0.0</td>\n",
       "      <td>1.0</td>\n",
       "      <td>VMC</td>\n",
       "      <td>1989</td>\n",
       "      <td>12</td>\n",
       "    </tr>\n",
       "    <tr>\n",
       "      <th>47996</th>\n",
       "      <td>20001212X20674</td>\n",
       "      <td>Accident</td>\n",
       "      <td>BUCKEYE, AZ</td>\n",
       "      <td>United States</td>\n",
       "      <td>Non-Fatal</td>\n",
       "      <td>Substantial</td>\n",
       "      <td>Aero Commander</td>\n",
       "      <td>100</td>\n",
       "      <td>No</td>\n",
       "      <td>1.0</td>\n",
       "      <td>Reciprocating</td>\n",
       "      <td>Personal</td>\n",
       "      <td>0.0</td>\n",
       "      <td>1.0</td>\n",
       "      <td>0.0</td>\n",
       "      <td>0.0</td>\n",
       "      <td>VMC</td>\n",
       "      <td>2000</td>\n",
       "      <td>3</td>\n",
       "    </tr>\n",
       "    <tr>\n",
       "      <th>75878</th>\n",
       "      <td>20141005X93420</td>\n",
       "      <td>Accident</td>\n",
       "      <td>Pikeville, TN</td>\n",
       "      <td>United States</td>\n",
       "      <td>Non-Fatal</td>\n",
       "      <td>Substantial</td>\n",
       "      <td>HPH LTD</td>\n",
       "      <td>304CZ</td>\n",
       "      <td>No</td>\n",
       "      <td>NaN</td>\n",
       "      <td>NaN</td>\n",
       "      <td>Personal</td>\n",
       "      <td>0.0</td>\n",
       "      <td>0.0</td>\n",
       "      <td>0.0</td>\n",
       "      <td>1.0</td>\n",
       "      <td>VMC</td>\n",
       "      <td>2014</td>\n",
       "      <td>10</td>\n",
       "    </tr>\n",
       "    <tr>\n",
       "      <th>74705</th>\n",
       "      <td>20140203X35035</td>\n",
       "      <td>Accident</td>\n",
       "      <td>Springfield, IL</td>\n",
       "      <td>United States</td>\n",
       "      <td>Non-Fatal</td>\n",
       "      <td>Substantial</td>\n",
       "      <td>PIAGGIO</td>\n",
       "      <td>P180 - AVANTI II</td>\n",
       "      <td>No</td>\n",
       "      <td>2.0</td>\n",
       "      <td>Turbo Prop</td>\n",
       "      <td>Business</td>\n",
       "      <td>0.0</td>\n",
       "      <td>0.0</td>\n",
       "      <td>0.0</td>\n",
       "      <td>5.0</td>\n",
       "      <td>IMC</td>\n",
       "      <td>2014</td>\n",
       "      <td>1</td>\n",
       "    </tr>\n",
       "  </tbody>\n",
       "</table>\n",
       "</div>"
      ],
      "text/plain": [
       "             Event.Id Investigation.Type                Location  \\\n",
       "60080  20060217X00207           Accident           CAMARILLO, CA   \n",
       "42189  20001208X08425           Accident         JOSHUA TREE, CA   \n",
       "74573  20131210X33244           Accident             Hammond, LA   \n",
       "78966  20160922X00530           Accident              Venice, FL   \n",
       "43503  20001211X09656           Accident  AMPORT, United Kingdom   \n",
       "2859   20020917X04748           Accident               MAGMA, AZ   \n",
       "24580  20001213X29993           Accident         ZEPHYRHILLS, FL   \n",
       "47996  20001212X20674           Accident             BUCKEYE, AZ   \n",
       "75878  20141005X93420           Accident           Pikeville, TN   \n",
       "74705  20140203X35035           Accident         Springfield, IL   \n",
       "\n",
       "              Country Injury.Severity Aircraft.damage                    Make  \\\n",
       "60080   United States       Non-Fatal     Substantial              Huntington   \n",
       "42189   United States       Non-Fatal     Substantial                  Cessna   \n",
       "74573   United States       Non-Fatal     Substantial  ROCKWELL INTERNATIONAL   \n",
       "78966   United States       Non-Fatal     Substantial    AIRTIME AIRCRAFT INC   \n",
       "43503  United Kingdom        Fatal(1)       Destroyed                Robinson   \n",
       "2859    United States       Non-Fatal     Substantial                 Grumman   \n",
       "24580   United States       Non-Fatal     Substantial                  Cessna   \n",
       "47996   United States       Non-Fatal     Substantial          Aero Commander   \n",
       "75878   United States       Non-Fatal     Substantial                 HPH LTD   \n",
       "74705   United States       Non-Fatal     Substantial                 PIAGGIO   \n",
       "\n",
       "                  Model Amateur.Built  Number.of.Engines    Engine.Type  \\\n",
       "60080               KIS           Yes                1.0  Reciprocating   \n",
       "42189              172N            No                1.0  Reciprocating   \n",
       "74573               112            No                1.0  Reciprocating   \n",
       "78966            CYGNET            No                1.0  Reciprocating   \n",
       "43503              R22B            No                NaN        Unknown   \n",
       "2859             G-164A            No                1.0  Reciprocating   \n",
       "24580               152            No                1.0  Reciprocating   \n",
       "47996               100            No                1.0  Reciprocating   \n",
       "75878             304CZ            No                NaN            NaN   \n",
       "74705  P180 - AVANTI II            No                2.0     Turbo Prop   \n",
       "\n",
       "      Purpose.of.flight  Total.Fatal.Injuries  Total.Serious.Injuries  \\\n",
       "60080       Flight Test                   NaN                     1.0   \n",
       "42189          Personal                   0.0                     0.0   \n",
       "74573     Instructional                   0.0                     0.0   \n",
       "78966     Instructional                   0.0                     0.0   \n",
       "43503           Unknown                   1.0                     0.0   \n",
       "2859            Unknown                   0.0                     0.0   \n",
       "24580     Instructional                   0.0                     0.0   \n",
       "47996          Personal                   0.0                     1.0   \n",
       "75878          Personal                   0.0                     0.0   \n",
       "74705          Business                   0.0                     0.0   \n",
       "\n",
       "       Total.Minor.Injuries  Total.Uninjured Weather.Condition  Year  Month  \n",
       "60080                   NaN              NaN               VMC  2006      1  \n",
       "42189                   3.0              0.0               VMC  1997      7  \n",
       "74573                   0.0              2.0               VMC  2013     12  \n",
       "78966                   0.0              2.0               VMC  2016      9  \n",
       "43503                   0.0              0.0               UNK  1998      3  \n",
       "2859                    0.0              1.0               VMC  1982      9  \n",
       "24580                   0.0              1.0               VMC  1989     12  \n",
       "47996                   0.0              0.0               VMC  2000      3  \n",
       "75878                   0.0              1.0               VMC  2014     10  \n",
       "74705                   0.0              5.0               IMC  2014      1  "
      ]
     },
     "execution_count": 42,
     "metadata": {},
     "output_type": "execute_result"
    }
   ],
   "source": [
    "df.sample(10)"
   ]
  },
  {
   "cell_type": "code",
   "execution_count": 45,
   "id": "159d2d44-8200-4643-866f-b263214ad11a",
   "metadata": {},
   "outputs": [
    {
     "data": {
      "text/plain": [
       "52"
      ]
     },
     "execution_count": 45,
     "metadata": {},
     "output_type": "execute_result"
    }
   ],
   "source": [
    "df['Location'].isnull().sum()"
   ]
  },
  {
   "cell_type": "code",
   "execution_count": 46,
   "id": "4ffde10c-4d7a-4eb8-b7a9-2ee52694ca17",
   "metadata": {},
   "outputs": [
    {
     "data": {
      "text/plain": [
       "0         Fatal(2)\n",
       "1         Fatal(4)\n",
       "2         Fatal(3)\n",
       "3         Fatal(2)\n",
       "4         Fatal(1)\n",
       "           ...    \n",
       "88884        Minor\n",
       "88885          NaN\n",
       "88886    Non-Fatal\n",
       "88887          NaN\n",
       "88888        Minor\n",
       "Name: Injury.Severity, Length: 88850, dtype: object"
      ]
     },
     "execution_count": 46,
     "metadata": {},
     "output_type": "execute_result"
    }
   ],
   "source": [
    "df['Injury.Severity']"
   ]
  },
  {
   "cell_type": "code",
   "execution_count": 47,
   "id": "f827bc03-c5e8-4c7e-9c28-b096fd0ef918",
   "metadata": {},
   "outputs": [
    {
     "data": {
      "text/plain": [
       "999"
      ]
     },
     "execution_count": 47,
     "metadata": {},
     "output_type": "execute_result"
    }
   ],
   "source": [
    "df['Injury.Severity'].isnull().sum()"
   ]
  },
  {
   "cell_type": "code",
   "execution_count": 48,
   "id": "5964da2f-b9cf-4847-9677-9e5b5b61b0a9",
   "metadata": {},
   "outputs": [
    {
     "data": {
      "text/plain": [
       "array(['Fatal(2)', 'Fatal(4)', 'Fatal(3)', 'Fatal(1)', 'Non-Fatal',\n",
       "       'Incident', 'Fatal(8)', 'Fatal(78)', 'Fatal(7)', 'Fatal(6)',\n",
       "       'Fatal(5)', 'Fatal(153)', 'Fatal(12)', 'Fatal(14)', 'Fatal(23)',\n",
       "       'Fatal(10)', 'Fatal(11)', 'Fatal(9)', 'Fatal(17)', 'Fatal(13)',\n",
       "       'Fatal(29)', 'Fatal(70)', 'Unavailable', 'O', 'Fatal(135)',\n",
       "       'Fatal(31)', 'Fatal(256)', 'Fatal(25)', 'Fatal(82)', 'Fatal(156)',\n",
       "       'Fatal(28)', 'Fatal(18)', 'Fatal(43)', 'Fatal(15)', 'Fatal(270)',\n",
       "       'Fatal(144)', 'Fatal(174)', 'Fatal(111)', 'Fatal(131)',\n",
       "       'Fatal(20)', 'Fatal(73)', 'Fatal(27)', 'Fatal(34)', 'Fatal(87)',\n",
       "       'Fatal(30)', 'Fatal(16)', 'Fatal(47)', 'Fatal(56)', 'Fatal(37)',\n",
       "       'Fatal(132)', 'Fatal(68)', 'Fatal(54)', 'Fatal(52)', 'Fatal(65)',\n",
       "       'Fatal(72)', 'Fatal(160)', 'Fatal(189)', 'Fatal(123)', 'Fatal(33)',\n",
       "       'Fatal(110)', 'Fatal(230)', 'Fatal(97)', 'Fatal(349)',\n",
       "       'Fatal(125)', 'Fatal(35)', 'Fatal(228)', 'Fatal(75)', 'Fatal(104)',\n",
       "       'Fatal(229)', 'Fatal(80)', 'Fatal(217)', 'Fatal(169)', 'Fatal(88)',\n",
       "       'Fatal(19)', 'Fatal(60)', 'Fatal(113)', 'Fatal(143)', 'Fatal(83)',\n",
       "       'Fatal(24)', 'Fatal(44)', 'Fatal(64)', 'Fatal(92)', 'Fatal(118)',\n",
       "       'Fatal(265)', 'Fatal(26)', 'Fatal(138)', 'Fatal(206)', 'Fatal(71)',\n",
       "       'Fatal(21)', 'Fatal(46)', 'Fatal(102)', 'Fatal(115)',\n",
       "       'BURKE LAKEFRONT', 'Fatal(141)', 'Fatal(55)', 'Fatal(121)',\n",
       "       'Fatal(45)', 'Fatal(145)', 'Fatal(117)', 'Fatal(107)',\n",
       "       'Fatal(124)', 'Fatal(49)', 'Fatal(154)', 'Fatal(96)', 'Fatal(114)',\n",
       "       'Fatal(199)', 'Fatal(89)', 'Fatal(57)', 'Fatal', nan, 'Minor',\n",
       "       'Serious'], dtype=object)"
      ]
     },
     "execution_count": 48,
     "metadata": {},
     "output_type": "execute_result"
    }
   ],
   "source": [
    "df['Injury.Severity'].unique()"
   ]
  },
  {
   "cell_type": "code",
   "execution_count": 49,
   "id": "62f76c6d-ef7d-400a-bfa5-92f9f105dc09",
   "metadata": {},
   "outputs": [
    {
     "data": {
      "text/plain": [
       "0"
      ]
     },
     "execution_count": 49,
     "metadata": {},
     "output_type": "execute_result"
    }
   ],
   "source": [
    "df['Aircraft.damage'].isnull().sum()"
   ]
  },
  {
   "cell_type": "code",
   "execution_count": 50,
   "id": "6835e055-d04a-443c-8838-f1cfb649cf56",
   "metadata": {},
   "outputs": [
    {
     "data": {
      "text/plain": [
       "array(['Destroyed', 'Substantial', 'Minor', 'Unknown', 'Non-Fatal'],\n",
       "      dtype=object)"
      ]
     },
     "execution_count": 50,
     "metadata": {},
     "output_type": "execute_result"
    }
   ],
   "source": [
    "df['Aircraft.damage'].unique()"
   ]
  },
  {
   "cell_type": "code",
   "execution_count": 51,
   "id": "a94ab32d-9905-4f10-86c6-8cc93498fc2c",
   "metadata": {},
   "outputs": [
    {
     "data": {
      "text/html": [
       "<div>\n",
       "<style scoped>\n",
       "    .dataframe tbody tr th:only-of-type {\n",
       "        vertical-align: middle;\n",
       "    }\n",
       "\n",
       "    .dataframe tbody tr th {\n",
       "        vertical-align: top;\n",
       "    }\n",
       "\n",
       "    .dataframe thead th {\n",
       "        text-align: right;\n",
       "    }\n",
       "</style>\n",
       "<table border=\"1\" class=\"dataframe\">\n",
       "  <thead>\n",
       "    <tr style=\"text-align: right;\">\n",
       "      <th></th>\n",
       "      <th>Event.Id</th>\n",
       "      <th>Investigation.Type</th>\n",
       "      <th>Location</th>\n",
       "      <th>Country</th>\n",
       "      <th>Injury.Severity</th>\n",
       "      <th>Aircraft.damage</th>\n",
       "      <th>Make</th>\n",
       "      <th>Model</th>\n",
       "      <th>Amateur.Built</th>\n",
       "      <th>Number.of.Engines</th>\n",
       "      <th>Engine.Type</th>\n",
       "      <th>Purpose.of.flight</th>\n",
       "      <th>Total.Fatal.Injuries</th>\n",
       "      <th>Total.Serious.Injuries</th>\n",
       "      <th>Total.Minor.Injuries</th>\n",
       "      <th>Total.Uninjured</th>\n",
       "      <th>Weather.Condition</th>\n",
       "      <th>Year</th>\n",
       "      <th>Month</th>\n",
       "    </tr>\n",
       "  </thead>\n",
       "  <tbody>\n",
       "    <tr>\n",
       "      <th>0</th>\n",
       "      <td>20001218X45444</td>\n",
       "      <td>Accident</td>\n",
       "      <td>MOOSE CREEK, ID</td>\n",
       "      <td>United States</td>\n",
       "      <td>Fatal(2)</td>\n",
       "      <td>Destroyed</td>\n",
       "      <td>Stinson</td>\n",
       "      <td>108-3</td>\n",
       "      <td>No</td>\n",
       "      <td>1.0</td>\n",
       "      <td>Reciprocating</td>\n",
       "      <td>Personal</td>\n",
       "      <td>2.0</td>\n",
       "      <td>0.0</td>\n",
       "      <td>0.0</td>\n",
       "      <td>0.0</td>\n",
       "      <td>UNK</td>\n",
       "      <td>1948</td>\n",
       "      <td>10</td>\n",
       "    </tr>\n",
       "    <tr>\n",
       "      <th>1</th>\n",
       "      <td>20001218X45447</td>\n",
       "      <td>Accident</td>\n",
       "      <td>BRIDGEPORT, CA</td>\n",
       "      <td>United States</td>\n",
       "      <td>Fatal(4)</td>\n",
       "      <td>Destroyed</td>\n",
       "      <td>Piper</td>\n",
       "      <td>PA24-180</td>\n",
       "      <td>No</td>\n",
       "      <td>1.0</td>\n",
       "      <td>Reciprocating</td>\n",
       "      <td>Personal</td>\n",
       "      <td>4.0</td>\n",
       "      <td>0.0</td>\n",
       "      <td>0.0</td>\n",
       "      <td>0.0</td>\n",
       "      <td>UNK</td>\n",
       "      <td>1962</td>\n",
       "      <td>7</td>\n",
       "    </tr>\n",
       "    <tr>\n",
       "      <th>2</th>\n",
       "      <td>20061025X01555</td>\n",
       "      <td>Accident</td>\n",
       "      <td>Saltville, VA</td>\n",
       "      <td>United States</td>\n",
       "      <td>Fatal(3)</td>\n",
       "      <td>Destroyed</td>\n",
       "      <td>Cessna</td>\n",
       "      <td>172M</td>\n",
       "      <td>No</td>\n",
       "      <td>1.0</td>\n",
       "      <td>Reciprocating</td>\n",
       "      <td>Personal</td>\n",
       "      <td>3.0</td>\n",
       "      <td>NaN</td>\n",
       "      <td>NaN</td>\n",
       "      <td>NaN</td>\n",
       "      <td>IMC</td>\n",
       "      <td>1974</td>\n",
       "      <td>8</td>\n",
       "    </tr>\n",
       "    <tr>\n",
       "      <th>3</th>\n",
       "      <td>20001218X45448</td>\n",
       "      <td>Accident</td>\n",
       "      <td>EUREKA, CA</td>\n",
       "      <td>United States</td>\n",
       "      <td>Fatal(2)</td>\n",
       "      <td>Destroyed</td>\n",
       "      <td>Rockwell</td>\n",
       "      <td>112</td>\n",
       "      <td>No</td>\n",
       "      <td>1.0</td>\n",
       "      <td>Reciprocating</td>\n",
       "      <td>Personal</td>\n",
       "      <td>2.0</td>\n",
       "      <td>0.0</td>\n",
       "      <td>0.0</td>\n",
       "      <td>0.0</td>\n",
       "      <td>IMC</td>\n",
       "      <td>1977</td>\n",
       "      <td>6</td>\n",
       "    </tr>\n",
       "    <tr>\n",
       "      <th>4</th>\n",
       "      <td>20041105X01764</td>\n",
       "      <td>Accident</td>\n",
       "      <td>Canton, OH</td>\n",
       "      <td>United States</td>\n",
       "      <td>Fatal(1)</td>\n",
       "      <td>Destroyed</td>\n",
       "      <td>Cessna</td>\n",
       "      <td>501</td>\n",
       "      <td>No</td>\n",
       "      <td>NaN</td>\n",
       "      <td>NaN</td>\n",
       "      <td>Personal</td>\n",
       "      <td>1.0</td>\n",
       "      <td>2.0</td>\n",
       "      <td>NaN</td>\n",
       "      <td>0.0</td>\n",
       "      <td>VMC</td>\n",
       "      <td>1979</td>\n",
       "      <td>8</td>\n",
       "    </tr>\n",
       "  </tbody>\n",
       "</table>\n",
       "</div>"
      ],
      "text/plain": [
       "         Event.Id Investigation.Type         Location        Country  \\\n",
       "0  20001218X45444           Accident  MOOSE CREEK, ID  United States   \n",
       "1  20001218X45447           Accident   BRIDGEPORT, CA  United States   \n",
       "2  20061025X01555           Accident    Saltville, VA  United States   \n",
       "3  20001218X45448           Accident       EUREKA, CA  United States   \n",
       "4  20041105X01764           Accident       Canton, OH  United States   \n",
       "\n",
       "  Injury.Severity Aircraft.damage      Make     Model Amateur.Built  \\\n",
       "0        Fatal(2)       Destroyed   Stinson     108-3            No   \n",
       "1        Fatal(4)       Destroyed     Piper  PA24-180            No   \n",
       "2        Fatal(3)       Destroyed    Cessna      172M            No   \n",
       "3        Fatal(2)       Destroyed  Rockwell       112            No   \n",
       "4        Fatal(1)       Destroyed    Cessna       501            No   \n",
       "\n",
       "   Number.of.Engines    Engine.Type Purpose.of.flight  Total.Fatal.Injuries  \\\n",
       "0                1.0  Reciprocating          Personal                   2.0   \n",
       "1                1.0  Reciprocating          Personal                   4.0   \n",
       "2                1.0  Reciprocating          Personal                   3.0   \n",
       "3                1.0  Reciprocating          Personal                   2.0   \n",
       "4                NaN            NaN          Personal                   1.0   \n",
       "\n",
       "   Total.Serious.Injuries  Total.Minor.Injuries  Total.Uninjured  \\\n",
       "0                     0.0                   0.0              0.0   \n",
       "1                     0.0                   0.0              0.0   \n",
       "2                     NaN                   NaN              NaN   \n",
       "3                     0.0                   0.0              0.0   \n",
       "4                     2.0                   NaN              0.0   \n",
       "\n",
       "  Weather.Condition  Year  Month  \n",
       "0               UNK  1948     10  \n",
       "1               UNK  1962      7  \n",
       "2               IMC  1974      8  \n",
       "3               IMC  1977      6  \n",
       "4               VMC  1979      8  "
      ]
     },
     "execution_count": 51,
     "metadata": {},
     "output_type": "execute_result"
    }
   ],
   "source": [
    "df.head()"
   ]
  },
  {
   "cell_type": "code",
   "execution_count": 52,
   "id": "02e775cb-7378-4baa-8f4f-58bf8e860248",
   "metadata": {},
   "outputs": [
    {
     "data": {
      "text/plain": [
       "63"
      ]
     },
     "execution_count": 52,
     "metadata": {},
     "output_type": "execute_result"
    }
   ],
   "source": [
    "df['Make'].isnull().sum()"
   ]
  },
  {
   "cell_type": "code",
   "execution_count": 53,
   "id": "6eb498be-1a99-4875-acdf-01c3f7a40292",
   "metadata": {},
   "outputs": [
    {
     "data": {
      "text/plain": [
       "array(['Stinson', 'Piper', 'Cessna', ..., 'JAMES R DERNOVSEK',\n",
       "       'ORLICAN S R O', 'ROYSE RALPH L'], dtype=object)"
      ]
     },
     "execution_count": 53,
     "metadata": {},
     "output_type": "execute_result"
    }
   ],
   "source": [
    "df['Make'].unique()"
   ]
  },
  {
   "cell_type": "code",
   "execution_count": 54,
   "id": "7c95790e-f771-4be6-884c-7fe8bdc75e8e",
   "metadata": {},
   "outputs": [
    {
     "data": {
      "text/plain": [
       "92"
      ]
     },
     "execution_count": 54,
     "metadata": {},
     "output_type": "execute_result"
    }
   ],
   "source": [
    "df['Model'].isnull().sum()"
   ]
  },
  {
   "cell_type": "code",
   "execution_count": 55,
   "id": "3e301388-379d-49a9-86b8-ab80a2b4ce36",
   "metadata": {},
   "outputs": [
    {
     "data": {
      "text/plain": [
       "102"
      ]
     },
     "execution_count": 55,
     "metadata": {},
     "output_type": "execute_result"
    }
   ],
   "source": [
    "df['Amateur.Built'].isnull().sum()"
   ]
  },
  {
   "cell_type": "code",
   "execution_count": 59,
   "id": "fbfed4cc-8514-4c70-b284-319b05443b5e",
   "metadata": {},
   "outputs": [
    {
     "data": {
      "text/plain": [
       "array(['No', 'Yes', nan, '206B-III', ' EURO', '172'], dtype=object)"
      ]
     },
     "execution_count": 59,
     "metadata": {},
     "output_type": "execute_result"
    }
   ],
   "source": [
    "df['Amateur.Built'].unique()"
   ]
  },
  {
   "cell_type": "code",
   "execution_count": 60,
   "id": "33e415a1-e78e-40c4-8643-6507c913633b",
   "metadata": {},
   "outputs": [
    {
     "data": {
      "text/plain": [
       "6083"
      ]
     },
     "execution_count": 60,
     "metadata": {},
     "output_type": "execute_result"
    }
   ],
   "source": [
    "df['Number.of.Engines'].isnull().sum()"
   ]
  },
  {
   "cell_type": "code",
   "execution_count": 61,
   "id": "5e5a384c-7ce2-4c90-8079-239d818860b8",
   "metadata": {},
   "outputs": [
    {
     "data": {
      "text/plain": [
       "array([ 1., nan,  2.,  0.,  3.,  4.,  8.,  6.])"
      ]
     },
     "execution_count": 61,
     "metadata": {},
     "output_type": "execute_result"
    }
   ],
   "source": [
    "df['Number.of.Engines'].unique()"
   ]
  },
  {
   "cell_type": "code",
   "execution_count": 62,
   "id": "d0f822ec-9fa4-44b1-8600-81bbde7c1a88",
   "metadata": {},
   "outputs": [
    {
     "data": {
      "text/plain": [
       "7095"
      ]
     },
     "execution_count": 62,
     "metadata": {},
     "output_type": "execute_result"
    }
   ],
   "source": [
    "df['Engine.Type'].isnull().sum()"
   ]
  },
  {
   "cell_type": "code",
   "execution_count": 63,
   "id": "98b2d383-10ab-46f6-b63d-62daf56a77d8",
   "metadata": {},
   "outputs": [
    {
     "data": {
      "text/plain": [
       "array(['Reciprocating', nan, 'Turbo Fan', 'Turbo Shaft', 'Unknown',\n",
       "       'Turbo Prop', 'Turbo Jet', '1', 'Electric', 'Hybrid Rocket',\n",
       "       'Geared Turbofan', 'LR', 'NONE', 'UNK'], dtype=object)"
      ]
     },
     "execution_count": 63,
     "metadata": {},
     "output_type": "execute_result"
    }
   ],
   "source": [
    "df['Engine.Type'].unique()"
   ]
  },
  {
   "cell_type": "code",
   "execution_count": 67,
   "id": "3df3c40f-9260-4300-9f0a-ce9cfd4ad647",
   "metadata": {},
   "outputs": [
    {
     "data": {
      "text/plain": [
       "array(['Personal', 'Unknown', 'Business', 'Instructional', 'Ferry',\n",
       "       'Executive/corporate', 'Aerial Observation', 'Aerial Application',\n",
       "       'Public Aircraft', 'Skydiving', 'Other Work Use', 'Positioning',\n",
       "       'NSCH', 'Flight Test', 'Air Race/show', 'Air Drop',\n",
       "       'Public Aircraft - Federal', 'Glider Tow',\n",
       "       'Public Aircraft - Local', 'External Load',\n",
       "       'Public Aircraft - State', 'Banner Tow', 'Firefighting',\n",
       "       'Air Race show', 'PUBS', 'ASHO', 'PUBL'], dtype=object)"
      ]
     },
     "execution_count": 67,
     "metadata": {},
     "output_type": "execute_result"
    }
   ],
   "source": [
    "df['Purpose.of.flight'].unique()"
   ]
  },
  {
   "cell_type": "code",
   "execution_count": null,
   "id": "4c64834a-46ca-47d8-8112-bdfe69fad396",
   "metadata": {},
   "outputs": [],
   "source": []
  }
 ],
 "metadata": {
  "kernelspec": {
   "display_name": "Python 3 (ipykernel)",
   "language": "python",
   "name": "python3"
  },
  "language_info": {
   "codemirror_mode": {
    "name": "ipython",
    "version": 3
   },
   "file_extension": ".py",
   "mimetype": "text/x-python",
   "name": "python",
   "nbconvert_exporter": "python",
   "pygments_lexer": "ipython3",
   "version": "3.12.7"
  }
 },
 "nbformat": 4,
 "nbformat_minor": 5
}

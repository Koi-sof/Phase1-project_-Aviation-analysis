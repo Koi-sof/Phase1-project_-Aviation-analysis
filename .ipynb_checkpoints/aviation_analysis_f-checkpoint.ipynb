{
 "cells": [
  {
   "cell_type": "markdown",
   "id": "KirfJ6YOgIcC",
   "metadata": {
    "id": "KirfJ6YOgIcC"
   },
   "source": [
    "# AVIATION ANALYSIS\n",
    "The objective of this analysis is to explore historical aviation incident data to identify accidents, fatalities, and damage severity of aircrafts. The goal is to determine which aircraft types present the lowest operational risk, providing insights to guide the company's buying strategy for the new aviation division.\n",
    "\n",
    "By identifying aircraft with lower incident rates and reduced fatality or damage severity, the company can make informed decisions that prioritize safety, reliability, and long-term operational success in both private and public sectors.\n",
    "\n"
   ]
  },
  {
   "cell_type": "markdown",
   "id": "y3L1dflZGmOI",
   "metadata": {
    "id": "y3L1dflZGmOI"
   },
   "source": [
    "## Setup and Data Overview\n",
    "This section is focused on importing the necessary libraries and viewing the data."
   ]
  },
  {
   "cell_type": "code",
   "execution_count": 1,
   "id": "745f1454-3c6b-4e4b-a788-a33e44a42562",
   "metadata": {
    "id": "745f1454-3c6b-4e4b-a788-a33e44a42562"
   },
   "outputs": [],
   "source": [
    "import pandas as pd\n",
    "import seaborn as sns\n",
    "import matplotlib.pyplot as plt"
   ]
  },
  {
   "cell_type": "code",
   "execution_count": 2,
   "id": "92088baa-6848-4731-84e7-9cf21863b3ff",
   "metadata": {
    "colab": {
     "base_uri": "https://localhost:8080/"
    },
    "id": "92088baa-6848-4731-84e7-9cf21863b3ff",
    "outputId": "3227c40c-c753-46e9-f7e2-307f6966b831"
   },
   "outputs": [
    {
     "name": "stderr",
     "output_type": "stream",
     "text": [
      "/tmp/ipykernel_88294/3455165800.py:1: DtypeWarning: Columns (6,7,17,23,28,31) have mixed types. Specify dtype option on import or set low_memory=False.\n",
      "  df = pd.read_csv('/home/muchiri/Moringa/phase1/project/AviationData.csv')\n"
     ]
    }
   ],
   "source": [
    "df = pd.read_csv('/home/muchiri/Moringa/phase1/project/AviationData.csv')"
   ]
  },
  {
   "cell_type": "code",
   "execution_count": 3,
   "id": "d149cabb-cf34-40fd-8d94-1e1c54a0a0fd",
   "metadata": {
    "colab": {
     "base_uri": "https://localhost:8080/"
    },
    "id": "d149cabb-cf34-40fd-8d94-1e1c54a0a0fd",
    "outputId": "f6b812b9-1503-4db8-e9a1-614f6a1fe8ed"
   },
   "outputs": [
    {
     "name": "stdout",
     "output_type": "stream",
     "text": [
      "<class 'pandas.core.frame.DataFrame'>\n",
      "RangeIndex: 88889 entries, 0 to 88888\n",
      "Data columns (total 32 columns):\n",
      " #   Column                  Non-Null Count  Dtype  \n",
      "---  ------                  --------------  -----  \n",
      " 0   Event.Id                88889 non-null  object \n",
      " 1   Investigation.Type      88889 non-null  object \n",
      " 2   Accident.Number         88889 non-null  object \n",
      " 3   Event.Date              88889 non-null  object \n",
      " 4   Location                88837 non-null  object \n",
      " 5   Country                 88663 non-null  object \n",
      " 6   Latitude                34382 non-null  object \n",
      " 7   Longitude               34373 non-null  object \n",
      " 8   Airport.Code            50132 non-null  object \n",
      " 9   Airport.Name            52703 non-null  object \n",
      " 10  Injury.Severity         87889 non-null  object \n",
      " 11  Aircraft.damage         85695 non-null  object \n",
      " 12  Aircraft.Category       32289 non-null  object \n",
      " 13  Registration.Number     87505 non-null  object \n",
      " 14  Make                    88826 non-null  object \n",
      " 15  Model                   88797 non-null  object \n",
      " 16  Amateur.Built           88787 non-null  object \n",
      " 17  Number.of.Engines       82806 non-null  object \n",
      " 18  Engine.Type             81792 non-null  object \n",
      " 19  FAR.Description         32026 non-null  object \n",
      " 20  Schedule                12582 non-null  object \n",
      " 21  Purpose.of.flight       82694 non-null  object \n",
      " 22  Air.carrier             16651 non-null  object \n",
      " 23  Total.Fatal.Injuries    77486 non-null  object \n",
      " 24  Total.Serious.Injuries  76380 non-null  float64\n",
      " 25  Total.Minor.Injuries    76956 non-null  float64\n",
      " 26  Total.Uninjured         82976 non-null  float64\n",
      " 27  Weather.Condition       84397 non-null  object \n",
      " 28  Broad.phase.of.flight   61726 non-null  object \n",
      " 29  Report.Status           82502 non-null  object \n",
      " 30  Publication.Date        75118 non-null  object \n",
      " 31  Unnamed: 31             26 non-null     object \n",
      "dtypes: float64(3), object(29)\n",
      "memory usage: 21.7+ MB\n"
     ]
    }
   ],
   "source": [
    "df.info()"
   ]
  },
  {
   "cell_type": "markdown",
   "id": "QMEzIdqHHh9-",
   "metadata": {
    "id": "QMEzIdqHHh9-"
   },
   "source": [
    "Out of the mentioned columns in the DTypeWarning above, I only need columns: 17 and 23 in my analysis. I will deal with this warning later on in my analysis."
   ]
  },
  {
   "cell_type": "code",
   "execution_count": 4,
   "id": "0b400914-3a06-4c0a-96e8-f7465b6c529c",
   "metadata": {
    "colab": {
     "base_uri": "https://localhost:8080/",
     "height": 300
    },
    "id": "0b400914-3a06-4c0a-96e8-f7465b6c529c",
    "outputId": "228bc09e-8e62-4abf-99b0-23e31aa66959"
   },
   "outputs": [
    {
     "data": {
      "text/html": [
       "<div>\n",
       "<style scoped>\n",
       "    .dataframe tbody tr th:only-of-type {\n",
       "        vertical-align: middle;\n",
       "    }\n",
       "\n",
       "    .dataframe tbody tr th {\n",
       "        vertical-align: top;\n",
       "    }\n",
       "\n",
       "    .dataframe thead th {\n",
       "        text-align: right;\n",
       "    }\n",
       "</style>\n",
       "<table border=\"1\" class=\"dataframe\">\n",
       "  <thead>\n",
       "    <tr style=\"text-align: right;\">\n",
       "      <th></th>\n",
       "      <th>Total.Serious.Injuries</th>\n",
       "      <th>Total.Minor.Injuries</th>\n",
       "      <th>Total.Uninjured</th>\n",
       "    </tr>\n",
       "  </thead>\n",
       "  <tbody>\n",
       "    <tr>\n",
       "      <th>count</th>\n",
       "      <td>76380.000000</td>\n",
       "      <td>76956.000000</td>\n",
       "      <td>82976.000000</td>\n",
       "    </tr>\n",
       "    <tr>\n",
       "      <th>mean</th>\n",
       "      <td>0.279864</td>\n",
       "      <td>0.357100</td>\n",
       "      <td>5.325444</td>\n",
       "    </tr>\n",
       "    <tr>\n",
       "      <th>std</th>\n",
       "      <td>1.544072</td>\n",
       "      <td>2.235634</td>\n",
       "      <td>27.913804</td>\n",
       "    </tr>\n",
       "    <tr>\n",
       "      <th>min</th>\n",
       "      <td>0.000000</td>\n",
       "      <td>0.000000</td>\n",
       "      <td>0.000000</td>\n",
       "    </tr>\n",
       "    <tr>\n",
       "      <th>25%</th>\n",
       "      <td>0.000000</td>\n",
       "      <td>0.000000</td>\n",
       "      <td>0.000000</td>\n",
       "    </tr>\n",
       "    <tr>\n",
       "      <th>50%</th>\n",
       "      <td>0.000000</td>\n",
       "      <td>0.000000</td>\n",
       "      <td>1.000000</td>\n",
       "    </tr>\n",
       "    <tr>\n",
       "      <th>75%</th>\n",
       "      <td>0.000000</td>\n",
       "      <td>0.000000</td>\n",
       "      <td>2.000000</td>\n",
       "    </tr>\n",
       "    <tr>\n",
       "      <th>max</th>\n",
       "      <td>161.000000</td>\n",
       "      <td>380.000000</td>\n",
       "      <td>699.000000</td>\n",
       "    </tr>\n",
       "  </tbody>\n",
       "</table>\n",
       "</div>"
      ],
      "text/plain": [
       "       Total.Serious.Injuries  Total.Minor.Injuries  Total.Uninjured\n",
       "count            76380.000000          76956.000000     82976.000000\n",
       "mean                 0.279864              0.357100         5.325444\n",
       "std                  1.544072              2.235634        27.913804\n",
       "min                  0.000000              0.000000         0.000000\n",
       "25%                  0.000000              0.000000         0.000000\n",
       "50%                  0.000000              0.000000         1.000000\n",
       "75%                  0.000000              0.000000         2.000000\n",
       "max                161.000000            380.000000       699.000000"
      ]
     },
     "execution_count": 4,
     "metadata": {},
     "output_type": "execute_result"
    }
   ],
   "source": [
    "df.describe()"
   ]
  },
  {
   "cell_type": "code",
   "execution_count": 5,
   "id": "36237588-4092-4009-aff7-8aba91b125df",
   "metadata": {
    "colab": {
     "base_uri": "https://localhost:8080/",
     "height": 1000
    },
    "id": "36237588-4092-4009-aff7-8aba91b125df",
    "outputId": "da69b697-22fc-4530-acee-71a035956394"
   },
   "outputs": [
    {
     "data": {
      "text/plain": [
       "Event.Id                      0\n",
       "Investigation.Type            0\n",
       "Accident.Number               0\n",
       "Event.Date                    0\n",
       "Location                     52\n",
       "Country                     226\n",
       "Latitude                  54507\n",
       "Longitude                 54516\n",
       "Airport.Code              38757\n",
       "Airport.Name              36186\n",
       "Injury.Severity            1000\n",
       "Aircraft.damage            3194\n",
       "Aircraft.Category         56600\n",
       "Registration.Number        1384\n",
       "Make                         63\n",
       "Model                        92\n",
       "Amateur.Built               102\n",
       "Number.of.Engines          6083\n",
       "Engine.Type                7097\n",
       "FAR.Description           56863\n",
       "Schedule                  76307\n",
       "Purpose.of.flight          6195\n",
       "Air.carrier               72238\n",
       "Total.Fatal.Injuries      11403\n",
       "Total.Serious.Injuries    12509\n",
       "Total.Minor.Injuries      11933\n",
       "Total.Uninjured            5913\n",
       "Weather.Condition          4492\n",
       "Broad.phase.of.flight     27163\n",
       "Report.Status              6387\n",
       "Publication.Date          13771\n",
       "Unnamed: 31               88863\n",
       "dtype: int64"
      ]
     },
     "execution_count": 5,
     "metadata": {},
     "output_type": "execute_result"
    }
   ],
   "source": [
    "df.isnull().sum()"
   ]
  },
  {
   "cell_type": "markdown",
   "id": "4sRT6kkgIPFS",
   "metadata": {
    "id": "4sRT6kkgIPFS"
   },
   "source": [
    "## Data Cleaning\n",
    "In this section i will perform the following to the dataframe:\n",
    "\n",
    "\n",
    "1.   Drop columns\n",
    "2.   Drop duplicates\n",
    "3.   Check unique values in columns\n",
    "4.   Drop rows with errors\n",
    "5.   Split some columns\n",
    "6.   Fill missing values in categorical data with a common key word.\n",
    "\n"
   ]
  },
  {
   "cell_type": "code",
   "execution_count": 6,
   "id": "8b0029a8-a80b-4939-b842-ab3f4902f6d6",
   "metadata": {
    "id": "8b0029a8-a80b-4939-b842-ab3f4902f6d6"
   },
   "outputs": [],
   "source": [
    "# dropping columns with more than 30,000 missing values which adds up to about 33% of the total\n",
    "#number of entries\n",
    "df.drop(['Latitude', 'Longitude', 'Airport.Code', 'Airport.Name', 'Aircraft.Category', 'FAR.Description', 'Schedule', 'Air.carrier', 'Broad.phase.of.flight', 'Unnamed: 31'], axis = 1, inplace = True)"
   ]
  },
  {
   "cell_type": "code",
   "execution_count": 7,
   "id": "b1486ba8-c45a-4ffb-bdb6-7b752f287ffc",
   "metadata": {
    "id": "b1486ba8-c45a-4ffb-bdb6-7b752f287ffc"
   },
   "outputs": [],
   "source": [
    "# Dropping columns that will not be necessary in my analysis.\n",
    "df.drop(['Accident.Number', 'Registration.Number', 'Report.Status', 'Publication.Date'], axis = 1, inplace = True)"
   ]
  },
  {
   "cell_type": "code",
   "execution_count": 8,
   "id": "02dabd3e-a697-4f32-ab18-2dcbf517ed04",
   "metadata": {
    "colab": {
     "base_uri": "https://localhost:8080/"
    },
    "id": "02dabd3e-a697-4f32-ab18-2dcbf517ed04",
    "outputId": "8eeb96ff-ebc9-4eb6-f1b8-37eef9fdbba2"
   },
   "outputs": [
    {
     "data": {
      "text/plain": [
       "Index(['Event.Id', 'Investigation.Type', 'Event.Date', 'Location', 'Country',\n",
       "       'Injury.Severity', 'Aircraft.damage', 'Make', 'Model', 'Amateur.Built',\n",
       "       'Number.of.Engines', 'Engine.Type', 'Purpose.of.flight',\n",
       "       'Total.Fatal.Injuries', 'Total.Serious.Injuries',\n",
       "       'Total.Minor.Injuries', 'Total.Uninjured', 'Weather.Condition'],\n",
       "      dtype='object')"
      ]
     },
     "execution_count": 8,
     "metadata": {},
     "output_type": "execute_result"
    }
   ],
   "source": [
    "df.columns"
   ]
  },
  {
   "cell_type": "markdown",
   "id": "pe80I1M2IC3X",
   "metadata": {
    "id": "pe80I1M2IC3X"
   },
   "source": [
    "Checking and dropping the duplicated values."
   ]
  },
  {
   "cell_type": "code",
   "execution_count": 9,
   "id": "d021e277-5687-4ab0-9bb4-a70cf5a7c42e",
   "metadata": {
    "colab": {
     "base_uri": "https://localhost:8080/",
     "height": 147
    },
    "id": "d021e277-5687-4ab0-9bb4-a70cf5a7c42e",
    "outputId": "88a667db-9679-4943-c788-0762f78a62c7"
   },
   "outputs": [
    {
     "data": {
      "text/plain": [
       "False    88851\n",
       "True        38\n",
       "Name: count, dtype: int64"
      ]
     },
     "execution_count": 9,
     "metadata": {},
     "output_type": "execute_result"
    }
   ],
   "source": [
    "df.duplicated().value_counts()"
   ]
  },
  {
   "cell_type": "code",
   "execution_count": 10,
   "id": "cf908f0f-24a6-4f35-8cba-962c6b1bfaca",
   "metadata": {
    "colab": {
     "base_uri": "https://localhost:8080/",
     "height": 583
    },
    "id": "cf908f0f-24a6-4f35-8cba-962c6b1bfaca",
    "outputId": "806d30df-09d3-4611-e1c1-29a6e05b6b89"
   },
   "outputs": [
    {
     "data": {
      "text/html": [
       "<div>\n",
       "<style scoped>\n",
       "    .dataframe tbody tr th:only-of-type {\n",
       "        vertical-align: middle;\n",
       "    }\n",
       "\n",
       "    .dataframe tbody tr th {\n",
       "        vertical-align: top;\n",
       "    }\n",
       "\n",
       "    .dataframe thead th {\n",
       "        text-align: right;\n",
       "    }\n",
       "</style>\n",
       "<table border=\"1\" class=\"dataframe\">\n",
       "  <thead>\n",
       "    <tr style=\"text-align: right;\">\n",
       "      <th></th>\n",
       "      <th>Event.Id</th>\n",
       "      <th>Investigation.Type</th>\n",
       "      <th>Event.Date</th>\n",
       "      <th>Location</th>\n",
       "      <th>Country</th>\n",
       "      <th>Injury.Severity</th>\n",
       "      <th>Aircraft.damage</th>\n",
       "      <th>Make</th>\n",
       "      <th>Model</th>\n",
       "      <th>Amateur.Built</th>\n",
       "      <th>Number.of.Engines</th>\n",
       "      <th>Engine.Type</th>\n",
       "      <th>Purpose.of.flight</th>\n",
       "      <th>Total.Fatal.Injuries</th>\n",
       "      <th>Total.Serious.Injuries</th>\n",
       "      <th>Total.Minor.Injuries</th>\n",
       "      <th>Total.Uninjured</th>\n",
       "      <th>Weather.Condition</th>\n",
       "    </tr>\n",
       "  </thead>\n",
       "  <tbody>\n",
       "    <tr>\n",
       "      <th>34512</th>\n",
       "      <td>20001206X00768</td>\n",
       "      <td>Accident</td>\n",
       "      <td>1994-02-12</td>\n",
       "      <td>GRAND CANYON, AZ</td>\n",
       "      <td>United States</td>\n",
       "      <td>Non-Fatal</td>\n",
       "      <td>Substantial</td>\n",
       "      <td>Cessna</td>\n",
       "      <td>402C</td>\n",
       "      <td>No</td>\n",
       "      <td>2</td>\n",
       "      <td>Reciprocating</td>\n",
       "      <td>Positioning</td>\n",
       "      <td>0.0</td>\n",
       "      <td>0.0</td>\n",
       "      <td>0.0</td>\n",
       "      <td>3.0</td>\n",
       "      <td>VMC</td>\n",
       "    </tr>\n",
       "    <tr>\n",
       "      <th>34513</th>\n",
       "      <td>20001206X00768</td>\n",
       "      <td>Accident</td>\n",
       "      <td>1994-02-12</td>\n",
       "      <td>GRAND CANYON, AZ</td>\n",
       "      <td>United States</td>\n",
       "      <td>Non-Fatal</td>\n",
       "      <td>Substantial</td>\n",
       "      <td>Cessna</td>\n",
       "      <td>402C</td>\n",
       "      <td>No</td>\n",
       "      <td>2</td>\n",
       "      <td>Reciprocating</td>\n",
       "      <td>Positioning</td>\n",
       "      <td>0.0</td>\n",
       "      <td>0.0</td>\n",
       "      <td>0.0</td>\n",
       "      <td>3.0</td>\n",
       "      <td>VMC</td>\n",
       "    </tr>\n",
       "    <tr>\n",
       "      <th>34847</th>\n",
       "      <td>20001206X01157</td>\n",
       "      <td>Accident</td>\n",
       "      <td>1994-04-10</td>\n",
       "      <td>OKEECHOBEE, FL</td>\n",
       "      <td>United States</td>\n",
       "      <td>Non-Fatal</td>\n",
       "      <td>Substantial</td>\n",
       "      <td>Globe</td>\n",
       "      <td>9C-1B</td>\n",
       "      <td>No</td>\n",
       "      <td>1</td>\n",
       "      <td>Reciprocating</td>\n",
       "      <td>Unknown</td>\n",
       "      <td>0.0</td>\n",
       "      <td>0.0</td>\n",
       "      <td>0.0</td>\n",
       "      <td>2.0</td>\n",
       "      <td>VMC</td>\n",
       "    </tr>\n",
       "    <tr>\n",
       "      <th>34846</th>\n",
       "      <td>20001206X01157</td>\n",
       "      <td>Accident</td>\n",
       "      <td>1994-04-10</td>\n",
       "      <td>OKEECHOBEE, FL</td>\n",
       "      <td>United States</td>\n",
       "      <td>Non-Fatal</td>\n",
       "      <td>Substantial</td>\n",
       "      <td>Globe</td>\n",
       "      <td>9C-1B</td>\n",
       "      <td>No</td>\n",
       "      <td>1</td>\n",
       "      <td>Reciprocating</td>\n",
       "      <td>Unknown</td>\n",
       "      <td>0.0</td>\n",
       "      <td>0.0</td>\n",
       "      <td>0.0</td>\n",
       "      <td>2.0</td>\n",
       "      <td>VMC</td>\n",
       "    </tr>\n",
       "    <tr>\n",
       "      <th>35076</th>\n",
       "      <td>20001206X01324</td>\n",
       "      <td>Accident</td>\n",
       "      <td>1994-05-19</td>\n",
       "      <td>STOCKTON, CA</td>\n",
       "      <td>United States</td>\n",
       "      <td>Non-Fatal</td>\n",
       "      <td>Substantial</td>\n",
       "      <td>Robinson</td>\n",
       "      <td>R22-B</td>\n",
       "      <td>No</td>\n",
       "      <td>1</td>\n",
       "      <td>Reciprocating</td>\n",
       "      <td>Other Work Use</td>\n",
       "      <td>0.0</td>\n",
       "      <td>0.0</td>\n",
       "      <td>1.0</td>\n",
       "      <td>1.0</td>\n",
       "      <td>VMC</td>\n",
       "    </tr>\n",
       "    <tr>\n",
       "      <th>...</th>\n",
       "      <td>...</td>\n",
       "      <td>...</td>\n",
       "      <td>...</td>\n",
       "      <td>...</td>\n",
       "      <td>...</td>\n",
       "      <td>...</td>\n",
       "      <td>...</td>\n",
       "      <td>...</td>\n",
       "      <td>...</td>\n",
       "      <td>...</td>\n",
       "      <td>...</td>\n",
       "      <td>...</td>\n",
       "      <td>...</td>\n",
       "      <td>...</td>\n",
       "      <td>...</td>\n",
       "      <td>...</td>\n",
       "      <td>...</td>\n",
       "      <td>...</td>\n",
       "    </tr>\n",
       "    <tr>\n",
       "      <th>63296</th>\n",
       "      <td>20070917X01400</td>\n",
       "      <td>Accident</td>\n",
       "      <td>2007-09-02</td>\n",
       "      <td>FARMINGDALE, NY</td>\n",
       "      <td>United States</td>\n",
       "      <td>Non-Fatal</td>\n",
       "      <td>Substantial</td>\n",
       "      <td>North American</td>\n",
       "      <td>SNJ-2</td>\n",
       "      <td>No</td>\n",
       "      <td>1</td>\n",
       "      <td>Reciprocating</td>\n",
       "      <td>Other Work Use</td>\n",
       "      <td>NaN</td>\n",
       "      <td>NaN</td>\n",
       "      <td>NaN</td>\n",
       "      <td>2.0</td>\n",
       "      <td>VMC</td>\n",
       "    </tr>\n",
       "    <tr>\n",
       "      <th>88386</th>\n",
       "      <td>20220822105776</td>\n",
       "      <td>Accident</td>\n",
       "      <td>2022-08-20</td>\n",
       "      <td>Bealeton, VA</td>\n",
       "      <td>United States</td>\n",
       "      <td>Minor</td>\n",
       "      <td>Substantial</td>\n",
       "      <td>BOEING</td>\n",
       "      <td>A75N1</td>\n",
       "      <td>No</td>\n",
       "      <td>1.0</td>\n",
       "      <td>NaN</td>\n",
       "      <td>Business</td>\n",
       "      <td>0</td>\n",
       "      <td>2.0</td>\n",
       "      <td>0.0</td>\n",
       "      <td>2.0</td>\n",
       "      <td>VMC</td>\n",
       "    </tr>\n",
       "    <tr>\n",
       "      <th>88387</th>\n",
       "      <td>20220822105776</td>\n",
       "      <td>Accident</td>\n",
       "      <td>2022-08-20</td>\n",
       "      <td>Bealeton, VA</td>\n",
       "      <td>United States</td>\n",
       "      <td>Minor</td>\n",
       "      <td>Substantial</td>\n",
       "      <td>BOEING</td>\n",
       "      <td>A75N1</td>\n",
       "      <td>No</td>\n",
       "      <td>1.0</td>\n",
       "      <td>NaN</td>\n",
       "      <td>Business</td>\n",
       "      <td>0</td>\n",
       "      <td>2.0</td>\n",
       "      <td>0.0</td>\n",
       "      <td>2.0</td>\n",
       "      <td>VMC</td>\n",
       "    </tr>\n",
       "    <tr>\n",
       "      <th>88527</th>\n",
       "      <td>20220921105978</td>\n",
       "      <td>Incident</td>\n",
       "      <td>2022-09-14</td>\n",
       "      <td>Mumbai,</td>\n",
       "      <td>India</td>\n",
       "      <td>NaN</td>\n",
       "      <td>NaN</td>\n",
       "      <td>BOEING</td>\n",
       "      <td>787</td>\n",
       "      <td>No</td>\n",
       "      <td>NaN</td>\n",
       "      <td>NaN</td>\n",
       "      <td>NaN</td>\n",
       "      <td>0</td>\n",
       "      <td>0.0</td>\n",
       "      <td>0.0</td>\n",
       "      <td>0.0</td>\n",
       "      <td>NaN</td>\n",
       "    </tr>\n",
       "    <tr>\n",
       "      <th>88528</th>\n",
       "      <td>20220921105978</td>\n",
       "      <td>Incident</td>\n",
       "      <td>2022-09-14</td>\n",
       "      <td>Mumbai,</td>\n",
       "      <td>India</td>\n",
       "      <td>NaN</td>\n",
       "      <td>NaN</td>\n",
       "      <td>BOEING</td>\n",
       "      <td>787</td>\n",
       "      <td>No</td>\n",
       "      <td>NaN</td>\n",
       "      <td>NaN</td>\n",
       "      <td>NaN</td>\n",
       "      <td>0</td>\n",
       "      <td>0.0</td>\n",
       "      <td>0.0</td>\n",
       "      <td>0.0</td>\n",
       "      <td>NaN</td>\n",
       "    </tr>\n",
       "  </tbody>\n",
       "</table>\n",
       "<p>76 rows × 18 columns</p>\n",
       "</div>"
      ],
      "text/plain": [
       "             Event.Id Investigation.Type  Event.Date          Location  \\\n",
       "34512  20001206X00768           Accident  1994-02-12  GRAND CANYON, AZ   \n",
       "34513  20001206X00768           Accident  1994-02-12  GRAND CANYON, AZ   \n",
       "34847  20001206X01157           Accident  1994-04-10    OKEECHOBEE, FL   \n",
       "34846  20001206X01157           Accident  1994-04-10    OKEECHOBEE, FL   \n",
       "35076  20001206X01324           Accident  1994-05-19      STOCKTON, CA   \n",
       "...               ...                ...         ...               ...   \n",
       "63296  20070917X01400           Accident  2007-09-02   FARMINGDALE, NY   \n",
       "88386  20220822105776           Accident  2022-08-20      Bealeton, VA   \n",
       "88387  20220822105776           Accident  2022-08-20      Bealeton, VA   \n",
       "88527  20220921105978           Incident  2022-09-14          Mumbai,    \n",
       "88528  20220921105978           Incident  2022-09-14          Mumbai,    \n",
       "\n",
       "             Country Injury.Severity Aircraft.damage            Make  Model  \\\n",
       "34512  United States       Non-Fatal     Substantial          Cessna   402C   \n",
       "34513  United States       Non-Fatal     Substantial          Cessna   402C   \n",
       "34847  United States       Non-Fatal     Substantial           Globe  9C-1B   \n",
       "34846  United States       Non-Fatal     Substantial           Globe  9C-1B   \n",
       "35076  United States       Non-Fatal     Substantial        Robinson  R22-B   \n",
       "...              ...             ...             ...             ...    ...   \n",
       "63296  United States       Non-Fatal     Substantial  North American  SNJ-2   \n",
       "88386  United States           Minor     Substantial          BOEING  A75N1   \n",
       "88387  United States           Minor     Substantial          BOEING  A75N1   \n",
       "88527          India             NaN             NaN          BOEING    787   \n",
       "88528          India             NaN             NaN          BOEING    787   \n",
       "\n",
       "      Amateur.Built Number.of.Engines    Engine.Type Purpose.of.flight  \\\n",
       "34512            No                 2  Reciprocating       Positioning   \n",
       "34513            No                 2  Reciprocating       Positioning   \n",
       "34847            No                 1  Reciprocating           Unknown   \n",
       "34846            No                 1  Reciprocating           Unknown   \n",
       "35076            No                 1  Reciprocating    Other Work Use   \n",
       "...             ...               ...            ...               ...   \n",
       "63296            No                 1  Reciprocating    Other Work Use   \n",
       "88386            No               1.0            NaN          Business   \n",
       "88387            No               1.0            NaN          Business   \n",
       "88527            No               NaN            NaN               NaN   \n",
       "88528            No               NaN            NaN               NaN   \n",
       "\n",
       "      Total.Fatal.Injuries  Total.Serious.Injuries  Total.Minor.Injuries  \\\n",
       "34512                  0.0                     0.0                   0.0   \n",
       "34513                  0.0                     0.0                   0.0   \n",
       "34847                  0.0                     0.0                   0.0   \n",
       "34846                  0.0                     0.0                   0.0   \n",
       "35076                  0.0                     0.0                   1.0   \n",
       "...                    ...                     ...                   ...   \n",
       "63296                  NaN                     NaN                   NaN   \n",
       "88386                    0                     2.0                   0.0   \n",
       "88387                    0                     2.0                   0.0   \n",
       "88527                    0                     0.0                   0.0   \n",
       "88528                    0                     0.0                   0.0   \n",
       "\n",
       "       Total.Uninjured Weather.Condition  \n",
       "34512              3.0               VMC  \n",
       "34513              3.0               VMC  \n",
       "34847              2.0               VMC  \n",
       "34846              2.0               VMC  \n",
       "35076              1.0               VMC  \n",
       "...                ...               ...  \n",
       "63296              2.0               VMC  \n",
       "88386              2.0               VMC  \n",
       "88387              2.0               VMC  \n",
       "88527              0.0               NaN  \n",
       "88528              0.0               NaN  \n",
       "\n",
       "[76 rows x 18 columns]"
      ]
     },
     "execution_count": 10,
     "metadata": {},
     "output_type": "execute_result"
    }
   ],
   "source": [
    "df[df.duplicated(keep=False)].sort_values(by='Event.Id')"
   ]
  },
  {
   "cell_type": "code",
   "execution_count": 11,
   "id": "7721fcf9-f65a-4d02-ba0c-c9734dfad8a7",
   "metadata": {
    "colab": {
     "base_uri": "https://localhost:8080/"
    },
    "id": "7721fcf9-f65a-4d02-ba0c-c9734dfad8a7",
    "outputId": "6d1c73e2-ea44-4f8f-82cb-1d025829e92c"
   },
   "outputs": [
    {
     "data": {
      "text/plain": [
       "(88851, 18)"
      ]
     },
     "execution_count": 11,
     "metadata": {},
     "output_type": "execute_result"
    }
   ],
   "source": [
    "df = df.drop_duplicates()\n",
    "df.shape"
   ]
  },
  {
   "cell_type": "code",
   "execution_count": 12,
   "id": "98287032-a6a2-4c8f-a1ae-1cdd7d8c909a",
   "metadata": {
    "colab": {
     "base_uri": "https://localhost:8080/"
    },
    "id": "98287032-a6a2-4c8f-a1ae-1cdd7d8c909a",
    "outputId": "fb018f55-3072-423c-9b1c-013d15205d4b"
   },
   "outputs": [
    {
     "data": {
      "text/plain": [
       "{'Non-Fatal': 67337,\n",
       " 'Fatal(1)': 6165,\n",
       " 'Fatal': 5262,\n",
       " 'Fatal(2)': 3704,\n",
       " 'Incident': 2213,\n",
       " 'Fatal(3)': 1146,\n",
       " 'Fatal(4)': 809,\n",
       " 'Fatal(5)': 235,\n",
       " 'Minor': 217,\n",
       " 'Serious': 173,\n",
       " 'Fatal(6)': 161,\n",
       " 'Unavailable': 96,\n",
       " 'Fatal(7)': 56,\n",
       " 'Fatal(8)': 51,\n",
       " 'Fatal(10)': 32,\n",
       " 'Fatal(9)': 18,\n",
       " 'Fatal(14)': 11,\n",
       " 'Fatal(11)': 10,\n",
       " 'Fatal(13)': 9,\n",
       " 'Fatal(12)': 8,\n",
       " 'Fatal(20)': 5,\n",
       " 'Fatal(15)': 5,\n",
       " 'Fatal(18)': 5,\n",
       " 'Fatal(25)': 4,\n",
       " 'Fatal(23)': 4,\n",
       " 'Fatal(19)': 3,\n",
       " 'Fatal(34)': 3,\n",
       " 'Fatal(16)': 3,\n",
       " 'Fatal(17)': 3,\n",
       " 'Fatal(92)': 2,\n",
       " 'Fatal(24)': 2,\n",
       " 'Fatal(113)': 2,\n",
       " 'Fatal(71)': 2,\n",
       " 'Fatal(46)': 2,\n",
       " 'Fatal(102)': 2,\n",
       " 'Fatal(104)': 2,\n",
       " 'Fatal(75)': 2,\n",
       " 'Fatal(349)': 2,\n",
       " 'Fatal(154)': 2,\n",
       " 'Fatal(160)': 2,\n",
       " 'Fatal(65)': 2,\n",
       " 'Fatal(52)': 2,\n",
       " 'Fatal(118)': 2,\n",
       " 'Fatal(97)': 2,\n",
       " 'Fatal(87)': 2,\n",
       " 'Fatal(29)': 2,\n",
       " 'Fatal(82)': 2,\n",
       " 'Fatal(27)': 2,\n",
       " 'Fatal(70)': 2,\n",
       " 'Fatal(131)': 2,\n",
       " 'Fatal(31)': 1,\n",
       " 'BURKE LAKEFRONT': 1,\n",
       " 'Fatal(115)': 1,\n",
       " 'O': 1,\n",
       " 'Fatal(135)': 1,\n",
       " 'Fatal(21)': 1,\n",
       " 'Fatal(206)': 1,\n",
       " 'Fatal(141)': 1,\n",
       " 'Fatal(138)': 1,\n",
       " 'Fatal(26)': 1,\n",
       " 'Fatal(265)': 1,\n",
       " 'Fatal(256)': 1,\n",
       " ' Coweta Co': 1,\n",
       " 'Fatal(30)': 1,\n",
       " 'Fatal(55)': 1,\n",
       " 'Fatal(121)': 1,\n",
       " 'Fatal(64)': 1,\n",
       " 'Fatal(145)': 1,\n",
       " 'Fatal(117)': 1,\n",
       " 'Fatal(107)': 1,\n",
       " 'Fatal(124)': 1,\n",
       " 'Fatal(49)': 1,\n",
       " 'Fatal(96)': 1,\n",
       " 'Fatal(114)': 1,\n",
       " 'Fatal(199)': 1,\n",
       " 'Fatal(89)': 1,\n",
       " 'Fatal(57)': 1,\n",
       " 'Fatal(78)': 1,\n",
       " 'Fatal(45)': 1,\n",
       " 'Fatal(156)': 1,\n",
       " 'Fatal(44)': 1,\n",
       " 'Fatal(83)': 1,\n",
       " 'Fatal(47)': 1,\n",
       " 'Fatal(56)': 1,\n",
       " 'Fatal(37)': 1,\n",
       " 'Fatal(132)': 1,\n",
       " 'Fatal(68)': 1,\n",
       " 'Fatal(54)': 1,\n",
       " 'Fatal(73)': 1,\n",
       " 'Fatal(72)': 1,\n",
       " 'Fatal(111)': 1,\n",
       " 'Fatal(123)': 1,\n",
       " 'Fatal(33)': 1,\n",
       " 'Fatal(110)': 1,\n",
       " 'Fatal(230)': 1,\n",
       " 'Fatal(153)': 1,\n",
       " 'Fatal(174)': 1,\n",
       " 'Fatal(125)': 1,\n",
       " 'Fatal(35)': 1,\n",
       " 'Fatal(228)': 1,\n",
       " 'Fatal(144)': 1,\n",
       " 'Fatal(270)': 1,\n",
       " 'Fatal(229)': 1,\n",
       " 'Fatal(80)': 1,\n",
       " 'Fatal(217)': 1,\n",
       " 'Fatal(169)': 1,\n",
       " 'Fatal(88)': 1,\n",
       " 'Fatal(43)': 1,\n",
       " 'Fatal(60)': 1,\n",
       " 'Fatal(28)': 1,\n",
       " 'Fatal(143)': 1,\n",
       " 'Fatal(189)': 1}"
      ]
     },
     "execution_count": 12,
     "metadata": {},
     "output_type": "execute_result"
    }
   ],
   "source": [
    "# Checking the unique values in Injury.Severity.\n",
    "df['Injury.Severity'].value_counts().to_dict()"
   ]
  },
  {
   "cell_type": "markdown",
   "id": "adw-WTioJ4ex",
   "metadata": {
    "id": "adw-WTioJ4ex"
   },
   "source": [
    "Changing Non-fatal and 0 to Fatal(0)\n",
    "Removing coweta co, unaivalable, serious, minor, incident, fatal\n",
    "I'm going to split injury.severity to only remain with the values and create a new column: Fatality to hold the values."
   ]
  },
  {
   "cell_type": "code",
   "execution_count": 13,
   "id": "96bfc6a0-ca31-4912-b4a6-983b31009165",
   "metadata": {
    "colab": {
     "base_uri": "https://localhost:8080/"
    },
    "id": "96bfc6a0-ca31-4912-b4a6-983b31009165",
    "outputId": "26e47a8f-e2ae-4a55-c956-be72490cfce8"
   },
   "outputs": [],
   "source": [
    "df['Injury.Severity'] = df['Injury.Severity'].replace('Non-Fatal','Fatal(0)')\n",
    "df['Injury.Severity'] = df['Injury.Severity'].replace('0','Fatal(0)')\n",
    "\n",
    "df = df[df['Injury.Severity'] != 'Incident']\n",
    "df = df[df['Injury.Severity'] != 'Minor']\n",
    "df = df[df['Injury.Severity'] != 'Serious']\n",
    "df = df[df['Injury.Severity'] != 'Unaivalable']\n",
    "df = df[df['Injury.Severity'] != 'BURKE LAKEFRONT']\n",
    "df = df[df['Injury.Severity'] != ' Coweta Co']\n",
    "df = df[df['Injury.Severity'] != 'Fatal']"
   ]
  },
  {
   "cell_type": "code",
   "execution_count": 14,
   "id": "f34725fe-036b-4afe-9a5e-8a11b3b603fa",
   "metadata": {
    "id": "f34725fe-036b-4afe-9a5e-8a11b3b603fa"
   },
   "outputs": [],
   "source": [
    "#splitting injury.severity to remain with the values and assigning it to a new column 'Fatality'\n",
    "#dropping injury.severity\n",
    "df['Fatality'] = df['Injury.Severity'].str.split('(').str[1].str.replace(')', '')\n",
    "df.drop('Injury.Severity', axis = 1, inplace = True)"
   ]
  },
  {
   "cell_type": "code",
   "execution_count": 15,
   "id": "e535c995-3b93-44d5-865a-a2cbfbdeff0e",
   "metadata": {
    "colab": {
     "base_uri": "https://localhost:8080/"
    },
    "id": "e535c995-3b93-44d5-865a-a2cbfbdeff0e",
    "outputId": "0565a979-f664-457d-e3ea-967cbbecf520"
   },
   "outputs": [
    {
     "data": {
      "text/plain": [
       "1096"
      ]
     },
     "execution_count": 15,
     "metadata": {},
     "output_type": "execute_result"
    }
   ],
   "source": [
    "df['Fatality'].isnull().sum()"
   ]
  },
  {
   "cell_type": "code",
   "execution_count": 16,
   "id": "bb3a064a-10fa-419b-8665-e4f8d05e8aae",
   "metadata": {
    "id": "bb3a064a-10fa-419b-8665-e4f8d05e8aae"
   },
   "outputs": [],
   "source": [
    "# changing the column to type:int\n",
    "df['Fatality'] = pd.to_numeric(df['Fatality'], errors='coerce').astype('Int64')"
   ]
  },
  {
   "cell_type": "code",
   "execution_count": 17,
   "id": "64ff1b4c-4cdc-4c59-b185-e818721a84de",
   "metadata": {
    "colab": {
     "base_uri": "https://localhost:8080/",
     "height": 118
    },
    "id": "64ff1b4c-4cdc-4c59-b185-e818721a84de",
    "outputId": "c4fc72e6-c258-4de9-95d6-51e5c5503b47"
   },
   "outputs": [
    {
     "data": {
      "text/html": [
       "<div>\n",
       "<style scoped>\n",
       "    .dataframe tbody tr th:only-of-type {\n",
       "        vertical-align: middle;\n",
       "    }\n",
       "\n",
       "    .dataframe tbody tr th {\n",
       "        vertical-align: top;\n",
       "    }\n",
       "\n",
       "    .dataframe thead th {\n",
       "        text-align: right;\n",
       "    }\n",
       "</style>\n",
       "<table border=\"1\" class=\"dataframe\">\n",
       "  <thead>\n",
       "    <tr style=\"text-align: right;\">\n",
       "      <th></th>\n",
       "      <th>Event.Id</th>\n",
       "      <th>Investigation.Type</th>\n",
       "      <th>Event.Date</th>\n",
       "      <th>Location</th>\n",
       "      <th>Country</th>\n",
       "      <th>Aircraft.damage</th>\n",
       "      <th>Make</th>\n",
       "      <th>Model</th>\n",
       "      <th>Amateur.Built</th>\n",
       "      <th>Number.of.Engines</th>\n",
       "      <th>Engine.Type</th>\n",
       "      <th>Purpose.of.flight</th>\n",
       "      <th>Total.Fatal.Injuries</th>\n",
       "      <th>Total.Serious.Injuries</th>\n",
       "      <th>Total.Minor.Injuries</th>\n",
       "      <th>Total.Uninjured</th>\n",
       "      <th>Weather.Condition</th>\n",
       "      <th>Fatality</th>\n",
       "    </tr>\n",
       "  </thead>\n",
       "  <tbody>\n",
       "    <tr>\n",
       "      <th>39895</th>\n",
       "      <td>20001208X06042</td>\n",
       "      <td>Accident</td>\n",
       "      <td>1996-06-23</td>\n",
       "      <td>AVALON, CA</td>\n",
       "      <td>United States</td>\n",
       "      <td>Substantial</td>\n",
       "      <td>Piper</td>\n",
       "      <td>PA-34-200</td>\n",
       "      <td>No</td>\n",
       "      <td>2</td>\n",
       "      <td>Reciprocating</td>\n",
       "      <td>Personal</td>\n",
       "      <td>0.0</td>\n",
       "      <td>0.0</td>\n",
       "      <td>0.0</td>\n",
       "      <td>3.0</td>\n",
       "      <td>VMC</td>\n",
       "      <td>0</td>\n",
       "    </tr>\n",
       "  </tbody>\n",
       "</table>\n",
       "</div>"
      ],
      "text/plain": [
       "             Event.Id Investigation.Type  Event.Date    Location  \\\n",
       "39895  20001208X06042           Accident  1996-06-23  AVALON, CA   \n",
       "\n",
       "             Country Aircraft.damage   Make      Model Amateur.Built  \\\n",
       "39895  United States     Substantial  Piper  PA-34-200            No   \n",
       "\n",
       "      Number.of.Engines    Engine.Type Purpose.of.flight Total.Fatal.Injuries  \\\n",
       "39895                 2  Reciprocating          Personal                  0.0   \n",
       "\n",
       "       Total.Serious.Injuries  Total.Minor.Injuries  Total.Uninjured  \\\n",
       "39895                     0.0                   0.0              3.0   \n",
       "\n",
       "      Weather.Condition  Fatality  \n",
       "39895               VMC         0  "
      ]
     },
     "execution_count": 17,
     "metadata": {},
     "output_type": "execute_result"
    }
   ],
   "source": [
    "# Checking to see the new changes.\n",
    "df.sample()"
   ]
  },
  {
   "cell_type": "code",
   "execution_count": 18,
   "id": "d9955a48-6c13-45e4-b916-56a271348e28",
   "metadata": {
    "id": "d9955a48-6c13-45e4-b916-56a271348e28"
   },
   "outputs": [],
   "source": [
    "# the event.date column is in the format yyyy-mm-dd.\n",
    "# i am going to split it into two columns: Year and Month and drop column event.date\n",
    "\n",
    "df['Event.Date'] = pd.to_datetime(df['Event.Date'])\n",
    "df['Month'] = df['Event.Date'].dt.month\n",
    "df['Year'] = df['Event.Date'].dt.year\n",
    "df.drop('Event.Date', axis=1, inplace = True)"
   ]
  },
  {
   "cell_type": "code",
   "execution_count": 19,
   "id": "25e9b07f-6adc-4bdc-a3f8-c3844f7ecb1c",
   "metadata": {
    "colab": {
     "base_uri": "https://localhost:8080/",
     "height": 135
    },
    "id": "25e9b07f-6adc-4bdc-a3f8-c3844f7ecb1c",
    "outputId": "ddba1069-c857-4bda-8d6e-f490d1c10824"
   },
   "outputs": [
    {
     "data": {
      "text/html": [
       "<div>\n",
       "<style scoped>\n",
       "    .dataframe tbody tr th:only-of-type {\n",
       "        vertical-align: middle;\n",
       "    }\n",
       "\n",
       "    .dataframe tbody tr th {\n",
       "        vertical-align: top;\n",
       "    }\n",
       "\n",
       "    .dataframe thead th {\n",
       "        text-align: right;\n",
       "    }\n",
       "</style>\n",
       "<table border=\"1\" class=\"dataframe\">\n",
       "  <thead>\n",
       "    <tr style=\"text-align: right;\">\n",
       "      <th></th>\n",
       "      <th>Event.Id</th>\n",
       "      <th>Investigation.Type</th>\n",
       "      <th>Location</th>\n",
       "      <th>Country</th>\n",
       "      <th>Aircraft.damage</th>\n",
       "      <th>Make</th>\n",
       "      <th>Model</th>\n",
       "      <th>Amateur.Built</th>\n",
       "      <th>Number.of.Engines</th>\n",
       "      <th>Engine.Type</th>\n",
       "      <th>Purpose.of.flight</th>\n",
       "      <th>Total.Fatal.Injuries</th>\n",
       "      <th>Total.Serious.Injuries</th>\n",
       "      <th>Total.Minor.Injuries</th>\n",
       "      <th>Total.Uninjured</th>\n",
       "      <th>Weather.Condition</th>\n",
       "      <th>Fatality</th>\n",
       "      <th>Month</th>\n",
       "      <th>Year</th>\n",
       "    </tr>\n",
       "  </thead>\n",
       "  <tbody>\n",
       "    <tr>\n",
       "      <th>14047</th>\n",
       "      <td>20001213X32803</td>\n",
       "      <td>Accident</td>\n",
       "      <td>RUSSELLVILLE, AL</td>\n",
       "      <td>United States</td>\n",
       "      <td>Substantial</td>\n",
       "      <td>Beech</td>\n",
       "      <td>A23</td>\n",
       "      <td>No</td>\n",
       "      <td>1</td>\n",
       "      <td>Reciprocating</td>\n",
       "      <td>Personal</td>\n",
       "      <td>2</td>\n",
       "      <td>1.0</td>\n",
       "      <td>0.0</td>\n",
       "      <td>0.0</td>\n",
       "      <td>VMC</td>\n",
       "      <td>2</td>\n",
       "      <td>2</td>\n",
       "      <td>1986</td>\n",
       "    </tr>\n",
       "  </tbody>\n",
       "</table>\n",
       "</div>"
      ],
      "text/plain": [
       "             Event.Id Investigation.Type          Location        Country  \\\n",
       "14047  20001213X32803           Accident  RUSSELLVILLE, AL  United States   \n",
       "\n",
       "      Aircraft.damage   Make Model Amateur.Built Number.of.Engines  \\\n",
       "14047     Substantial  Beech   A23            No                 1   \n",
       "\n",
       "         Engine.Type Purpose.of.flight Total.Fatal.Injuries  \\\n",
       "14047  Reciprocating          Personal                    2   \n",
       "\n",
       "       Total.Serious.Injuries  Total.Minor.Injuries  Total.Uninjured  \\\n",
       "14047                     1.0                   0.0              0.0   \n",
       "\n",
       "      Weather.Condition  Fatality  Month  Year  \n",
       "14047               VMC         2      2  1986  "
      ]
     },
     "execution_count": 19,
     "metadata": {},
     "output_type": "execute_result"
    }
   ],
   "source": [
    "df.sample()"
   ]
  },
  {
   "cell_type": "code",
   "execution_count": 20,
   "id": "e103e36d-a300-457a-b207-046ee2c24035",
   "metadata": {
    "colab": {
     "base_uri": "https://localhost:8080/"
    },
    "id": "e103e36d-a300-457a-b207-046ee2c24035",
    "outputId": "e861a94c-961c-446f-f24e-e13482ae5951"
   },
   "outputs": [
    {
     "name": "stdout",
     "output_type": "stream",
     "text": [
      "<class 'pandas.core.frame.DataFrame'>\n",
      "Index: 80984 entries, 0 to 88887\n",
      "Data columns (total 19 columns):\n",
      " #   Column                  Non-Null Count  Dtype  \n",
      "---  ------                  --------------  -----  \n",
      " 0   Event.Id                80984 non-null  object \n",
      " 1   Investigation.Type      80984 non-null  object \n",
      " 2   Location                80944 non-null  object \n",
      " 3   Country                 80778 non-null  object \n",
      " 4   Aircraft.damage         78770 non-null  object \n",
      " 5   Make                    80933 non-null  object \n",
      " 6   Model                   80908 non-null  object \n",
      " 7   Amateur.Built           80926 non-null  object \n",
      " 8   Number.of.Engines       76452 non-null  object \n",
      " 9   Engine.Type             76108 non-null  object \n",
      " 10  Purpose.of.flight       76455 non-null  object \n",
      " 11  Total.Fatal.Injuries    70231 non-null  object \n",
      " 12  Total.Serious.Injuries  69131 non-null  float64\n",
      " 13  Total.Minor.Injuries    69685 non-null  float64\n",
      " 14  Total.Uninjured         75222 non-null  float64\n",
      " 15  Weather.Condition       78079 non-null  object \n",
      " 16  Fatality                79888 non-null  Int64  \n",
      " 17  Month                   80984 non-null  int32  \n",
      " 18  Year                    80984 non-null  int32  \n",
      "dtypes: Int64(1), float64(3), int32(2), object(13)\n",
      "memory usage: 11.8+ MB\n"
     ]
    }
   ],
   "source": [
    "df.info()"
   ]
  },
  {
   "cell_type": "code",
   "execution_count": 21,
   "id": "f0eb66c2-a844-4701-acb5-6397b23b9ea4",
   "metadata": {
    "colab": {
     "base_uri": "https://localhost:8080/"
    },
    "id": "f0eb66c2-a844-4701-acb5-6397b23b9ea4",
    "outputId": "5adf504e-ea8d-4af8-d8c5-123e43e75482"
   },
   "outputs": [
    {
     "name": "stdout",
     "output_type": "stream",
     "text": [
      "{'Substantial': 60959, 'Destroyed': 16310, 'Minor': 1413, 'Unknown': 87, 'Non-Fatal': 1}\n",
      "2214\n"
     ]
    }
   ],
   "source": [
    "# Checking to see the unique values in the column Aircraft.damage\n",
    "# and the null values.\n",
    "print(df['Aircraft.damage'].value_counts().to_dict())\n",
    "print(df['Aircraft.damage'].isnull().sum())"
   ]
  },
  {
   "cell_type": "code",
   "execution_count": 22,
   "id": "da79eda9-1743-4848-b5ef-38754354d9d4",
   "metadata": {
    "colab": {
     "base_uri": "https://localhost:8080/"
    },
    "id": "da79eda9-1743-4848-b5ef-38754354d9d4",
    "outputId": "34e6af4c-bef9-4814-dbe9-33c41d485ac5"
   },
   "outputs": [],
   "source": [
    "# I decided to drop the row with non-fatal because it is only one.\n",
    "df = df[df['Aircraft.damage']!= 'Non-Fatal']\n",
    "\n",
    "# Dropping null values because this column is important in my analysis and\n",
    "# the null values would affect my analysis\n",
    "df.dropna(subset=['Aircraft.damage'], inplace=True)"
   ]
  },
  {
   "cell_type": "code",
   "execution_count": 23,
   "id": "2Ym1fcMTLm2D",
   "metadata": {
    "colab": {
     "base_uri": "https://localhost:8080/",
     "height": 490
    },
    "id": "2Ym1fcMTLm2D",
    "outputId": "f2cf1752-8f8d-41a4-d3d9-bf71ebfe9262"
   },
   "outputs": [
    {
     "data": {
      "text/plain": [
       "Make\n",
       "Cessna                 21744\n",
       "Piper                  11732\n",
       "Beech                   4104\n",
       "CESSNA                  3791\n",
       "PIPER                   2125\n",
       "                       ...  \n",
       "Richard S. Anderson        1\n",
       "Cameron Balloons Us        1\n",
       "Quitzau, Carl              1\n",
       "Stiles                     1\n",
       "JAMES R DERNOVSEK          1\n",
       "Name: count, Length: 7336, dtype: int64"
      ]
     },
     "execution_count": 23,
     "metadata": {},
     "output_type": "execute_result"
    }
   ],
   "source": [
    "# Checking the unique values and their counts in Make\n",
    "df['Make'].value_counts()"
   ]
  },
  {
   "cell_type": "markdown",
   "id": "oMsURZQoL6KK",
   "metadata": {
    "id": "oMsURZQoL6KK"
   },
   "source": [
    "As we can see above CESSNA and Cessna are seen as two different Makes. I am going to combine such Makes using the .title() method"
   ]
  },
  {
   "cell_type": "code",
   "execution_count": 24,
   "id": "daab6720-3135-4ad2-99d2-dcf66388862c",
   "metadata": {
    "colab": {
     "base_uri": "https://localhost:8080/",
     "height": 490
    },
    "id": "daab6720-3135-4ad2-99d2-dcf66388862c",
    "outputId": "87f11787-0ed1-40fe-c9ec-567957e99947"
   },
   "outputs": [
    {
     "data": {
      "text/plain": [
       "Make\n",
       "Cessna               25535\n",
       "Piper                13857\n",
       "Beech                 4789\n",
       "Bell                  2439\n",
       "Boeing                1230\n",
       "                     ...  \n",
       "Brunnemer                1\n",
       "Fithian                  1\n",
       "Kerr                     1\n",
       "Frandsen                 1\n",
       "James R Dernovsek        1\n",
       "Name: count, Length: 6822, dtype: int64"
      ]
     },
     "execution_count": 24,
     "metadata": {},
     "output_type": "execute_result"
    }
   ],
   "source": [
    "df['Make'] = df['Make'].str.title()\n",
    "df['Make'].value_counts()"
   ]
  },
  {
   "cell_type": "code",
   "execution_count": 25,
   "id": "84e7ba24-8598-45fa-9909-4c77cc9b46cb",
   "metadata": {
    "colab": {
     "base_uri": "https://localhost:8080/"
    },
    "id": "84e7ba24-8598-45fa-9909-4c77cc9b46cb",
    "outputId": "f563d3b7-540f-49bc-9a7d-2a090dff93be"
   },
   "outputs": [
    {
     "data": {
      "text/plain": [
       "{'No': 71025, 'Yes': 7685, ' EURO': 1}"
      ]
     },
     "execution_count": 25,
     "metadata": {},
     "output_type": "execute_result"
    }
   ],
   "source": [
    "df['Amateur.Built'].value_counts().to_dict()"
   ]
  },
  {
   "cell_type": "code",
   "execution_count": 26,
   "id": "5937d09c-ae69-4772-81f5-fadf82578596",
   "metadata": {
    "id": "5937d09c-ae69-4772-81f5-fadf82578596"
   },
   "outputs": [],
   "source": [
    "#dropping EURO\n",
    "df = df[df['Amateur.Built']!= ' EURO']"
   ]
  },
  {
   "cell_type": "code",
   "execution_count": 27,
   "id": "f7f69eda-8040-45a5-acab-1bc4c5c34fe3",
   "metadata": {
    "colab": {
     "base_uri": "https://localhost:8080/"
    },
    "id": "f7f69eda-8040-45a5-acab-1bc4c5c34fe3",
    "outputId": "e154c529-7e5e-48c5-ed1d-21009c1bad58"
   },
   "outputs": [
    {
     "data": {
      "text/plain": [
       "{'Reciprocating': 65759,\n",
       " 'Turbo Shaft': 3226,\n",
       " 'Turbo Prop': 2660,\n",
       " 'Unknown': 1730,\n",
       " 'Turbo Fan': 1108,\n",
       " 'Turbo Jet': 381,\n",
       " 'Electric': 8,\n",
       " 'NONE': 2,\n",
       " 'Geared Turbofan': 1,\n",
       " 'LR': 1}"
      ]
     },
     "execution_count": 27,
     "metadata": {},
     "output_type": "execute_result"
    }
   ],
   "source": [
    "#  Checking unique values and their count in Engine.type\n",
    "df['Engine.Type'].value_counts().to_dict()"
   ]
  },
  {
   "cell_type": "code",
   "execution_count": 28,
   "id": "d0e5170b-cbdd-4137-9dfd-3d0e5cf9dac7",
   "metadata": {
    "colab": {
     "base_uri": "https://localhost:8080/"
    },
    "id": "d0e5170b-cbdd-4137-9dfd-3d0e5cf9dac7",
    "outputId": "7b16ee2f-8b60-44b7-c4cb-b8900b550ebb"
   },
   "outputs": [
    {
     "data": {
      "text/plain": [
       "{'Personal': 45975,\n",
       " 'Instructional': 10108,\n",
       " 'Unknown': 4996,\n",
       " 'Aerial Application': 4522,\n",
       " 'Business': 3725,\n",
       " 'Positioning': 1456,\n",
       " 'Other Work Use': 1110,\n",
       " 'Ferry': 763,\n",
       " 'Aerial Observation': 684,\n",
       " 'Public Aircraft': 682,\n",
       " 'Executive/corporate': 481,\n",
       " 'Flight Test': 346,\n",
       " 'Skydiving': 159,\n",
       " 'Public Aircraft - Federal': 89,\n",
       " 'External Load': 87,\n",
       " 'Banner Tow': 86,\n",
       " 'Public Aircraft - Local': 64,\n",
       " 'Air Race/show': 56,\n",
       " 'Air Race show': 54,\n",
       " 'Public Aircraft - State': 52,\n",
       " 'Glider Tow': 40,\n",
       " 'Firefighting': 22,\n",
       " 'Air Drop': 10,\n",
       " 'PUBS': 2,\n",
       " 'ASHO': 1,\n",
       " 'PUBL': 1}"
      ]
     },
     "execution_count": 28,
     "metadata": {},
     "output_type": "execute_result"
    }
   ],
   "source": [
    "# Checking unique values and their count in Purpose.of.flight\n",
    "df['Purpose.of.flight'].value_counts().to_dict()"
   ]
  },
  {
   "cell_type": "code",
   "execution_count": 29,
   "id": "8b52ffe5-a5de-42b0-8e8c-9b29653ee541",
   "metadata": {
    "id": "8b52ffe5-a5de-42b0-8e8c-9b29653ee541",
    "outputId": "feeb5a3e-6717-4638-ba0b-85ea721604b0"
   },
   "outputs": [
    {
     "data": {
      "text/plain": [
       "{'VMC': 70989, 'IMC': 5021, 'UNK': 728, 'Unk': 74, '0': 2}"
      ]
     },
     "execution_count": 29,
     "metadata": {},
     "output_type": "execute_result"
    }
   ],
   "source": [
    "# Checking unique values and their count in Weather.condition\n",
    "df['Weather.Condition'].value_counts().to_dict()"
   ]
  },
  {
   "cell_type": "code",
   "execution_count": 30,
   "id": "f9c45711-fb37-4ad3-a0c7-066f4be4239c",
   "metadata": {
    "colab": {
     "base_uri": "https://localhost:8080/"
    },
    "id": "f9c45711-fb37-4ad3-a0c7-066f4be4239c",
    "outputId": "6b4ecf32-2f9b-41d5-dad7-9d8d4ca72836"
   },
   "outputs": [],
   "source": [
    "# filling the columns of categorical null values with Unknown.\n",
    "df['Make'] = df['Make'].fillna('Unknown')\n",
    "df['Model'] = df['Model'].fillna('Unknown')\n",
    "df['Amateur.Built'] = df['Amateur.Built'].fillna('Unknown')\n",
    "df['Engine.Type'] = df['Engine.Type'].fillna('Unknown')\n",
    "df['Purpose.of.flight'] = df['Purpose.of.flight'].fillna('Unknown')\n",
    "\n",
    "#dropping the rows with 0 in Weather.condition\n",
    "df = df[df['Weather.Condition'] != '0']\n",
    "#replacing UNK with Unk because both mean Unknown\n",
    "df['Weather.Condition'] = df['Weather.Condition'].fillna('Unk')\n",
    "df['Weather.Condition'] = df['Weather.Condition'].replace('UNK','Unk')"
   ]
  },
  {
   "cell_type": "code",
   "execution_count": 31,
   "id": "d62e1f5c-f5a4-4918-8800-c3b3502866ae",
   "metadata": {
    "colab": {
     "base_uri": "https://localhost:8080/"
    },
    "id": "d62e1f5c-f5a4-4918-8800-c3b3502866ae",
    "outputId": "251defbb-d88a-488f-f361-544a1364b6e1"
   },
   "outputs": [
    {
     "name": "stdout",
     "output_type": "stream",
     "text": [
      "<class 'pandas.core.frame.DataFrame'>\n",
      "Index: 78766 entries, 0 to 88886\n",
      "Data columns (total 19 columns):\n",
      " #   Column                  Non-Null Count  Dtype  \n",
      "---  ------                  --------------  -----  \n",
      " 0   Event.Id                78766 non-null  object \n",
      " 1   Investigation.Type      78766 non-null  object \n",
      " 2   Location                78728 non-null  object \n",
      " 3   Country                 78567 non-null  object \n",
      " 4   Aircraft.damage         78766 non-null  object \n",
      " 5   Make                    78766 non-null  object \n",
      " 6   Model                   78766 non-null  object \n",
      " 7   Amateur.Built           78766 non-null  object \n",
      " 8   Number.of.Engines       75150 non-null  object \n",
      " 9   Engine.Type             78766 non-null  object \n",
      " 10  Purpose.of.flight       78766 non-null  object \n",
      " 11  Total.Fatal.Injuries    68232 non-null  object \n",
      " 12  Total.Serious.Injuries  66965 non-null  float64\n",
      " 13  Total.Minor.Injuries    67663 non-null  float64\n",
      " 14  Total.Uninjured         73032 non-null  float64\n",
      " 15  Weather.Condition       78766 non-null  object \n",
      " 16  Fatality                78182 non-null  Int64  \n",
      " 17  Month                   78766 non-null  int32  \n",
      " 18  Year                    78766 non-null  int32  \n",
      "dtypes: Int64(1), float64(3), int32(2), object(13)\n",
      "memory usage: 11.5+ MB\n"
     ]
    }
   ],
   "source": [
    "df.info()"
   ]
  },
  {
   "cell_type": "code",
   "execution_count": 32,
   "id": "5c5b1d54-9688-478b-baba-7c0fce26cb5c",
   "metadata": {
    "colab": {
     "base_uri": "https://localhost:8080/"
    },
    "id": "5c5b1d54-9688-478b-baba-7c0fce26cb5c",
    "outputId": "6735b855-c638-4bb2-d869-f743f9801db5"
   },
   "outputs": [
    {
     "name": "stdout",
     "output_type": "stream",
     "text": [
      "10534\n",
      "11801\n",
      "11103\n",
      "5734\n",
      "584\n",
      "3616\n"
     ]
    }
   ],
   "source": [
    "print(df['Total.Fatal.Injuries'].isnull().sum())\n",
    "print(df['Total.Serious.Injuries'].isnull().sum())\n",
    "print(df['Total.Minor.Injuries'].isnull().sum())\n",
    "print(df['Total.Uninjured'].isnull().sum())\n",
    "print(df['Fatality'].isnull().sum())\n",
    "print(df['Number.of.Engines'].isnull().sum())"
   ]
  },
  {
   "cell_type": "code",
   "execution_count": 33,
   "id": "sfKyLH7IX4qD",
   "metadata": {
    "colab": {
     "base_uri": "https://localhost:8080/",
     "height": 178
    },
    "id": "sfKyLH7IX4qD",
    "outputId": "317d1f02-cda9-4423-e3ab-cdcea3b243d5"
   },
   "outputs": [
    {
     "data": {
      "text/plain": [
       "same\n",
       "True     40456\n",
       "False    27352\n",
       "Name: count, dtype: Int64"
      ]
     },
     "execution_count": 33,
     "metadata": {},
     "output_type": "execute_result"
    }
   ],
   "source": [
    "# Checking to see how many values in the two columns are the same.\n",
    "df['same'] = (df['Total.Fatal.Injuries'].eq(df['Fatality'])) | (df['Total.Fatal.Injuries'].isna() & df['Fatality'].isna())\n",
    "df['same'].value_counts()"
   ]
  },
  {
   "cell_type": "markdown",
   "id": "wHNHl1M2W-Vw",
   "metadata": {
    "id": "wHNHl1M2W-Vw"
   },
   "source": [
    "Values in the Fatality column are similar to the values in total.fatal by 67.61%\n",
    "I am going to drop the column Total.fatal since it has more null values than Fatality.\n",
    "I'll also drop the 'same column.'"
   ]
  },
  {
   "cell_type": "code",
   "execution_count": 34,
   "id": "wZmd7W_5W8_9",
   "metadata": {
    "colab": {
     "base_uri": "https://localhost:8080/",
     "height": 118
    },
    "id": "wZmd7W_5W8_9",
    "outputId": "e2516e10-589a-4eb1-a0dc-d8873a0849da"
   },
   "outputs": [
    {
     "data": {
      "text/html": [
       "<div>\n",
       "<style scoped>\n",
       "    .dataframe tbody tr th:only-of-type {\n",
       "        vertical-align: middle;\n",
       "    }\n",
       "\n",
       "    .dataframe tbody tr th {\n",
       "        vertical-align: top;\n",
       "    }\n",
       "\n",
       "    .dataframe thead th {\n",
       "        text-align: right;\n",
       "    }\n",
       "</style>\n",
       "<table border=\"1\" class=\"dataframe\">\n",
       "  <thead>\n",
       "    <tr style=\"text-align: right;\">\n",
       "      <th></th>\n",
       "      <th>Event.Id</th>\n",
       "      <th>Investigation.Type</th>\n",
       "      <th>Location</th>\n",
       "      <th>Country</th>\n",
       "      <th>Aircraft.damage</th>\n",
       "      <th>Make</th>\n",
       "      <th>Model</th>\n",
       "      <th>Amateur.Built</th>\n",
       "      <th>Number.of.Engines</th>\n",
       "      <th>Engine.Type</th>\n",
       "      <th>Purpose.of.flight</th>\n",
       "      <th>Total.Serious.Injuries</th>\n",
       "      <th>Total.Minor.Injuries</th>\n",
       "      <th>Total.Uninjured</th>\n",
       "      <th>Weather.Condition</th>\n",
       "      <th>Fatality</th>\n",
       "      <th>Month</th>\n",
       "      <th>Year</th>\n",
       "    </tr>\n",
       "  </thead>\n",
       "  <tbody>\n",
       "    <tr>\n",
       "      <th>10377</th>\n",
       "      <td>20001214X41590</td>\n",
       "      <td>Accident</td>\n",
       "      <td>SANDERSON, TX</td>\n",
       "      <td>United States</td>\n",
       "      <td>Substantial</td>\n",
       "      <td>Cessna</td>\n",
       "      <td>182P</td>\n",
       "      <td>No</td>\n",
       "      <td>1</td>\n",
       "      <td>Reciprocating</td>\n",
       "      <td>Personal</td>\n",
       "      <td>0.0</td>\n",
       "      <td>2.0</td>\n",
       "      <td>0.0</td>\n",
       "      <td>VMC</td>\n",
       "      <td>0</td>\n",
       "      <td>11</td>\n",
       "      <td>1984</td>\n",
       "    </tr>\n",
       "  </tbody>\n",
       "</table>\n",
       "</div>"
      ],
      "text/plain": [
       "             Event.Id Investigation.Type       Location        Country  \\\n",
       "10377  20001214X41590           Accident  SANDERSON, TX  United States   \n",
       "\n",
       "      Aircraft.damage    Make Model Amateur.Built Number.of.Engines  \\\n",
       "10377     Substantial  Cessna  182P            No                 1   \n",
       "\n",
       "         Engine.Type Purpose.of.flight  Total.Serious.Injuries  \\\n",
       "10377  Reciprocating          Personal                     0.0   \n",
       "\n",
       "       Total.Minor.Injuries  Total.Uninjured Weather.Condition  Fatality  \\\n",
       "10377                   2.0              0.0               VMC         0   \n",
       "\n",
       "       Month  Year  \n",
       "10377     11  1984  "
      ]
     },
     "execution_count": 34,
     "metadata": {},
     "output_type": "execute_result"
    }
   ],
   "source": [
    "df.drop(['Total.Fatal.Injuries', 'same'],inplace = True, axis = 1)\n",
    "df.sample()"
   ]
  },
  {
   "cell_type": "code",
   "execution_count": 35,
   "id": "43be6016-0acd-46b4-b4a4-acaccfbce066",
   "metadata": {
    "id": "43be6016-0acd-46b4-b4a4-acaccfbce066"
   },
   "outputs": [],
   "source": [
    "#changing no. of engines to an int\n",
    "df['Number.of.Engines'] = pd.to_numeric(df['Number.of.Engines'], errors='coerce').astype('Int64')"
   ]
  },
  {
   "cell_type": "code",
   "execution_count": 36,
   "id": "75tz2OFVZkF_",
   "metadata": {
    "colab": {
     "base_uri": "https://localhost:8080/"
    },
    "id": "75tz2OFVZkF_",
    "outputId": "fbd706f6-2994-41a7-ae4a-9d837d1d65cf"
   },
   "outputs": [
    {
     "name": "stdout",
     "output_type": "stream",
     "text": [
      "<class 'pandas.core.frame.DataFrame'>\n",
      "Index: 78766 entries, 0 to 88886\n",
      "Data columns (total 18 columns):\n",
      " #   Column                  Non-Null Count  Dtype  \n",
      "---  ------                  --------------  -----  \n",
      " 0   Event.Id                78766 non-null  object \n",
      " 1   Investigation.Type      78766 non-null  object \n",
      " 2   Location                78728 non-null  object \n",
      " 3   Country                 78567 non-null  object \n",
      " 4   Aircraft.damage         78766 non-null  object \n",
      " 5   Make                    78766 non-null  object \n",
      " 6   Model                   78766 non-null  object \n",
      " 7   Amateur.Built           78766 non-null  object \n",
      " 8   Number.of.Engines       75150 non-null  Int64  \n",
      " 9   Engine.Type             78766 non-null  object \n",
      " 10  Purpose.of.flight       78766 non-null  object \n",
      " 11  Total.Serious.Injuries  66965 non-null  float64\n",
      " 12  Total.Minor.Injuries    67663 non-null  float64\n",
      " 13  Total.Uninjured         73032 non-null  float64\n",
      " 14  Weather.Condition       78766 non-null  object \n",
      " 15  Fatality                78182 non-null  Int64  \n",
      " 16  Month                   78766 non-null  int32  \n",
      " 17  Year                    78766 non-null  int32  \n",
      "dtypes: Int64(2), float64(3), int32(2), object(11)\n",
      "memory usage: 11.0+ MB\n"
     ]
    }
   ],
   "source": [
    "df.info()"
   ]
  },
  {
   "cell_type": "markdown",
   "id": "554faa2b-9f72-4a53-a67e-68415366297d",
   "metadata": {
    "id": "554faa2b-9f72-4a53-a67e-68415366297d"
   },
   "source": [
    "## EDA and Data Visualization\n",
    "This section will explore the data in depth and create some visualizations to understand the data in depth.\n",
    "I will make the following visualizations:\n",
    "1. Makes against fatalities\n",
    "2. Models against fatalities\n",
    "3. Makes against minor injuries"
   ]
  },
  {
   "cell_type": "code",
   "execution_count": 37,
   "id": "eca20815-441e-4624-8ad2-be2404937da6",
   "metadata": {
    "id": "eca20815-441e-4624-8ad2-be2404937da6",
    "outputId": "b27be06d-568e-4094-f6c9-174c904ba022"
   },
   "outputs": [
    {
     "name": "stdout",
     "output_type": "stream",
     "text": [
      "Make\n",
      "Cessna               7331\n",
      "Boeing               5817\n",
      "Piper                5147\n",
      "Beech                2802\n",
      "Mcdonnell Douglas    1267\n",
      "Airbus Industrie      990\n",
      "Douglas               962\n",
      "Bell                  846\n",
      "Mooney                524\n",
      "Bellanca              308\n",
      "Name: Fatality, dtype: Int64\n"
     ]
    }
   ],
   "source": [
    "# checking which make had the most most fatal accidents\n",
    "make_fatalities_most = df.groupby('Make')['Fatality'].sum().sort_values(ascending=False)\n",
    "print(make_fatalities_most.head(10))"
   ]
  },
  {
   "cell_type": "markdown",
   "id": "06ePu8vjdL-9",
   "metadata": {
    "id": "06ePu8vjdL-9"
   },
   "source": [
    "Cessna was the aircraft make with the most fatal accidents, followed by Boeing then Piper."
   ]
  },
  {
   "cell_type": "code",
   "execution_count": 38,
   "id": "1b57c699-2438-4d57-b3b5-6c7e9f581b28",
   "metadata": {
    "id": "1b57c699-2438-4d57-b3b5-6c7e9f581b28",
    "outputId": "6f4cfb23-df64-42a4-c497-ef242f69b242"
   },
   "outputs": [
    {
     "data": {
      "image/png": "[encoded data removed]",
      "text/plain": [
       "<Figure size 640x480 with 1 Axes>"
      ]
     },
     "metadata": {},
     "output_type": "display_data"
    }
   ],
   "source": [
    "most_fatal_makes = make_fatalities_most.head(10)\n",
    "\n",
    "plt.barh(most_fatal_makes.index, most_fatal_makes.values, color='#31356e')\n",
    "\n",
    "plt.xlabel('Total Fatal Accidents')\n",
    "plt.ylabel('Make')\n",
    "plt.title('Top 10 Aircraft Makes with Most Fatal Accidents')\n",
    "plt.show()"
   ]
  },
  {
   "cell_type": "code",
   "execution_count": 39,
   "id": "f7545e3b-c3da-4363-801e-c60956447971",
   "metadata": {
    "id": "f7545e3b-c3da-4363-801e-c60956447971",
    "outputId": "c9d555d8-2516-4b67-b07d-1de534e701eb"
   },
   "outputs": [
    {
     "name": "stdout",
     "output_type": "stream",
     "text": [
      "Make\n",
      "Kenneth M Franz         0\n",
      "Miller/Bell             0\n",
      "Miller, Terry W.        0\n",
      "Miller, John            0\n",
      "Miller Steven M         0\n",
      "Miller Gregory Scott    0\n",
      "Miller Gregory S        0\n",
      "Milholland              0\n",
      "Mileski                 0\n",
      "Miller/Culpepper        0\n",
      "Name: Fatality, dtype: Int64\n"
     ]
    }
   ],
   "source": [
    "#checking which makes had the least fatal accidents\n",
    "make_fatalities_least = df.groupby('Make')['Fatality'].sum().sort_values(ascending=True)\n",
    "print(make_fatalities_least.head(10))"
   ]
  },
  {
   "cell_type": "markdown",
   "id": "kg_6z2KcdiH1",
   "metadata": {
    "id": "kg_6z2KcdiH1"
   },
   "source": [
    "These makes had the least fatal accidents(0)"
   ]
  },
  {
   "cell_type": "code",
   "execution_count": 40,
   "id": "aa9bf483-40a9-4bfd-be52-0d1f29caf452",
   "metadata": {
    "id": "aa9bf483-40a9-4bfd-be52-0d1f29caf452",
    "outputId": "c4cbc08b-28b3-4d00-c28d-4fe025cc99bf"
   },
   "outputs": [
    {
     "name": "stdout",
     "output_type": "stream",
     "text": [
      "Model\n",
      "737-200      906\n",
      "DC-9-32      395\n",
      "172N         361\n",
      "PA-28-181    354\n",
      "152          346\n",
      "A320         343\n",
      "767-200ER    295\n",
      "MD-82        285\n",
      "PA-28-140    282\n",
      "747-121      270\n",
      "Name: Fatality, dtype: Int64\n"
     ]
    }
   ],
   "source": [
    "# checking which models had the most fatal accidents\n",
    "model_fatalities_most = df.groupby('Model')['Fatality'].sum().sort_values(ascending=False)\n",
    "print(model_fatalities_most.head(10))"
   ]
  },
  {
   "cell_type": "markdown",
   "id": "wrQUvq9Tds0N",
   "metadata": {
    "id": "wrQUvq9Tds0N"
   },
   "source": [
    "The Boeing 737-200, McDonnell-Douglas DC-9-32 and Cessna 172N models had the most fatal accidents."
   ]
  },
  {
   "cell_type": "code",
   "execution_count": 41,
   "id": "ff9bf627-4abc-46a6-9bed-1f37291076ca",
   "metadata": {
    "id": "ff9bf627-4abc-46a6-9bed-1f37291076ca",
    "outputId": "7ec6d4e7-f0f1-476b-b5c6-e913d0f69960"
   },
   "outputs": [
    {
     "data": {
      "image/png": "[encoded data removed]",
      "text/plain": [
       "<Figure size 640x480 with 1 Axes>"
      ]
     },
     "metadata": {},
     "output_type": "display_data"
    }
   ],
   "source": [
    "most_fatal_model = model_fatalities_most.head(10)\n",
    "plt.barh(most_fatal_model.index, most_fatal_model.values, color='#31356e')\n",
    "\n",
    "plt.xlabel('Total Fatal Accidents')\n",
    "plt.ylabel('Model')\n",
    "plt.title('Top 10 Aircraft Models with Most Fatal Accidents')\n",
    "plt.show()"
   ]
  },
  {
   "cell_type": "code",
   "execution_count": 42,
   "id": "02943745-527b-4f25-b008-2795088fc6bb",
   "metadata": {
    "id": "02943745-527b-4f25-b008-2795088fc6bb",
    "outputId": "ec5564d8-0802-4978-c01d-dab9bd69885f"
   },
   "outputs": [
    {
     "name": "stdout",
     "output_type": "stream",
     "text": [
      "Model\n",
      "&GCBC            0\n",
      "MITCHELL P-38    0\n",
      "MIRAGE F1 B      0\n",
      "MINIPLANE 1      0\n",
      "MINIMAX          0\n",
      "MINICAB GY20     0\n",
      "MINI-PLANE       0\n",
      "MINI-NIMBUS C    0\n",
      "MINI-NIMBUS      0\n",
      "MINI-MAX II      0\n",
      "Name: Fatality, dtype: Int64\n"
     ]
    }
   ],
   "source": [
    "# checking which models had the least fatal accidents.\n",
    "model_fatalities_least = df.groupby('Model')['Fatality'].sum().sort_values(ascending=True)\n",
    "print(model_fatalities_least.head(10))"
   ]
  },
  {
   "cell_type": "code",
   "execution_count": 43,
   "id": "qE1hgOTMbYpX",
   "metadata": {
    "colab": {
     "base_uri": "https://localhost:8080/"
    },
    "id": "qE1hgOTMbYpX",
    "outputId": "b8dd3007-509b-493f-fc01-b5db9b803d9e"
   },
   "outputs": [
    {
     "name": "stdout",
     "output_type": "stream",
     "text": [
      "Make\n",
      "Cessna      22180\n",
      "Piper       12018\n",
      "Beech        4079\n",
      "Bell         2099\n",
      "Boeing       1042\n",
      "Grumman      1039\n",
      "Mooney       1028\n",
      "Bellanca      901\n",
      "Hughes        763\n",
      "Robinson      743\n",
      "Name: Total.Minor.Injuries, dtype: int64\n"
     ]
    }
   ],
   "source": [
    "make_minorinjuries_most = df.groupby('Make')['Total.Minor.Injuries'].count().sort_values(ascending=False)\n",
    "print(make_minorinjuries_most.head(10))"
   ]
  },
  {
   "cell_type": "markdown",
   "id": "S1eBurzoeorC",
   "metadata": {
    "id": "S1eBurzoeorC"
   },
   "source": [
    "The Cessna, Piper and Beech had the most minor injuries\n"
   ]
  },
  {
   "cell_type": "code",
   "execution_count": 44,
   "id": "wgVlA8KzcGAH",
   "metadata": {
    "colab": {
     "base_uri": "https://localhost:8080/",
     "height": 472
    },
    "id": "wgVlA8KzcGAH",
    "outputId": "0df5f53e-1af2-4b9f-ae8b-4641c8ae5d6d"
   },
   "outputs": [
    {
     "data": {
      "image/png": "[encoded data removed]",
      "text/plain": [
       "<Figure size 640x480 with 1 Axes>"
      ]
     },
     "metadata": {},
     "output_type": "display_data"
    }
   ],
   "source": [
    "most_make_minorinjuries = make_minorinjuries_most.head(10)\n",
    "plt.barh(most_make_minorinjuries.index, most_make_minorinjuries.values, color='#31356e')\n",
    "\n",
    "plt.xlabel('Aircraft Make')\n",
    "plt.ylabel('Total Minor Injuries')\n",
    "plt.title('Top 10 Aircraft Makes with Minor Injuries')\n",
    "plt.show()"
   ]
  },
  {
   "cell_type": "code",
   "execution_count": 45,
   "id": "e1d28eb9-26a7-4b62-adaf-0b6be50c3815",
   "metadata": {
    "colab": {
     "base_uri": "https://localhost:8080/"
    },
    "id": "e1d28eb9-26a7-4b62-adaf-0b6be50c3815",
    "outputId": "0f2c4be6-e826-46a8-9f7b-e8b4aa40ca64"
   },
   "outputs": [
    {
     "name": "stdout",
     "output_type": "stream",
     "text": [
      "Number.of.Engines\n",
      "0    0.352071\n",
      "1    0.250744\n",
      "2     0.90386\n",
      "3         4.5\n",
      "4    8.453125\n",
      "6         0.0\n",
      "8         0.0\n",
      "Name: Fatality, dtype: Float64\n"
     ]
    }
   ],
   "source": [
    "#checking if more number of engines equals to a safer plane\n",
    "engines_plane_safety = df.groupby('Number.of.Engines')['Fatality'].mean()\n",
    "print(engines_plane_safety)"
   ]
  },
  {
   "cell_type": "markdown",
   "id": "TIFit890gYnD",
   "metadata": {
    "id": "TIFit890gYnD"
   },
   "source": [
    "Planes with one engine have low average fatalities\n",
    "Planes with 4 engines have very high fatalities per accident.\n",
    "Accidents invloving aircrfat with more engines(3,4) tend to have higher average fatalities."
   ]
  },
  {
   "cell_type": "code",
   "execution_count": 46,
   "id": "a3bc98cf-f7aa-404e-ad74-f84c8c7d4f62",
   "metadata": {
    "colab": {
     "base_uri": "https://localhost:8080/"
    },
    "id": "a3bc98cf-f7aa-404e-ad74-f84c8c7d4f62",
    "outputId": "6da456e6-2d74-4b39-b2d7-2535160ff3dd"
   },
   "outputs": [
    {
     "name": "stdout",
     "output_type": "stream",
     "text": [
      "Number.of.Engines\n",
      "0      357\n",
      "1    16344\n",
      "2     7634\n",
      "3      693\n",
      "4     1623\n",
      "6        0\n",
      "8        0\n",
      "Name: Fatality, dtype: Int64\n"
     ]
    }
   ],
   "source": [
    "# checking the number of fatal accidents by number of engines\n",
    "engines_total_fatal = df.groupby('Number.of.Engines')['Fatality'].sum()\n",
    "print(engines_total_fatal)"
   ]
  },
  {
   "cell_type": "markdown",
   "id": "__58cdO8g5g0",
   "metadata": {
    "id": "__58cdO8g5g0"
   },
   "source": [
    "Planes with 1 engine had more fatal accidents than planes with 4 engines"
   ]
  },
  {
   "cell_type": "code",
   "execution_count": 47,
   "id": "493f24f3-3117-4808-83c0-5e07d6d75319",
   "metadata": {
    "colab": {
     "base_uri": "https://localhost:8080/"
    },
    "id": "493f24f3-3117-4808-83c0-5e07d6d75319",
    "outputId": "eaadfda6-be70-4a19-96fa-f34118bd3d94"
   },
   "outputs": [
    {
     "name": "stdout",
     "output_type": "stream",
     "text": [
      "Engine.Type\n",
      "Reciprocating      18565\n",
      "Unknown             8504\n",
      "Turbo Fan           3850\n",
      "Turbo Prop          1777\n",
      "Turbo Shaft         1127\n",
      "Turbo Jet            796\n",
      "Electric               0\n",
      "Geared Turbofan        0\n",
      "LR                     0\n",
      "NONE                   0\n",
      "Name: Fatality, dtype: Int64\n"
     ]
    }
   ],
   "source": [
    "# checking which engine type had the most fatal accidents\n",
    "engine_fatalities_most = df.groupby('Engine.Type')['Fatality'].sum().sort_values(ascending=False)\n",
    "print(engine_fatalities_most.head(10))"
   ]
  },
  {
   "cell_type": "markdown",
   "id": "gJZT_gnmhu3w",
   "metadata": {
    "id": "gJZT_gnmhu3w"
   },
   "source": [
    "reciprocating has highest fatalities. they are mstly used in small planes which are very common.\n",
    "\n",
    "Turbo fan is common on commercial planes. they have feweraccidents but higher fatality per accident.\n",
    "\n",
    "Turbo shaft is used by helicopters mostly; thus reflecting helicpter accidents."
   ]
  },
  {
   "cell_type": "code",
   "execution_count": 48,
   "id": "0ebdd76a-1596-4cac-bd9a-e08e27cdee68",
   "metadata": {},
   "outputs": [
    {
     "data": {
      "image/png": "[encoded data removed]",
      "text/plain": [
       "<Figure size 1000x600 with 1 Axes>"
      ]
     },
     "metadata": {},
     "output_type": "display_data"
    }
   ],
   "source": [
    "top_engines = engine_fatalities_most.head(10)\n",
    "\n",
    "plt.figure(figsize=(10, 6))\n",
    "plt.barh(top_engines.index, top_engines.values, color='#31356e')\n",
    "plt.xlabel('Engine Type')\n",
    "plt.ylabel('Total Fatalities')\n",
    "plt.title('Total Fatalities by Engine Type')\n",
    "plt.xticks(rotation=45)\n",
    "plt.show()"
   ]
  },
  {
   "cell_type": "code",
   "execution_count": 49,
   "id": "41f92ea7-1f04-40fb-9ef9-5c18c366d7b7",
   "metadata": {
    "colab": {
     "base_uri": "https://localhost:8080/"
    },
    "id": "41f92ea7-1f04-40fb-9ef9-5c18c366d7b7",
    "outputId": "d260dbb4-b8ba-40e0-ab28-3e7e0b0cae26"
   },
   "outputs": [
    {
     "name": "stdout",
     "output_type": "stream",
     "text": [
      "Purpose.of.flight\n",
      "Unknown                14208\n",
      "Personal               14018\n",
      "Business                2010\n",
      "Instructional           1369\n",
      "Executive/corporate      524\n",
      "Positioning              467\n",
      "Public Aircraft          393\n",
      "Aerial Application       382\n",
      "Ferry                    351\n",
      "Other Work Use           336\n",
      "Name: Fatality, dtype: Int64\n"
     ]
    }
   ],
   "source": [
    "purpose_fatalities_most = df.groupby('Purpose.of.flight')['Fatality'].sum().sort_values(ascending=False)\n",
    "print(purpose_fatalities_most.head(10))"
   ]
  },
  {
   "cell_type": "code",
   "execution_count": 50,
   "id": "e1dbc32b-cc07-4280-988a-d39f96d5460e",
   "metadata": {
    "colab": {
     "base_uri": "https://localhost:8080/"
    },
    "id": "e1dbc32b-cc07-4280-988a-d39f96d5460e",
    "outputId": "f059ad4f-7137-4e05-a2f2-789d21f5716f"
   },
   "outputs": [
    {
     "data": {
      "text/plain": [
       "array(['Destroyed', 'Substantial', 'Minor', 'Unknown'], dtype=object)"
      ]
     },
     "execution_count": 50,
     "metadata": {},
     "output_type": "execute_result"
    }
   ],
   "source": [
    "df['Aircraft.damage'].unique()"
   ]
  },
  {
   "cell_type": "code",
   "execution_count": 51,
   "id": "fbc2c844-a6f2-4041-a0aa-6fbfdc3fcefe",
   "metadata": {
    "colab": {
     "base_uri": "https://localhost:8080/"
    },
    "id": "fbc2c844-a6f2-4041-a0aa-6fbfdc3fcefe",
    "outputId": "04211fd9-c22e-4b60-fb6f-c688781d1102"
   },
   "outputs": [
    {
     "name": "stdout",
     "output_type": "stream",
     "text": [
      "Make\n",
      "Cessna            4718\n",
      "Piper             3091\n",
      "Beech             1380\n",
      "Bell               613\n",
      "Mooney             336\n",
      "Grumman            285\n",
      "Bellanca           229\n",
      "Robinson           204\n",
      "Hughes             176\n",
      "Aero Commander     140\n",
      "Name: count, dtype: int64\n"
     ]
    }
   ],
   "source": [
    "# finding out which aircraft make had the most damage\n",
    "destroyed_df = df[df['Aircraft.damage'] == 'Destroyed']\n",
    "\n",
    "destroyed_damage_counts = destroyed_df['Make'].value_counts().sort_values(ascending=False)\n",
    "print(destroyed_damage_counts.head(10))"
   ]
  },
  {
   "cell_type": "markdown",
   "id": "6Z56Soa4j2hO",
   "metadata": {
    "id": "6Z56Soa4j2hO"
   },
   "source": [
    "Cessna and Piper are some common light aircrfat thus having high accident exposure.\n",
    "\n",
    "Bell is a major manufacturer of helicopters thus the high number.\n",
    "\n",
    "Hughes was a major helicopter mnufacturer especially for the military thus the slightly high number."
   ]
  },
  {
   "cell_type": "code",
   "execution_count": 52,
   "id": "7f9f4249-597c-4d97-81e7-073260f7acc9",
   "metadata": {
    "colab": {
     "base_uri": "https://localhost:8080/"
    },
    "id": "7f9f4249-597c-4d97-81e7-073260f7acc9",
    "outputId": "6baa9f31-d37d-420e-c3fa-3f528f966b89"
   },
   "outputs": [
    {
     "name": "stdout",
     "output_type": "stream",
     "text": [
      "Make\n",
      "Colliander                  1\n",
      "Vultee                      1\n",
      "Farrington                  1\n",
      "Bonds & Bungey              1\n",
      "Daniels                     1\n",
      "Stolt                       1\n",
      "Wheeler Technology, Inc.    1\n",
      "Custom Aerotech, Inc.       1\n",
      "Leffler/Mcfarlane           1\n",
      "Warkentin                   1\n",
      "Name: count, dtype: int64\n"
     ]
    }
   ],
   "source": [
    "#finding which had the least damage\n",
    "minor_df = df[df['Aircraft.damage'] == 'Destroyed']\n",
    "\n",
    "minor_damage_counts = minor_df['Make'].value_counts().sort_values(ascending=True)\n",
    "print(minor_damage_counts.head(10))"
   ]
  },
  {
   "cell_type": "code",
   "execution_count": 53,
   "id": "a7ee1dd7-9b5f-41bb-9844-b272baa9a348",
   "metadata": {
    "colab": {
     "base_uri": "https://localhost:8080/"
    },
    "id": "a7ee1dd7-9b5f-41bb-9844-b272baa9a348",
    "outputId": "0f4659a9-1f82-4569-e355-81c00fd8e0e0"
   },
   "outputs": [
    {
     "name": "stdout",
     "output_type": "stream",
     "text": [
      "<class 'pandas.core.frame.DataFrame'>\n",
      "Index: 78766 entries, 0 to 88886\n",
      "Data columns (total 18 columns):\n",
      " #   Column                  Non-Null Count  Dtype  \n",
      "---  ------                  --------------  -----  \n",
      " 0   Event.Id                78766 non-null  object \n",
      " 1   Investigation.Type      78766 non-null  object \n",
      " 2   Location                78728 non-null  object \n",
      " 3   Country                 78567 non-null  object \n",
      " 4   Aircraft.damage         78766 non-null  object \n",
      " 5   Make                    78766 non-null  object \n",
      " 6   Model                   78766 non-null  object \n",
      " 7   Amateur.Built           78766 non-null  object \n",
      " 8   Number.of.Engines       75150 non-null  Int64  \n",
      " 9   Engine.Type             78766 non-null  object \n",
      " 10  Purpose.of.flight       78766 non-null  object \n",
      " 11  Total.Serious.Injuries  66965 non-null  float64\n",
      " 12  Total.Minor.Injuries    67663 non-null  float64\n",
      " 13  Total.Uninjured         73032 non-null  float64\n",
      " 14  Weather.Condition       78766 non-null  object \n",
      " 15  Fatality                78182 non-null  Int64  \n",
      " 16  Month                   78766 non-null  int32  \n",
      " 17  Year                    78766 non-null  int32  \n",
      "dtypes: Int64(2), float64(3), int32(2), object(11)\n",
      "memory usage: 11.0+ MB\n"
     ]
    }
   ],
   "source": [
    "df.info()"
   ]
  },
  {
   "cell_type": "code",
   "execution_count": 54,
   "id": "8edc6ad6-98b0-4cea-9a7f-30106bf15a4a",
   "metadata": {
    "id": "8edc6ad6-98b0-4cea-9a7f-30106bf15a4a"
   },
   "outputs": [],
   "source": [
    "#exporting the filtered df as a csv\n",
    "import os\n",
    "os.makedirs('/home/muchiri/Moringa', exist_ok=True)\n",
    "df.to_csv('/home/muchiri/Moringa/aviation_final.csv')"
   ]
  },
  {
   "cell_type": "code",
   "execution_count": null,
   "id": "112c6cdd-133b-46f0-9223-8632f8914f35",
   "metadata": {
    "id": "112c6cdd-133b-46f0-9223-8632f8914f35"
   },
   "outputs": [],
   "source": []
  }
 ],
 "metadata": {
  "colab": {
   "provenance": []
  },
  "kernelspec": {
   "display_name": "Python 3 (ipykernel)",
   "language": "python",
   "name": "python3"
  },
  "language_info": {
   "codemirror_mode": {
    "name": "ipython",
    "version": 3
   },
   "file_extension": ".py",
   "mimetype": "text/x-python",
   "name": "python",
   "nbconvert_exporter": "python",
   "pygments_lexer": "ipython3",
   "version": "3.12.7"
  }
 },
 "nbformat": 4,
 "nbformat_minor": 5
}
